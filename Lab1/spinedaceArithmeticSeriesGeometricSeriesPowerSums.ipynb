{
  "nbformat": 4,
  "nbformat_minor": 0,
  "metadata": {
    "colab": {
      "provenance": [],
      "include_colab_link": true
    },
    "kernelspec": {
      "name": "python3",
      "display_name": "Python 3"
    }
  },
  "cells": [
    {
      "cell_type": "markdown",
      "metadata": {
        "id": "view-in-github",
        "colab_type": "text"
      },
      "source": [
        "<a href=\"https://colab.research.google.com/github/spinedace/AlgorithmsUN2023II/blob/main/Lab1/spinedaceArithmeticSeriesGeometricSeriesPowerSums.ipynb\" target=\"_parent\"><img src=\"https://colab.research.google.com/assets/colab-badge.svg\" alt=\"Open In Colab\"/></a>"
      ]
    },
    {
      "cell_type": "markdown",
      "source": [
        "# Name: Santiago Alfonso Pineda Ceballos\n",
        "# Number in the list : 22\n",
        "# Last digit of the number in the list: 2"
      ],
      "metadata": {
        "id": "xbAWD-q6yn-x"
      }
    },
    {
      "cell_type": "markdown",
      "metadata": {
        "id": "r4rXWI4gCN5B"
      },
      "source": [
        "# Arithmetic Series\n",
        "\n",
        "## Modified from Arithmetic Series -  [Wolfram MathWorld](https://mathworld.wolfram.com/ArithmeticSeries.html) - [wikipedia](https://en.wikipedia.org/wiki/Arithmetic_progression)\n",
        "\n",
        "\n",
        "An arithmetic sequence $\\{a_k\\}$ for $k=1, 2, ..., $ in which each term is computed from the previous one by adding (or subtracting) a constant $d$.\n",
        "\n",
        "\\begin{align*}\n",
        "a_1 & \\\\\n",
        "a_2 &\\ \\ =\\ \\ a_1 + d  \\\\\n",
        "a_3 &\\ \\ =\\ \\ a_2 + d \\ \\ =\\ \\ a_1 + 2d   \\\\\n",
        "a_4 &\\ \\ =\\ \\ a_3 + d \\ \\ =\\ \\ a_2 + 2d \\ \\ =\\ \\ a_1 + 3d  \\\\\n",
        "\\vdots\\\\\n",
        "a_k &\\ \\ =\\ \\ a_{(k-1)}+d \\ =\\  a_{(k-2)}+2d \\ =\\  \\ldots \\ =\\  \\ a_1+(k-1)d\n",
        "\\end{align*}\n",
        "\n",
        "Therefore, for $k>=1$,\n",
        "\n",
        "$$ a_k = a_1 + (k-1)d$$\n",
        "\n",
        "With $a_1$ and $d$ given.\n",
        "\n",
        "<br />\n",
        "\n",
        "The sequence of the partial sum of the first $n$ terms of a sequence is called a series, in the case of an arithemetic sequence the series is called an arithmetic series.\n",
        "\n",
        "If  $a_1= 1$ and $d=1$ we have, the simplest arithmnetic sequence,  the natural numbers sequence $\\{a_k = k \\}$ for  $k=1, 2, ..., $  i.e. the seuqnece\n",
        "$$1, 2, ...,$$\n",
        "The  corresponding series is\n",
        "$$\n",
        "S_n = 1 + 2+ \\ldots + (n-1)+ n = \\sum_{k=1}^n k\n",
        "$$\n",
        "can be calculated as a function of $n$.\n",
        "\n",
        "Assume that we allign one $S_{n-1}$ with a second  $S_{n-1}$ that have the terms adden reverse order and you add term to term, we have\n",
        "\\begin{array}{llclclclclc}\n",
        "  S_{n-1} &=& 1 &+& 2 &+& \\ldots &+& (n-2) &+& (n-1) \\\\\n",
        "  S_{n-1} &=& (n-1)  &+& (n-2)  &+& \\ldots   &+& 2   &+& 1 \\\\\n",
        "   \\hline \\\\\n",
        "   2S_{n-1} &=& n  &+& n  &+& \\ldots   &+& n   &+& n \\\\\n",
        "\\end{array}\n",
        "so\n",
        "$$  2S_{n-1} = (n-1)n $$\n",
        "then\n",
        "$$  S_{n-1} = \\frac{1}{2} (n-1)n$$\n",
        "therefore\n",
        "$$  S_{n} = \\frac{1}{2} n(n+1)$$\n",
        "\n",
        "\n",
        "\\begin{align*}\n",
        "S_n &= \\sum_{k=1}^n a_k\t\\\\\n",
        "    &= \\sum_{k=1}^n[a_1+(k-1)d]\t\t\\\\\n",
        "    &= na_1 + d \\sum_{k=1}^n(k-1)\t\\\\\n",
        "    &= na_1 + d \\sum_{k=0}^{n-1} k\t\\\\\n",
        "    &= na_1 + d \\sum_{k=1}^{n-1} k\t\\\\\n",
        "    &= na_1 +  \\frac{1}{2} d(n-1)n\\\\\n",
        "\\end{align*}\n",
        "so\n",
        "$$ S_n =  \\frac{1}{2} n[2 a_1 +d(n-1)].$$\n",
        "\n",
        "Note, however, that\n",
        "$$a_1+a_n=a_1+[a_1+d(n-1)]=2a_1+d(n-1),$$\n",
        "so\n",
        "$$S_n = \\frac{1}{2}n(a_1+a_n),$$\n",
        "\n",
        "\n",
        "or $n$ times the arithmetic mean of the first and last terms! This is the trick Gauss used as a schoolboy to solve the problem of summing the integers from $1$ to $100$ given as busy-work by his teacher. While his classmates toiled away doing the addition longhand, Gauss wrote a single number, the correct answer\n",
        "\n",
        "$$\\frac{1}{2}(100)(1+100)=50·101=5050$$\n",
        "on his slate (Burton 1989, pp. 80-81; Hoffman 1998, p. 207). When the answers were examined, Gauss's proved to be the only correct one.\n",
        "\n",
        "<br />\n",
        "\n",
        "If  the sequence starts at index $0$, $\\{a_k\\}$ for $ k=0, 1, 2, ..., $ we have\n",
        "\n",
        "\\begin{align*}\n",
        "a_0 & \\\\\n",
        "a_1 &\\ \\ =\\ \\ a_0 + d  \\\\\n",
        "a_2 &\\ \\ =\\ \\ a_1 + d \\ \\ =\\ \\ a_0 + 2d   \\\\\n",
        "a_3 &\\ \\ =\\ \\ a_2 + d \\ \\ =\\ \\ a_1 + 2d \\ \\ =\\ \\ a_0 + 3d  \\\\\n",
        "\\vdots\\\\\n",
        "a_k &\\ \\ =\\ \\ a_{(k-1)}+d \\ =\\  a_{(k-2)}+2d \\ =\\  \\ldots \\ = \\  \\ a_1+(k-1)d \\ \\ =\\ \\ a_0+kd\n",
        "\\end{align*}\n",
        "\n",
        "<br />\n",
        "for given   $a_0$ and $d$.\n",
        "\n",
        "In this case the sum of the terms between $0$ and $n$ of  the arithemnetic sequence  is then given by\n",
        "\\begin{align*}\n",
        "S_n &= \\sum_{k=0}^{n} a_k\t\\\\\n",
        "    &= \\sum_{k=0}^{n}[a_0+kd]\t\t\\\\\n",
        "    &= (n+1) a_0 + d \\sum_{k=0}^{n} k\t\\\\\n",
        "    &= (n+1) a_0 + d \\sum_{k=1}^{} k\t\\\\\n",
        "    &=(n+1) a_0+  \\frac{1}{2} dn(n+1) \\\\\n",
        "\\end{align*}\n",
        "so\n",
        "$$ S_n =  \\frac{1}{2} (n+1)[2 a_0 + dn].$$\n",
        "<br />\n",
        "$$ S_n =  \\frac{1}{2} (n+1)[a_0+ a_n].$$\n",
        "\n",
        "\n"
      ]
    },
    {
      "cell_type": "markdown",
      "metadata": {
        "id": "GfBh-QHRcods"
      },
      "source": [
        "### Code\n",
        "####  The simplest arithmetic sequence and series\n",
        "\n",
        "The simplest arithmnetic sequence is\n",
        "\n",
        "\n",
        "$$a_n = 1, 2, ...,$$"
      ]
    },
    {
      "cell_type": "markdown",
      "metadata": {
        "id": "n36eWqEXiktl"
      },
      "source": [
        "The following code plots the first $n = 15$ terms of the simplest arithmnetic sequence\n",
        "$$\\{a_n = n\\} \\text{ for } n =1,2,\\ldots  $$\n",
        "i.e\n",
        "$$\\{a_n = n\\} =1,2,\\ldots $$\n",
        "adn the corresponding terms of the simplest arithmnetic series\n",
        "$$  S_n = 1 + 2+ \\ldots + (n-1)+ n = \\sum_{k=1}^n k=  \\frac{1}{2} n(n+1)$$\n"
      ]
    },
    {
      "cell_type": "markdown",
      "metadata": {
        "id": "_VyGiunIZknK"
      },
      "source": [
        "Plot"
      ]
    },
    {
      "cell_type": "code",
      "metadata": {
        "colab": {
          "base_uri": "https://localhost:8080/",
          "height": 448
        },
        "id": "gx3Q4uo-ONCi",
        "outputId": "a648e669-eab4-480b-9215-8c6c72cb144f"
      },
      "source": [
        "import matplotlib.pyplot as plt\n",
        "import numpy as np\n",
        "\n",
        "n = 15\n",
        "S_n = 0\n",
        "Serie_S_n=[]\n",
        "Sequence_a_n =[]\n",
        "for i in range(1,n+1):\n",
        "  S_n = S_n + i\n",
        "  Serie_S_n.append(S_n)\n",
        "  Sequence_a_n.append(i)\n",
        "\n",
        "\n",
        "plt.plot(np.arange(1, n+1),Serie_S_n, color='black',label='Serie_S_n')\n",
        "plt.plot(np.arange(1, n+1), Sequence_a_n, color='red',label='Sequence_a_n')\n",
        "plt.xticks(np.arange(1, n+1))\n",
        "plt.legend()\n",
        "\n",
        "\n"
      ],
      "execution_count": null,
      "outputs": [
        {
          "output_type": "execute_result",
          "data": {
            "text/plain": [
              "<matplotlib.legend.Legend at 0x7f9e4564e4d0>"
            ]
          },
          "metadata": {},
          "execution_count": 1
        },
        {
          "output_type": "display_data",
          "data": {
            "text/plain": [
              "<Figure size 640x480 with 1 Axes>"
            ],
            "image/png": "[encoded data removed]"
          },
          "metadata": {}
        }
      ]
    },
    {
      "cell_type": "code",
      "metadata": {
        "colab": {
          "base_uri": "https://localhost:8080/"
        },
        "id": "o2es6b4cysQk",
        "outputId": "2d8875c7-e4c1-49cc-9b38-028475c5f19f"
      },
      "source": [
        "Sequence_a_n"
      ],
      "execution_count": null,
      "outputs": [
        {
          "output_type": "execute_result",
          "data": {
            "text/plain": [
              "[1, 2, 3, 4, 5, 6, 7, 8, 9, 10, 11, 12, 13, 14, 15]"
            ]
          },
          "metadata": {
            "tags": []
          },
          "execution_count": 12
        }
      ]
    },
    {
      "cell_type": "code",
      "metadata": {
        "colab": {
          "base_uri": "https://localhost:8080/"
        },
        "id": "T2VeBOBZ0ibg",
        "outputId": "daaf6544-5edd-4843-a485-505e1a06a3f7"
      },
      "source": [
        "Serie_S_n"
      ],
      "execution_count": null,
      "outputs": [
        {
          "output_type": "execute_result",
          "data": {
            "text/plain": [
              "[1, 3, 6, 10, 15, 21, 28, 36, 45, 55, 66, 78, 91, 105, 120]"
            ]
          },
          "metadata": {
            "tags": []
          },
          "execution_count": 14
        }
      ]
    },
    {
      "cell_type": "markdown",
      "metadata": {
        "id": "0ybfJdHxZGvW"
      },
      "source": [
        "The following code computes the  $n=10000000$  term of the airthmetic series\n",
        "$$  S_n = 1 + 2+ \\ldots + (n-1)+ n = \\sum_{k=1}^n =  \\frac{1}{2} n(n+1)$$"
      ]
    },
    {
      "cell_type": "code",
      "metadata": {
        "colab": {
          "base_uri": "https://localhost:8080/"
        },
        "id": "99xYHDQycnol",
        "outputId": "a21e2f92-385a-4cea-910f-7e32bafd11e4"
      },
      "source": [
        "n = 10000000\n",
        "S_n = 0\n",
        "for i in range(1,n+1):  # range(n+1) goes form 1 to n\n",
        "  S_n = S_n + i\n",
        "print(S_n)"
      ],
      "execution_count": null,
      "outputs": [
        {
          "output_type": "stream",
          "text": [
            "50000005000000\n"
          ],
          "name": "stdout"
        }
      ]
    },
    {
      "cell_type": "code",
      "metadata": {
        "colab": {
          "base_uri": "https://localhost:8080/"
        },
        "id": "RGCSuDGHeFwH",
        "outputId": "e1d60652-ce77-4933-a4dc-fa178257f349"
      },
      "source": [
        "(1/2)*n*(n+1)"
      ],
      "execution_count": null,
      "outputs": [
        {
          "output_type": "execute_result",
          "data": {
            "text/plain": [
              "50000005000000.0"
            ]
          },
          "metadata": {
            "tags": []
          },
          "execution_count": 8
        }
      ]
    },
    {
      "cell_type": "markdown",
      "metadata": {
        "id": "bg8zxAhcecpk"
      },
      "source": [
        "The following code computes the $n=10000000$ term of the airthmetic series\n",
        "$$ S_n  = \\sum_{k=1}^n a_k$$\n",
        "\n",
        "<br />\n",
        "for the airthmetic sequence $a_k = 10 + 3 (k-1) $ for $k=1,2,\\ldots$\n",
        "\n",
        "<br />\n",
        "$$ 10,13,16,19,21,\\ldots$$\n"
      ]
    },
    {
      "cell_type": "markdown",
      "metadata": {
        "id": "hg3ixQ3bZiVh"
      },
      "source": [
        "Plot"
      ]
    },
    {
      "cell_type": "code",
      "metadata": {
        "colab": {
          "base_uri": "https://localhost:8080/"
        },
        "id": "w8FP1XqSgnie",
        "outputId": "4a81915d-b3b6-4089-cb05-5a46b03ba87f"
      },
      "source": [
        "n = 10000000\n",
        "a = 10\n",
        "d = 3 #\n",
        "S_n = 0\n",
        "for i in range(1,n+1):  # range(n+19 goes form 1 to n\n",
        "  a_n = a + d * (i-1)\n",
        "  S_n = S_n + a_n\n",
        "print(S_n)"
      ],
      "execution_count": null,
      "outputs": [
        {
          "output_type": "stream",
          "text": [
            "150000085000000\n"
          ],
          "name": "stdout"
        }
      ]
    },
    {
      "cell_type": "code",
      "metadata": {
        "colab": {
          "base_uri": "https://localhost:8080/"
        },
        "id": "g_38RfB_hgg2",
        "outputId": "088f349a-3f72-4e5d-b977-30b61ddcbb25"
      },
      "source": [
        "n*(2*a +d*(n-1))/2"
      ],
      "execution_count": null,
      "outputs": [
        {
          "output_type": "execute_result",
          "data": {
            "text/plain": [
              "150000085000000.0"
            ]
          },
          "metadata": {
            "tags": []
          },
          "execution_count": 25
        }
      ]
    },
    {
      "cell_type": "code",
      "metadata": {
        "colab": {
          "base_uri": "https://localhost:8080/"
        },
        "id": "zS3qb_xE1u58",
        "outputId": "3a90e3cb-788b-49cc-db02-6b53b4d092d9"
      },
      "source": [
        "n*(a +a_n)/2"
      ],
      "execution_count": null,
      "outputs": [
        {
          "output_type": "execute_result",
          "data": {
            "text/plain": [
              "150000085000000.0"
            ]
          },
          "metadata": {
            "tags": []
          },
          "execution_count": 26
        }
      ]
    },
    {
      "cell_type": "code",
      "metadata": {
        "colab": {
          "base_uri": "https://localhost:8080/",
          "height": 449
        },
        "id": "7qesKez70zub",
        "outputId": "9ab4e9e3-eb40-4d98-dac5-8b60d240378f"
      },
      "source": [
        "import matplotlib.pyplot as plt\n",
        "import numpy as np\n",
        "\n",
        "n = 20\n",
        "a = 10\n",
        "d = 3\n",
        "S_n = 0\n",
        "Serie_S_n=[]\n",
        "Sequence_a_n =[]\n",
        "for i in range(1,n+1):  # range(n+1) goes form 1 to n\n",
        "  a_n = a + d * (i-1)\n",
        "  S_n = S_n + a_n\n",
        "  Serie_S_n.append(S_n)\n",
        "  Sequence_a_n.append(a_n)\n",
        "\n",
        "plt.plot(np.arange(1, n+1),Serie_S_n, color='black',label='Serie_S_n')\n",
        "plt.plot(np.arange(1, n+1),Sequence_a_n, color='red',label='Sequence_a_n')\n",
        "plt.xticks(np.arange(1, n+1))\n",
        "plt.legend()"
      ],
      "execution_count": null,
      "outputs": [
        {
          "output_type": "execute_result",
          "data": {
            "text/plain": [
              "<matplotlib.legend.Legend at 0x7c3dadd427d0>"
            ]
          },
          "metadata": {},
          "execution_count": 1
        },
        {
          "output_type": "display_data",
          "data": {
            "text/plain": [
              "<Figure size 640x480 with 1 Axes>"
            ],
            "image/png": "[encoded data removed]"
          },
          "metadata": {}
        }
      ]
    },
    {
      "cell_type": "markdown",
      "source": [
        "## Your own example of arithmetic series $a_1$ is your list number and $d$ as the last digit of the your list number\n",
        "\n",
        "## $a_1$=22\n",
        "## $a_0$=20\n",
        "## $d$=2"
      ],
      "metadata": {
        "id": "lACNVDS6BAWa"
      }
    },
    {
      "cell_type": "markdown",
      "source": [
        "Plot"
      ],
      "metadata": {
        "id": "BIf0OmhX_frm"
      }
    },
    {
      "cell_type": "code",
      "source": [
        "n = 10000000\n",
        "a = 20\n",
        "d = 2\n",
        "S_n = 0\n",
        "for i in range(1,n+1):  # range(n+19 goes form 1 to n\n",
        "  a_n = a + d * (i - 1)\n",
        "  S_n = S_n + a_n\n",
        "print(S_n)"
      ],
      "metadata": {
        "id": "QjJDx28sEV22",
        "colab": {
          "base_uri": "https://localhost:8080/"
        },
        "outputId": "ecdf6b34-782c-4794-9774-7d6db846e797"
      },
      "execution_count": 18,
      "outputs": [
        {
          "output_type": "stream",
          "name": "stdout",
          "text": [
            "100000190000000\n"
          ]
        }
      ]
    },
    {
      "cell_type": "code",
      "source": [
        "n*(2*a +d*(n-1))/2"
      ],
      "metadata": {
        "id": "3l2IV6BOEVv2",
        "colab": {
          "base_uri": "https://localhost:8080/"
        },
        "outputId": "bb0051b6-4c47-4bdd-bc12-3c0cf0eea7a6"
      },
      "execution_count": 5,
      "outputs": [
        {
          "output_type": "execute_result",
          "data": {
            "text/plain": [
              "100000190000000.0"
            ]
          },
          "metadata": {},
          "execution_count": 5
        }
      ]
    },
    {
      "cell_type": "code",
      "source": [
        "n*(a +a_n)/2"
      ],
      "metadata": {
        "id": "hWDNr6kHEVmm",
        "colab": {
          "base_uri": "https://localhost:8080/"
        },
        "outputId": "67397389-ee57-4da8-d4b6-3d22d7893cba"
      },
      "execution_count": 6,
      "outputs": [
        {
          "output_type": "execute_result",
          "data": {
            "text/plain": [
              "100000190000000.0"
            ]
          },
          "metadata": {},
          "execution_count": 6
        }
      ]
    },
    {
      "cell_type": "code",
      "source": [
        "import matplotlib.pyplot as plt\n",
        "import numpy as np\n",
        "\n",
        "n = 20\n",
        "a = 20\n",
        "d = 2\n",
        "S_n = 0\n",
        "Serie_S_n=[]\n",
        "Sequence_a_n =[]\n",
        "for i in range(1,n+1):  # range(n+1) goes form 1 to n\n",
        "  a_n = a + d * (i - 1)\n",
        "  S_n = S_n + a_n\n",
        "  Serie_S_n.append(S_n)\n",
        "  Sequence_a_n.append(a_n)\n",
        "\n",
        "plt.plot(np.arange(1, n+1),Serie_S_n, color='black',label='Serie_S_n')\n",
        "plt.plot(np.arange(1, n+1),Sequence_a_n, color='red',label='Sequence_a_n')\n",
        "plt.xticks(np.arange(1, n+1))\n",
        "plt.legend()"
      ],
      "metadata": {
        "colab": {
          "base_uri": "https://localhost:8080/",
          "height": 448
        },
        "id": "x-361WExBpmC",
        "outputId": "f710b689-4899-483c-c6ba-ac03b6754963"
      },
      "execution_count": 17,
      "outputs": [
        {
          "output_type": "execute_result",
          "data": {
            "text/plain": [
              "<matplotlib.legend.Legend at 0x7c8953c17610>"
            ]
          },
          "metadata": {},
          "execution_count": 17
        },
        {
          "output_type": "display_data",
          "data": {
            "text/plain": [
              "<Figure size 640x480 with 1 Axes>"
            ],
            "image/png": "[encoded data removed]"
          },
          "metadata": {}
        }
      ]
    },
    {
      "cell_type": "code",
      "source": [
        "print (Sequence_a_n)"
      ],
      "metadata": {
        "colab": {
          "base_uri": "https://localhost:8080/"
        },
        "id": "5lmOLaBjB4gE",
        "outputId": "453e0e23-8b19-4c21-a68e-c6c05e42f47f"
      },
      "execution_count": 19,
      "outputs": [
        {
          "output_type": "stream",
          "name": "stdout",
          "text": [
            "[20, 22, 24, 26, 28, 30, 32, 34, 36, 38, 40, 42, 44, 46, 48, 50, 52, 54, 56, 58]\n"
          ]
        }
      ]
    },
    {
      "cell_type": "code",
      "source": [
        "print (Serie_S_n)"
      ],
      "metadata": {
        "colab": {
          "base_uri": "https://localhost:8080/"
        },
        "id": "DCS0cq-LCVjV",
        "outputId": "b28c9418-a0d1-4038-ef86-382534b93bdd"
      },
      "execution_count": 20,
      "outputs": [
        {
          "output_type": "stream",
          "name": "stdout",
          "text": [
            "[20, 42, 66, 92, 120, 150, 182, 216, 252, 290, 330, 372, 416, 462, 510, 560, 612, 666, 722, 780]\n"
          ]
        }
      ]
    },
    {
      "cell_type": "markdown",
      "metadata": {
        "id": "AKWJ1F7hac8T"
      },
      "source": [
        "# Geometric Series\n",
        "\n",
        "## Modified from Geometric Series -  [Wolfram MathWorld](https://mathworld.wolfram.com/GeometricSeries.html) - [wikipedia](https://en.wikipedia.org/wiki/Geometric_series)\n"
      ]
    },
    {
      "cell_type": "markdown",
      "metadata": {
        "id": "W5zx_-nR81GI"
      },
      "source": [
        "An geometric series is the sum of a sequence $\\{a_k\\}$ for $k=1, 2, ..., $ in which each term is computed from the previous  by multipliying constant $r$ and starts with 1.\n",
        "\n",
        "\\begin{align*}\n",
        "a_0 &\\ \\ =\\ \\ r^0 \\ \\ =\\ \\ 1\\\\\n",
        "a_1 &\\ \\ =\\ \\ a_0 *  r \\ \\ =\\ \\  r\\\\\n",
        "a_2 &\\ \\ =\\ \\ a_1 * r\\ \\ =\\ \\ a_0 * r^2  \\ \\ =\\ \\ r^2 \\\\\n",
        "a_3 &\\ \\ =\\ \\ a_2 * r \\ \\ =\\ \\ a_0 * r^3 \\ \\ =\\ \\  r^3  \\\\\n",
        "a_4 &\\ \\ =\\ \\ a_3 * r\\ \\  =\\ \\ a_0 * r^4 \\ \\  =\\ \\ r^4  \\\\\n",
        "\\vdots\\\\\n",
        "a_k &\\ \\ =\\ \\ a_{(k-1)}* r \\ =\\   a_0 * r^k \\ \\  =\\ \\  r^k\n",
        "\\end{align*}\n",
        "\n",
        "The sum of the first $n$ terms  of  the geometric sequence (called an geometric serie)  is then given by\n",
        "$$\n",
        "\\begin{array}{ll}\n",
        "S_n &=  1 + r + r^2 + \\cdots + r^{n-1} +r^n \\\\\n",
        " &=  (1 + r + r^2 + \\cdots + r^{n-1} ) +r^n \\\\\n",
        " &= S_{n-1}  +r^n\n",
        "\\end{array}\n",
        "$$\n",
        "\n",
        "$$\n",
        "\\begin{array}{ll}\n",
        "S_n &=  1 + r + r^2 + \\cdots + r^{n-1} +r^n \\\\\n",
        " &=  1 + (r + r^2 + \\cdots + r^{n-1}  +r^n)  \\\\\n",
        " &=   1 + r (1 +  r  + r^2 + \\cdots + r^{n-1} )  \\\\\n",
        "  &=   1 + r   S_{n-1}\n",
        "\\end{array}\n",
        "$$\n",
        "\n",
        "Then\n",
        "$$\n",
        " S_{n-1}  +r^n =   1 + r   S_{n-1}\n",
        "$$\n",
        "\n",
        "Therefore\n",
        "$$\n",
        " S_{n-1} (1 -r)   +r^n =   1 - r^n\n",
        "$$\n",
        "\n",
        "$$\n",
        " S_{n-1}   =   \\frac{1 - r^n }{1 -r}\n",
        "$$\n",
        "\n",
        "$$\n",
        " S_{n}   =   \\frac{1 - r^{n+1} }{1 -r}  = \\frac{ r^{n+1} - 1}{r -1}\n",
        "$$\n"
      ]
    },
    {
      "cell_type": "markdown",
      "metadata": {
        "id": "CDUYfT8k8crr"
      },
      "source": [
        "## Nodes in Complete Binary Tree with $L=0,1,2,\\cdots , L-1$ levels\n",
        "\n",
        "![](https://raw.githubusercontent.com/gjhernandezp/algorithms/master/Lab7/ComBinTree.png)\n",
        "\n",
        "In a complete binary tree you have in ecah level $k =0,1,2,\\cdots $  $ 2^k $\n",
        "\n",
        "$$\n",
        "\\begin{array}{ll}\n",
        "\\text {Level } 0 \\rightarrow 2^0 = 1 \\text { node (root)} \\\\\n",
        "\\text {Level } 1 \\rightarrow 2^1 = 2 \\text { nodes} \\\\\n",
        "\\text {Level } 2 \\rightarrow 2^2 = 4 \\text { nodes} \\\\\n",
        "\\text {Level } 3 \\rightarrow 2^3 = 8 \\text { nodes} \\\\\n",
        "\\vdots\\\\\n",
        "\\text {Level } k \\rightarrow 2^k  \\text { nodes} \\\\\n",
        "\\end{array}\n",
        "$$\n",
        "\n",
        "nodes, with $l = 0,1,2, ... $ the level\n",
        "\n",
        "Total number of the complte tree with $L=0,1,2,\\cdots , L-1$ levels\n",
        "\n",
        "$$\n",
        "2^0 + 2^1 + 2^2 + \\cdots +2^{L-1}  = 1 + 2 + 4 + \\cdots +2^{L-1} = \\sum_{k=0}^{L-1} 2^k = \\frac{ 2^{L} - 1}{2 -1} = 2^{L} - 1\n",
        "$$"
      ]
    },
    {
      "cell_type": "markdown",
      "source": [
        "## Add the a geometric series with $r =2$ up to 10** 6 and verify with the formula.  "
      ],
      "metadata": {
        "id": "TWqL3ugpEpIN"
      }
    },
    {
      "cell_type": "code",
      "source": [
        "import warnings\n",
        "from numba import jit\n",
        "from decimal import Decimal\n",
        "\n",
        "@jit\n",
        "def calculate_sum(n, r):\n",
        "    S_n = Decimal(\"0\")\n",
        "    for i in range(0,n):\n",
        "        a_n = r ** i\n",
        "        S_n = a_n + S_n\n",
        "    return S_n\n",
        "\n",
        "n = 1000000\n",
        "r = Decimal(\"2\")\n",
        "\n",
        "warnings.filterwarnings('ignore')\n",
        "result = calculate_sum(n, r)\n",
        "warnings.filterwarnings('default')\n",
        "\n",
        "print(\"{:.5e}\".format(result))"
      ],
      "metadata": {
        "id": "e3DmyWfVEtwV",
        "colab": {
          "base_uri": "https://localhost:8080/"
        },
        "outputId": "12dc1747-a012-4368-946c-5908d7eb1c1c"
      },
      "execution_count": 4,
      "outputs": [
        {
          "output_type": "stream",
          "name": "stdout",
          "text": [
            "9.90066e+301029\n"
          ]
        }
      ]
    },
    {
      "cell_type": "code",
      "source": [
        "from decimal import Decimal\n",
        "formula = Decimal((2**1000000)-1)\n",
        "print(\"{:.2e}\".format(formula))"
      ],
      "metadata": {
        "id": "DUntYdM9FFc8",
        "colab": {
          "base_uri": "https://localhost:8080/"
        },
        "outputId": "a4c38851-d146-490f-947e-690560a650c4"
      },
      "execution_count": 42,
      "outputs": [
        {
          "output_type": "stream",
          "name": "stdout",
          "text": [
            "9.90e+301029\n"
          ]
        }
      ]
    },
    {
      "cell_type": "markdown",
      "source": [
        "## Plot and  print the first 20 terms and the partial sums."
      ],
      "metadata": {
        "id": "PXfwrckTEuZF"
      }
    },
    {
      "cell_type": "code",
      "source": [
        "import matplotlib.pyplot as plt\n",
        "import numpy as np\n",
        "\n",
        "n = 20\n",
        "r = 2\n",
        "S_n = 0\n",
        "Serie_S_n=[]\n",
        "Sequence_a_n =[]\n",
        "for i in range(0,n):\n",
        "  a_n = r ** i\n",
        "  S_n = a_n + S_n\n",
        "  Serie_S_n.append(S_n)\n",
        "  Sequence_a_n.append(a_n)\n",
        "\n",
        "\n",
        "plt.plot(np.arange(1, n+1),Serie_S_n, color='black',label='Serie_S_n')\n",
        "plt.plot(np.arange(1, n+1),Sequence_a_n, color='red',label='Sequence_a_n')\n",
        "plt.xticks(np.arange(1, n+1))\n",
        "plt.legend()"
      ],
      "metadata": {
        "id": "YWdK15t3E2kN",
        "colab": {
          "base_uri": "https://localhost:8080/",
          "height": 463
        },
        "outputId": "fc6eb443-7986-4670-f2de-3b62bad4f515"
      },
      "execution_count": 8,
      "outputs": [
        {
          "output_type": "execute_result",
          "data": {
            "text/plain": [
              "<matplotlib.legend.Legend at 0x7b83ae5fbee0>"
            ]
          },
          "metadata": {},
          "execution_count": 8
        },
        {
          "output_type": "display_data",
          "data": {
            "text/plain": [
              "<Figure size 640x480 with 1 Axes>"
            ],
            "image/png": "[encoded data removed]"
          },
          "metadata": {}
        }
      ]
    },
    {
      "cell_type": "code",
      "source": [
        "print (Sequence_a_n)"
      ],
      "metadata": {
        "colab": {
          "base_uri": "https://localhost:8080/"
        },
        "id": "LKEb1hfVpw3H",
        "outputId": "6f89af6c-9a18-411a-984d-295df6d72b2e"
      },
      "execution_count": 19,
      "outputs": [
        {
          "output_type": "stream",
          "name": "stdout",
          "text": [
            "[1, 3, 9, 27, 81, 243, 729, 2187, 6561, 19683, 59049, 177147, 531441, 1594323, 4782969, 14348907, 43046721, 129140163, 387420489, 1162261467]\n"
          ]
        }
      ]
    },
    {
      "cell_type": "code",
      "source": [
        "print (Serie_S_n)"
      ],
      "metadata": {
        "colab": {
          "base_uri": "https://localhost:8080/"
        },
        "id": "LT2wH47-p0sz",
        "outputId": "e8fb51f6-adf6-48a2-c860-11e138f4c8f1"
      },
      "execution_count": 10,
      "outputs": [
        {
          "output_type": "stream",
          "name": "stdout",
          "text": [
            "[1, 3, 7, 15, 31, 63, 127, 255, 511, 1023, 2047, 4095, 8191, 16383, 32767, 65535, 131071, 262143, 524287, 1048575]\n"
          ]
        }
      ]
    },
    {
      "cell_type": "code",
      "source": [
        "(2**20)-1"
      ],
      "metadata": {
        "colab": {
          "base_uri": "https://localhost:8080/"
        },
        "id": "FLqSYNMNE1Wq",
        "outputId": "947dbc5d-5bf9-4f75-e8e2-5c58158b5f57"
      },
      "execution_count": 11,
      "outputs": [
        {
          "output_type": "execute_result",
          "data": {
            "text/plain": [
              "1048575"
            ]
          },
          "metadata": {},
          "execution_count": 11
        }
      ]
    },
    {
      "cell_type": "markdown",
      "metadata": {
        "id": "YiWlrhLZNMX9"
      },
      "source": [
        "## Your own examples of a geometric series with  $r =d+1$ with $d$  the last digit of the number in the list, add the series up to 10** 6 and verify with the formula.\n",
        "\n",
        "## $r=3$\n"
      ]
    },
    {
      "cell_type": "code",
      "metadata": {
        "id": "YvMkYU8UNOll",
        "colab": {
          "base_uri": "https://localhost:8080/"
        },
        "outputId": "ae3adb9b-2c7d-447f-b21c-8d3ca088abc4"
      },
      "source": [
        "import warnings\n",
        "from numba import jit\n",
        "from decimal import Decimal\n",
        "\n",
        "@jit\n",
        "def calculate_sum(n, r):\n",
        "    S_n = Decimal(\"0\")\n",
        "    for i in range(0,n):\n",
        "        a_n = r ** i\n",
        "        S_n = a_n + S_n\n",
        "    return S_n\n",
        "\n",
        "n = 1000000\n",
        "r = Decimal(\"3\")\n",
        "\n",
        "warnings.filterwarnings('ignore')\n",
        "result = calculate_sum(n, r)\n",
        "warnings.filterwarnings('default')\n",
        "\n",
        "print(\"{:.5e}\".format(result))"
      ],
      "execution_count": 12,
      "outputs": [
        {
          "output_type": "stream",
          "name": "stdout",
          "text": [
            "8.98855e+477120\n"
          ]
        }
      ]
    },
    {
      "cell_type": "code",
      "source": [
        "from decimal import Decimal\n",
        "formula = Decimal(((3**1000000)-1)/Decimal(2))\n",
        "print(\"{:.5e}\".format(formula))"
      ],
      "metadata": {
        "id": "-HP3BafuFVYc",
        "colab": {
          "base_uri": "https://localhost:8080/"
        },
        "outputId": "d50fb6e0-76f2-48db-b26d-4eedb0d57d1e"
      },
      "execution_count": 17,
      "outputs": [
        {
          "output_type": "stream",
          "name": "stdout",
          "text": [
            "8.98855e+477120\n"
          ]
        }
      ]
    },
    {
      "cell_type": "markdown",
      "source": [
        "##  Plot the first 20 terms and the partial sums."
      ],
      "metadata": {
        "id": "ZMYI3sNVEcfC"
      }
    },
    {
      "cell_type": "code",
      "source": [
        "import matplotlib.pyplot as plt\n",
        "import numpy as np\n",
        "\n",
        "n = 20\n",
        "r = 3\n",
        "S_n = 0\n",
        "Serie_S_n=[]\n",
        "Sequence_a_n =[]\n",
        "for i in range(0,n):\n",
        "  a_n = r ** i\n",
        "  S_n = a_n + S_n\n",
        "  Serie_S_n.append(S_n)\n",
        "  Sequence_a_n.append(a_n)\n",
        "\n",
        "\n",
        "plt.plot(np.arange(1, n+1),Serie_S_n, color='black',label='Serie_S_n')\n",
        "plt.plot(np.arange(1, n+1),Sequence_a_n, color='red',label='Sequence_a_n')\n",
        "plt.xticks(np.arange(1, n+1))\n",
        "plt.legend()\n",
        "\n",
        "print (Sequence_a_n)\n",
        "print (Serie_S_n)"
      ],
      "metadata": {
        "id": "RC-2dFAxEYIt",
        "colab": {
          "base_uri": "https://localhost:8080/",
          "height": 481
        },
        "outputId": "4f95904f-8556-4d72-ee79-43d7de7acf66"
      },
      "execution_count": 20,
      "outputs": [
        {
          "output_type": "stream",
          "name": "stdout",
          "text": [
            "[1, 3, 9, 27, 81, 243, 729, 2187, 6561, 19683, 59049, 177147, 531441, 1594323, 4782969, 14348907, 43046721, 129140163, 387420489, 1162261467]\n",
            "[1, 4, 13, 40, 121, 364, 1093, 3280, 9841, 29524, 88573, 265720, 797161, 2391484, 7174453, 21523360, 64570081, 193710244, 581130733, 1743392200]\n"
          ]
        },
        {
          "output_type": "display_data",
          "data": {
            "text/plain": [
              "<Figure size 640x480 with 1 Axes>"
            ],
            "image/png": "[encoded data removed]"
          },
          "metadata": {}
        }
      ]
    },
    {
      "cell_type": "markdown",
      "metadata": {
        "id": "Dd3RWDwJe2xD"
      },
      "source": [
        "## Zenon Arrow\n",
        "\n",
        "![](https://raw.githubusercontent.com/gjhernandezp/algorithms/master/Lab7/zeno-paradox-arrow.png)\n",
        "\n",
        "Achilles and the tortoise - https://en.wikipedia.org/wiki/Zeno%27s_paradoxes\n",
        "\n",
        "\n",
        "\n",
        "$$\n",
        "\\lim_{n\\rightarrow \\infty} \\left\\{\\left(\\frac{1}{2}\\right)^0 + \\left(\\frac{1}{2}\\right)^1 +\\left(\\frac{1}{2}\\right)^2 + \\cdots +\\left(\\frac{1}{2}\\right)^{n} \\right\\} = \\lim_{n\\rightarrow \\infty} \\left\\{ 1 +\\frac{1}{2} + \\frac{1}{4} + \\frac{1}{8} + \\cdots +\\frac{1}{2^{n}}\\right\\}  = \\lim_{n\\rightarrow \\infty} \\sum_{k=0}^{n} \\left(\\frac{1}{2}\\right)^k = \\lim_{n\\rightarrow \\infty} \\frac{ 1- \\left(\\frac{1}{2}\\right)^n  }{1 - \\left(\\frac{1}{2}\\right) } = \\frac{ 1}{1 - \\left(\\frac{1}{2}\\right)} = 2\n",
        "$$"
      ]
    },
    {
      "cell_type": "markdown",
      "metadata": {
        "id": "R-J4EekBNPkd"
      },
      "source": [
        "## Sum the  geometric with  $r=\\frac{1}{2}$ add the series up to 10**3 and verify with the formula.\n",
        "\n"
      ]
    },
    {
      "cell_type": "code",
      "metadata": {
        "id": "8xdBovY3NEW_",
        "colab": {
          "base_uri": "https://localhost:8080/"
        },
        "outputId": "66aa5d71-2b8b-4bb4-bc97-4ce8fc71775e"
      },
      "source": [
        "n = 1000\n",
        "r = 0.5\n",
        "S_n = 0\n",
        "for i in range(0,n):\n",
        "  a_n = r ** i\n",
        "  S_n = a_n + S_n\n",
        "\n",
        "print (S_n)"
      ],
      "execution_count": 23,
      "outputs": [
        {
          "output_type": "stream",
          "name": "stdout",
          "text": [
            "2.0\n"
          ]
        }
      ]
    },
    {
      "cell_type": "code",
      "source": [
        "formula = (r**(n+1)-1)/(r-1)\n",
        "print(formula)"
      ],
      "metadata": {
        "id": "3bjR3nkYFovN",
        "colab": {
          "base_uri": "https://localhost:8080/"
        },
        "outputId": "7f1d2b44-84a5-44a5-8deb-28266f5c2771"
      },
      "execution_count": 27,
      "outputs": [
        {
          "output_type": "stream",
          "name": "stdout",
          "text": [
            "2.0\n"
          ]
        }
      ]
    },
    {
      "cell_type": "markdown",
      "source": [
        "## Plot and print the first 60 terms and the partial sums."
      ],
      "metadata": {
        "id": "5pp0GXjjFrgc"
      }
    },
    {
      "cell_type": "code",
      "source": [
        "import matplotlib.pyplot as plt\n",
        "import numpy as np\n",
        "\n",
        "n = 20\n",
        "r = 0.5\n",
        "S_n = 0\n",
        "Serie_S_n=[]\n",
        "Sequence_a_n=[]\n",
        "for i in range(0,n):\n",
        "  a_n = r ** i\n",
        "  S_n = a_n + S_n\n",
        "  Serie_S_n.append(S_n)\n",
        "  Sequence_a_n.append(a_n)\n",
        "\n",
        "plt.plot(np.arange(1, n+1),Serie_S_n, color='black',label='Serie_S_n')\n",
        "plt.plot(np.arange(1, n+1),Sequence_a_n, color='red',label='Sequence_a_n')\n",
        "plt.xticks(np.arange(1, n+1))\n",
        "plt.legend()\n",
        "\n",
        "print (Sequence_a_n)\n",
        "print (Serie_S_n)"
      ],
      "metadata": {
        "id": "BNEY8PfmFyM1",
        "colab": {
          "base_uri": "https://localhost:8080/",
          "height": 521
        },
        "outputId": "04b96258-899b-45c4-f4e6-5eb5b7dead9e"
      },
      "execution_count": 71,
      "outputs": [
        {
          "output_type": "stream",
          "name": "stderr",
          "text": [
            "/usr/local/lib/python3.10/dist-packages/ipykernel/ipkernel.py:283: DeprecationWarning: `should_run_async` will not call `transform_cell` automatically in the future. Please pass the result to `transformed_cell` argument and any exception that happen during thetransform in `preprocessing_exc_tuple` in IPython 7.17 and above.\n",
            "  and should_run_async(code)\n"
          ]
        },
        {
          "output_type": "stream",
          "name": "stdout",
          "text": [
            "[1.0, 0.5, 0.25, 0.125, 0.0625, 0.03125, 0.015625, 0.0078125, 0.00390625, 0.001953125, 0.0009765625, 0.00048828125, 0.000244140625, 0.0001220703125, 6.103515625e-05, 3.0517578125e-05, 1.52587890625e-05, 7.62939453125e-06, 3.814697265625e-06, 1.9073486328125e-06]\n",
            "[1.0, 1.5, 1.75, 1.875, 1.9375, 1.96875, 1.984375, 1.9921875, 1.99609375, 1.998046875, 1.9990234375, 1.99951171875, 1.999755859375, 1.9998779296875, 1.99993896484375, 1.999969482421875, 1.9999847412109375, 1.9999923706054688, 1.9999961853027344, 1.9999980926513672]\n"
          ]
        },
        {
          "output_type": "display_data",
          "data": {
            "text/plain": [
              "<Figure size 640x480 with 1 Axes>"
            ],
            "image/png": "[encoded data removed]"
          },
          "metadata": {}
        }
      ]
    },
    {
      "cell_type": "markdown",
      "source": [
        "## Your own examples of a geometric series with $r=\\frac{1}{d+1}$  with $d$ add the series up to 10**3 and verify with the formula.\n",
        "## $r=\\frac{1}{3}$"
      ],
      "metadata": {
        "id": "y9RQsrrjFx2k"
      }
    },
    {
      "cell_type": "markdown",
      "source": [
        "$$\n",
        "\\lim_{n\\rightarrow \\infty} \\left\\{\\left(\\frac{1}{3}\\right)^0 + \\left(\\frac{1}{3}\\right)^1 +\\left(\\frac{1}{3}\\right)^2 + \\cdots +\\left(\\frac{1}{3}\\right)^{n} \\right\\} = \\lim_{n\\rightarrow \\infty} \\left\\{ 1 +\\frac{1}{3} + \\frac{1}{9} + \\frac{1}{27} + \\cdots +\\frac{1}{3^{n}}\\right\\}  = \\lim_{n\\rightarrow \\infty} \\sum_{k=0}^{n} \\left(\\frac{1}{3}\\right)^k = \\lim_{n\\rightarrow \\infty} \\frac{ 1- \\left(\\frac{1}{3}\\right)^n  }{1 - \\left(\\frac{1}{3}\\right) } = \\frac{ 1}{1 - \\left(\\frac{1}{3}\\right)} = 1.5\n",
        "$$"
      ],
      "metadata": {
        "id": "oh-m90ODu_SA"
      }
    },
    {
      "cell_type": "code",
      "source": [
        "n = 1000\n",
        "r = 1/3\n",
        "S_n = 0\n",
        "for i in range(0,n):\n",
        "  a_n = r ** i\n",
        "  S_n = a_n + S_n\n",
        "\n",
        "print (S_n)"
      ],
      "metadata": {
        "id": "CtWIsJxlGfGU",
        "colab": {
          "base_uri": "https://localhost:8080/"
        },
        "outputId": "7589c18b-3620-4415-a122-aba82e74aa0f"
      },
      "execution_count": 30,
      "outputs": [
        {
          "output_type": "stream",
          "name": "stdout",
          "text": [
            "1.5\n"
          ]
        }
      ]
    },
    {
      "cell_type": "code",
      "source": [
        "formula = (r**(n+1)-1)/(r-1)\n",
        "print(formula)"
      ],
      "metadata": {
        "id": "EFbKmFMPGe_E",
        "colab": {
          "base_uri": "https://localhost:8080/"
        },
        "outputId": "ae923f22-4765-4451-f071-87d156c0c118"
      },
      "execution_count": 31,
      "outputs": [
        {
          "output_type": "stream",
          "name": "stdout",
          "text": [
            "1.4999999999999998\n"
          ]
        }
      ]
    },
    {
      "cell_type": "markdown",
      "source": [
        "## Plot and print the first 60 terms and the partial sums."
      ],
      "metadata": {
        "id": "sjX-Z7cwGhUt"
      }
    },
    {
      "cell_type": "code",
      "source": [
        "import matplotlib.pyplot as plt\n",
        "import numpy as np\n",
        "\n",
        "n = 20\n",
        "r = 1/3\n",
        "S_n = 0\n",
        "Serie_S_n=[]\n",
        "Sequence_a_n=[]\n",
        "for i in range(0,n):\n",
        "  a_n = r ** i\n",
        "  S_n = a_n + S_n\n",
        "  Serie_S_n.append(S_n)\n",
        "  Sequence_a_n.append(a_n)\n",
        "\n",
        "plt.plot(np.arange(1, n+1),Serie_S_n, color='black',label='Serie_S_n')\n",
        "plt.plot(np.arange(1, n+1),Sequence_a_n, color='red',label='Sequence_a_n')\n",
        "plt.xticks(np.arange(1, n+1))\n",
        "plt.legend()\n",
        "\n",
        "print (Sequence_a_n)\n",
        "print (Serie_S_n)"
      ],
      "metadata": {
        "id": "tdyJ355mGjKG",
        "colab": {
          "base_uri": "https://localhost:8080/",
          "height": 486
        },
        "outputId": "49968430-0a08-40cd-e342-9f37d5656ccc"
      },
      "execution_count": 72,
      "outputs": [
        {
          "output_type": "stream",
          "name": "stdout",
          "text": [
            "[1.0, 0.3333333333333333, 0.1111111111111111, 0.03703703703703703, 0.012345679012345677, 0.004115226337448558, 0.0013717421124828527, 0.00045724737082761756, 0.0001524157902758725, 5.0805263425290837e-05, 1.693508780843028e-05, 5.645029269476759e-06, 1.8816764231589195e-06, 6.272254743863065e-07, 2.090751581287688e-07, 6.969171937625627e-08, 2.3230573125418753e-08, 7.743524375139585e-09, 2.5811747917131946e-09, 8.603915972377315e-10]\n",
            "[1.0, 1.3333333333333333, 1.4444444444444444, 1.4814814814814814, 1.4938271604938271, 1.4979423868312758, 1.4993141289437586, 1.4997713763145861, 1.499923792104862, 1.4999745973682874, 1.499991532456096, 1.4999971774853655, 1.4999990591617887, 1.499999686387263, 1.4999998954624212, 1.4999999651541405, 1.4999999883847135, 1.4999999961282378, 1.4999999987094126, 1.4999999995698041]\n"
          ]
        },
        {
          "output_type": "display_data",
          "data": {
            "text/plain": [
              "<Figure size 640x480 with 1 Axes>"
            ],
            "image/png": "[encoded data removed]"
          },
          "metadata": {}
        }
      ]
    },
    {
      "cell_type": "markdown",
      "metadata": {
        "id": "dh2ntBeoNQlN"
      },
      "source": [
        "# Power Sums Power Sums - [Wolfram MathWorld](https://mathworld.wolfram.com/PowerSum.html) - [wikipedia](https://en.wikipedia.org/wiki/Sums_of_powers) - [reserachgate](https://www.researchgate.net/publication/331933608_The_Powers_Sums_Bernoulli_Numbers_Bernoulli_Polynomials_Rethinked)\n",
        "\n"
      ]
    },
    {
      "cell_type": "markdown",
      "source": [
        "## Your own example of power sum with $p =$ last digit in the list $+ 1$, i.e., the sum $1^p+2^p+\\cdots + n^p$  series up to  $n=10^6$  and verify with the formula."
      ],
      "metadata": {
        "id": "kSYU0kwMCBXB"
      }
    },
    {
      "cell_type": "code",
      "metadata": {
        "id": "2PyxzzOZVIdl",
        "colab": {
          "base_uri": "https://localhost:8080/"
        },
        "outputId": "c1db02a6-19ae-42b6-80e2-f2dacb5e0ff5"
      },
      "source": [
        "n = 1000000\n",
        "p = 3\n",
        "S_n = 0\n",
        "for i in range(1,n+1):\n",
        "  a_n = i ** p\n",
        "  S_n = a_n + S_n\n",
        "\n",
        "print (S_n)"
      ],
      "execution_count": 34,
      "outputs": [
        {
          "output_type": "stream",
          "name": "stdout",
          "text": [
            "250000500000250000000000\n"
          ]
        }
      ]
    },
    {
      "cell_type": "markdown",
      "source": [
        "![frmuklo.jpg](data:image/jpeg;base64,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)"
      ],
      "metadata": {
        "id": "RPaBFPIb585z"
      }
    },
    {
      "cell_type": "code",
      "source": [
        "from decimal import Decimal\n",
        "formula = Decimal(1/4)*(n**4+2*n**3+n**2)\n",
        "print(\"{:.0f}\".format(formula))"
      ],
      "metadata": {
        "id": "VO_jmCYvGxYU",
        "colab": {
          "base_uri": "https://localhost:8080/"
        },
        "outputId": "9b0241f1-1692-4ee3-dd9a-d2bc4243c3b4"
      },
      "execution_count": 61,
      "outputs": [
        {
          "output_type": "stream",
          "name": "stdout",
          "text": [
            "250000500000250000000000\n"
          ]
        }
      ]
    },
    {
      "cell_type": "markdown",
      "source": [
        "## Plot the firtst 20 terms and the partial sums"
      ],
      "metadata": {
        "id": "bLfkQAVNGx1c"
      }
    },
    {
      "cell_type": "code",
      "source": [
        "n = 20\n",
        "p = 3\n",
        "S_n = 0\n",
        "Serie_S_n = []\n",
        "Sequence_a_n = []\n",
        "\n",
        "for i in range(1,n+1):\n",
        "  a_n = i ** p\n",
        "  S_n = a_n + S_n\n",
        "  Serie_S_n.append(S_n)\n",
        "  Sequence_a_n.append(a_n)\n",
        "\n",
        "plt.plot(np.arange(1, n+1),Serie_S_n, color='black',label='Serie_S_n')\n",
        "plt.plot(np.arange(1, n+1),Sequence_a_n, color='red',label='Sequence_a_n')\n",
        "plt.xticks(np.arange(1, n+1))\n",
        "plt.legend()\n",
        "\n",
        "print (Sequence_a_n)\n",
        "print (Serie_S_n)"
      ],
      "metadata": {
        "id": "j7EtiVSYG2E1",
        "colab": {
          "base_uri": "https://localhost:8080/",
          "height": 466
        },
        "outputId": "19006ee6-8c29-40d4-e87d-022bebfd313e"
      },
      "execution_count": 73,
      "outputs": [
        {
          "output_type": "stream",
          "name": "stdout",
          "text": [
            "[1, 8, 27, 64, 125, 216, 343, 512, 729, 1000, 1331, 1728, 2197, 2744, 3375, 4096, 4913, 5832, 6859, 8000]\n",
            "[1, 9, 36, 100, 225, 441, 784, 1296, 2025, 3025, 4356, 6084, 8281, 11025, 14400, 18496, 23409, 29241, 36100, 44100]\n"
          ]
        },
        {
          "output_type": "display_data",
          "data": {
            "text/plain": [
              "<Figure size 640x480 with 1 Axes>"
            ],
            "image/png": "[encoded data removed]"
          },
          "metadata": {}
        }
      ]
    }
  ]
}