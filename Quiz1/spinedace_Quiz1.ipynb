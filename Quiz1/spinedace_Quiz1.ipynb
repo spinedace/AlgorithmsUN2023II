
{
  "nbformat": 4,
  "nbformat_minor": 0,
  "metadata": {
    "colab": {
      "provenance": [],
      "collapsed_sections": [
        "6Yepp3PEoPjA",
        "XZN9NSI4eAOi",
        "XT89Dri7gIJ4",
        "QETcLEiG3yBs"
      ]
    },
    "kernelspec": {
      "name": "python3",
      "display_name": "Python 3"
    }
  },
  "cells": [
    {
      "cell_type": "markdown",
      "metadata": {
        "id": "4Gb04XWVHDB6"
      },
      "source": [
        "# **Quiz 1 - Python NumPy**\n",
        "---\n",
        "This quiz will help you practice the skills coding in Python and using Numpy.\n",
        "\n",
        "> **Note:** This aquiz will be graded on **UNCode** **[https://uncode.unal.edu.co/](https://uncode.unal.edu.co/)** ([doumentation](https://juezun.github.io/)). In each exercise is indicated where you should write your code. Complete the code, download the file submit it in **UNCode**."
      ]
    },
    {
      "cell_type": "code",
      "metadata": {
        "id": "875DsJCur8zB",
        "colab": {
          "base_uri": "https://localhost:8080/"
        },
        "outputId": "7184f3a7-06f1-429f-be11-f355a89c3ad8"
      },
      "source": [
        "!python --version\n",
        "import numpy as np\n",
        "\n",
        "print('NumPy', np.__version__)"
      ],
      "execution_count": 11,
      "outputs": [
        {
          "output_type": "stream",
          "name": "stdout",
          "text": [
            "Python 3.10.12\n",
            "NumPy 1.23.5\n"
          ]
        }
      ]
    },
    {
      "cell_type": "markdown",
      "metadata": {
        "id": "Xyl5fF0zr9r4"
      },
      "source": [
        "This quiz was created originaly in:\n",
        "\n",
        "- Python 3.6.9\n",
        "\n",
        "- NumPy: 1.19.5"
      ]
    },
    {
      "cell_type": "markdown",
      "source": [
        "## **1. *FizzBuzz*  - Python**"
      ],
      "metadata": {
        "id": "rN2shbVJV7-S"
      }
    },
    {
      "cell_type": "markdown",
      "source": [
        "Image modfied form https://code.kx.com/q/learn/reading/fizzbuzz/"
      ],
      "metadata": {
        "id": "M1700pF9EkJP"
      }
    },
    {
      "cell_type": "markdown",
      "metadata": {
        "id": "aq3HM6YEMIxM"
      },
      "source": [
        "---\n",
        "*FizzBuzz* is a popular computer programming exercise based on the concept of divisibility of integers.\n",
        "\n",
        ">An integer $x$ is divisible by $m$ when $x$ is a multiple of $m$. That is, when the remainder of dividing $x$ by $m$ is $0$.\n",
        "\n",
        "A way to verify that $x$ is divisible by $m$  to check if the module (remaimder of the integer divison) is equal to $0$, in Pyhton is:\n",
        "\n",
        "```python\n",
        "x % m == 0 # % module (remaimder of the integer divison)\n",
        "```"
      ]
    },
    {
      "cell_type": "markdown",
      "source": [
        "---\n",
        "\n",
        "###**Problem Description**\n",
        "\n",
        "**Task:** Given an integer $x$ return:\n",
        "\n",
        "\n",
        "*   The string \"**`Fizz!`**\" if $x$ is divisible by $3$ and not  divisible by $5$.\n",
        "*    The string \"**`Buzz!`**\" if $x$ is divisible by $5$ and not  divisible by $3$.\n",
        "*    The string \"**`FizzBuzz!`**\" if $x$ is divisible by both $5$ and divisible by $3$.\n",
        "*    The string \"**`...`**\" otherwise.\n",
        "\n",
        "**Input Format:** The input consists of a single integer $x$.\n",
        "\n",
        "**Constraints:** $x$ is an integer\n",
        "\n",
        "**Output Format:**  the output is a string."
      ],
      "metadata": {
        "id": "l8vwLDS8OMdp"
      }
    },
    {
      "cell_type": "markdown",
      "source": [
        "**Sample testcases**\n",
        "\n",
        "```python\n",
        "#run this sample testcases to help you validate your solution\n",
        "\n",
        "FizzBuzz(3)\n",
        "\n",
        "#  --> Expected output: Fizz!\n",
        "\n",
        "FizzBuzz(11)\n",
        "\n",
        "#  --> Expected output: ...\n",
        "\n",
        "FizzBuzz(5)\n",
        "#  --> Expected output: Buzz!\n",
        "\n",
        "FizzBuzz(7)\n",
        "#  --> Expected output:...\n",
        "\n",
        "FizzBuzz(15)\n",
        "#  --> Expected output: FizzBuzz!\n",
        "```\n",
        "\n",
        "---"
      ],
      "metadata": {
        "id": "seLwJoVTPqMb"
      }
    },
    {
      "cell_type": "markdown",
      "source": [
        "**Solution**"
      ],
      "metadata": {
        "id": "BX8ejJrpQdgb"
      }
    },
    {
      "cell_type": "code",
      "source": [
        "#Do not change this function's name, parameters or output format. It will be used in automatic grading.\n",
        "def FizzBuzz(x):\n",
        "    if x%3 == 0 and not x%5 == 0:\n",
        "      return 'Fizz!'\n",
        "    elif x%5 == 0 and not x%3 == 0:\n",
        "        return 'Buzz!'\n",
        "    elif x%3 == 0 and x%5 == 0:\n",
        "        return 'FizzBuzz!'\n",
        "    else:\n",
        "        return '...'\n",
        "\n",
        "    return answer\n"
      ],
      "metadata": {
        "id": "4kkesp9PQisR"
      },
      "execution_count": 12,
      "outputs": []
    },
    {
      "cell_type": "markdown",
      "metadata": {
        "id": "BA-nbOmnPYl6"
      },
      "source": [
        "<details>    \n",
        "<summary>\n",
        "    <font size=\"3\" color=\"darkgreen\"><b>Verification cases </b></font>\n",
        "</summary>\n"
      ]
    },
    {
      "cell_type": "code",
      "metadata": {
        "id": "xicbXt1uYDDt",
        "colab": {
          "base_uri": "https://localhost:8080/"
        },
        "outputId": "87901803-cafb-4d2a-e9fc-0d197388f4e8"
      },
      "source": [
        "print(FizzBuzz(3))\n",
        "print(FizzBuzz(7))\n",
        "print(FizzBuzz(5))\n",
        "print(FizzBuzz(11))\n",
        "print(FizzBuzz(15))\n",
        "\n",
        "\n",
        "t=['Buzz!', '...', 'Fizz!', '...', '...', 'FizzBuzz!', '...', '...', 'Fizz!', '...', 'Buzz!', 'Fizz!', '...', '...', 'Fizz!', 'Buzz!', '...', 'Fizz!', '...', '...', 'FizzBuzz!', '...', '...', 'Fizz!', '...', 'Buzz!', 'Fizz!', '...', '...', 'Fizz!', 'Buzz!', '...', 'Fizz!', '...', '...', 'FizzBuzz!', '...', '...', 'Fizz!', '...']\n",
        "r = []\n",
        "for x in range(-20,20):\n",
        "  r.append(FizzBuzz(x))\n",
        "print(r)\n",
        "print(t)\n",
        "success = t == r\n",
        "success"
      ],
      "execution_count": 13,
      "outputs": [
        {
          "output_type": "stream",
          "name": "stdout",
          "text": [
            "Fizz!\n",
            "...\n",
            "Buzz!\n",
            "...\n",
            "FizzBuzz!\n",
            "['Buzz!', '...', 'Fizz!', '...', '...', 'FizzBuzz!', '...', '...', 'Fizz!', '...', 'Buzz!', 'Fizz!', '...', '...', 'Fizz!', 'Buzz!', '...', 'Fizz!', '...', '...', 'FizzBuzz!', '...', '...', 'Fizz!', '...', 'Buzz!', 'Fizz!', '...', '...', 'Fizz!', 'Buzz!', '...', 'Fizz!', '...', '...', 'FizzBuzz!', '...', '...', 'Fizz!', '...']\n",
            "['Buzz!', '...', 'Fizz!', '...', '...', 'FizzBuzz!', '...', '...', 'Fizz!', '...', 'Buzz!', 'Fizz!', '...', '...', 'Fizz!', 'Buzz!', '...', 'Fizz!', '...', '...', 'FizzBuzz!', '...', '...', 'Fizz!', '...', 'Buzz!', 'Fizz!', '...', '...', 'Fizz!', 'Buzz!', '...', 'Fizz!', '...', '...', 'FizzBuzz!', '...', '...', 'Fizz!', '...']\n"
          ]
        },
        {
          "output_type": "execute_result",
          "data": {
            "text/plain": [
              "True"
            ]
          },
          "metadata": {},
          "execution_count": 13
        }
      ]
    },
    {
      "cell_type": "markdown",
      "metadata": {
        "id": "gS8eqbf4X2Am"
      },
      "source": [
        "Expected output:\n",
        "```\n",
        "Fizz!\n",
        "...\n",
        "Buzz!\n",
        "...\n",
        "FizzBuzz!\n",
        "```"
      ]
    },
    {
      "cell_type": "markdown",
      "metadata": {
        "id": "HwSDMxzDMWMF"
      },
      "source": [
        "## **2. *FizzBuzzList*  - Python**\n",
        "---\n",
        "\n",
        "Write the function *FizzBuzzList* that returns a list with the answers of *FizzBuzz* for the integer numbers $1$ to $n$ (including $n$)."
      ]
    },
    {
      "cell_type": "markdown",
      "source": [
        "---\n",
        "\n",
        "###**Problem Description**\n",
        "\n",
        "**Task:** Given an integer $n$ return the list with the *FizzBuzz* answers for the integer numbers $1$ to $n$ (including $n$).\n",
        "  \n",
        "\n",
        "**Input Format:** The input consists of a single integer $n$.\n",
        "\n",
        "**Constraints:** $n$ is an integer\n",
        "\n",
        "**Output Format:**  list with the *FizzBuzz* answers, if the input is not positive return an empty list."
      ],
      "metadata": {
        "id": "KCPEZwq6XZcC"
      }
    },
    {
      "cell_type": "markdown",
      "source": [
        "**Sample testcases**\n",
        "\n",
        "```python\n",
        "#run this sample testcases to help you validate your solution\n",
        "\n",
        "FizzBuzzList(4)\n",
        "#  --> Expected output: ['...', '...', 'Fizz!', '...']\n",
        "\n",
        "FizzBuzzList(-1)\n",
        "#  --> Expected output: []\n",
        "```\n",
        "---"
      ],
      "metadata": {
        "id": "MbjrKp6ZYOUq"
      }
    },
    {
      "cell_type": "markdown",
      "source": [
        "**Solution**"
      ],
      "metadata": {
        "id": "O-OLGB5BZIQq"
      }
    },
    {
      "cell_type": "code",
      "source": [
        "#Do not change this function's name, parameters or output format. It will be used in automatic grading.\n",
        "def FizzBuzzList(n):\n",
        "    ans = []\n",
        "    for i in range(n):\n",
        "        ans.append(FizzBuzz(i+1))\n",
        "    return ans"
      ],
      "metadata": {
        "id": "dIYchJvEZMEJ"
      },
      "execution_count": 14,
      "outputs": []
    },
    {
      "cell_type": "markdown",
      "source": [
        "<details>    \n",
        "<summary>\n",
        "    <font size=\"3\" color=\"darkgreen\"><b>Verification cases </b></font>\n",
        "</summary>"
      ],
      "metadata": {
        "id": "P0-XPf1xZokq"
      }
    },
    {
      "cell_type": "code",
      "source": [
        "#print(FizzBuzzList(5))\n",
        "#print(FizzBuzzList(-30))\n",
        "\n",
        "t=[[], [], [], [], [], [], [], [], [], [], [], [], [], [], [], [], [], ['...'], ['...', '...'], ['...', '...', 'Fizz!'], ['...', '...', 'Fizz!', '...'], ['...', '...', 'Fizz!', '...', 'Buzz!'], ['...', '...', 'Fizz!', '...', 'Buzz!', 'Fizz!'], ['...', '...', 'Fizz!', '...', 'Buzz!', 'Fizz!', '...'], ['...', '...', 'Fizz!', '...', 'Buzz!', 'Fizz!', '...', '...'], ['...', '...', 'Fizz!', '...', 'Buzz!', 'Fizz!', '...', '...', 'Fizz!'], ['...', '...', 'Fizz!', '...', 'Buzz!', 'Fizz!', '...', '...', 'Fizz!', 'Buzz!'], ['...', '...', 'Fizz!', '...', 'Buzz!', 'Fizz!', '...', '...', 'Fizz!', 'Buzz!', '...'], ['...', '...', 'Fizz!', '...', 'Buzz!', 'Fizz!', '...', '...', 'Fizz!', 'Buzz!', '...', 'Fizz!'], ['...', '...', 'Fizz!', '...', 'Buzz!', 'Fizz!', '...', '...', 'Fizz!', 'Buzz!', '...', 'Fizz!', '...'], ['...', '...', 'Fizz!', '...', 'Buzz!', 'Fizz!', '...', '...', 'Fizz!', 'Buzz!', '...', 'Fizz!', '...', '...'], ['...', '...', 'Fizz!', '...', 'Buzz!', 'Fizz!', '...', '...', 'Fizz!', 'Buzz!', '...', 'Fizz!', '...', '...', 'FizzBuzz!']]\n",
        "r = []\n",
        "for n in range(-16,16):\n",
        "  r.append(FizzBuzzList(n))\n",
        "\n",
        "print(r)\n",
        "print(t)\n",
        "success = t == r\n",
        "success"
      ],
      "metadata": {
        "id": "4EXUbJmJZxPq",
        "colab": {
          "base_uri": "https://localhost:8080/"
        },
        "outputId": "c73dec8c-c2e1-4574-d993-969f95038ad9"
      },
      "execution_count": 15,
      "outputs": [
        {
          "output_type": "stream",
          "name": "stdout",
          "text": [
            "[[], [], [], [], [], [], [], [], [], [], [], [], [], [], [], [], [], ['...'], ['...', '...'], ['...', '...', 'Fizz!'], ['...', '...', 'Fizz!', '...'], ['...', '...', 'Fizz!', '...', 'Buzz!'], ['...', '...', 'Fizz!', '...', 'Buzz!', 'Fizz!'], ['...', '...', 'Fizz!', '...', 'Buzz!', 'Fizz!', '...'], ['...', '...', 'Fizz!', '...', 'Buzz!', 'Fizz!', '...', '...'], ['...', '...', 'Fizz!', '...', 'Buzz!', 'Fizz!', '...', '...', 'Fizz!'], ['...', '...', 'Fizz!', '...', 'Buzz!', 'Fizz!', '...', '...', 'Fizz!', 'Buzz!'], ['...', '...', 'Fizz!', '...', 'Buzz!', 'Fizz!', '...', '...', 'Fizz!', 'Buzz!', '...'], ['...', '...', 'Fizz!', '...', 'Buzz!', 'Fizz!', '...', '...', 'Fizz!', 'Buzz!', '...', 'Fizz!'], ['...', '...', 'Fizz!', '...', 'Buzz!', 'Fizz!', '...', '...', 'Fizz!', 'Buzz!', '...', 'Fizz!', '...'], ['...', '...', 'Fizz!', '...', 'Buzz!', 'Fizz!', '...', '...', 'Fizz!', 'Buzz!', '...', 'Fizz!', '...', '...'], ['...', '...', 'Fizz!', '...', 'Buzz!', 'Fizz!', '...', '...', 'Fizz!', 'Buzz!', '...', 'Fizz!', '...', '...', 'FizzBuzz!']]\n",
            "[[], [], [], [], [], [], [], [], [], [], [], [], [], [], [], [], [], ['...'], ['...', '...'], ['...', '...', 'Fizz!'], ['...', '...', 'Fizz!', '...'], ['...', '...', 'Fizz!', '...', 'Buzz!'], ['...', '...', 'Fizz!', '...', 'Buzz!', 'Fizz!'], ['...', '...', 'Fizz!', '...', 'Buzz!', 'Fizz!', '...'], ['...', '...', 'Fizz!', '...', 'Buzz!', 'Fizz!', '...', '...'], ['...', '...', 'Fizz!', '...', 'Buzz!', 'Fizz!', '...', '...', 'Fizz!'], ['...', '...', 'Fizz!', '...', 'Buzz!', 'Fizz!', '...', '...', 'Fizz!', 'Buzz!'], ['...', '...', 'Fizz!', '...', 'Buzz!', 'Fizz!', '...', '...', 'Fizz!', 'Buzz!', '...'], ['...', '...', 'Fizz!', '...', 'Buzz!', 'Fizz!', '...', '...', 'Fizz!', 'Buzz!', '...', 'Fizz!'], ['...', '...', 'Fizz!', '...', 'Buzz!', 'Fizz!', '...', '...', 'Fizz!', 'Buzz!', '...', 'Fizz!', '...'], ['...', '...', 'Fizz!', '...', 'Buzz!', 'Fizz!', '...', '...', 'Fizz!', 'Buzz!', '...', 'Fizz!', '...', '...'], ['...', '...', 'Fizz!', '...', 'Buzz!', 'Fizz!', '...', '...', 'Fizz!', 'Buzz!', '...', 'Fizz!', '...', '...', 'FizzBuzz!']]\n"
          ]
        },
        {
          "output_type": "execute_result",
          "data": {
            "text/plain": [
              "True"
            ]
          },
          "metadata": {},
          "execution_count": 15
        }
      ]
    },
    {
      "cell_type": "markdown",
      "source": [
        "Expected output:\n",
        "```\n",
        "['...', '...', 'Fizz!', '...', 'Buzz!']\n",
        "[]\n",
        "```"
      ],
      "metadata": {
        "id": "rybnp7wcZu_K"
      }
    },
    {
      "cell_type": "markdown",
      "source": [
        "## **3. *Standarize* - z scores - NumPy**"
      ],
      "metadata": {
        "id": "6Yepp3PEoPjA"
      }
    },
    {
      "cell_type": "markdown",
      "source": [
        "<img src = \"https://upload.wikimedia.org/wikipedia/commons/thumb/2/25/The_Normal_Distribution.svg/1600px-The_Normal_Distribution.svg.png\" alt = \"z-scores\" width = \"70%\">  </img>"
      ],
      "metadata": {
        "id": "61RGUFXToGOY"
      }
    },
    {
      "cell_type": "markdown",
      "source": [
        "\n",
        "---\n",
        "### Normalization (Statistics)\n",
        "In statistics and applications of statistics, normalization can have a range of meanings. In the simplest cases, normalization of ratings means adjusting values measured on different scales to a notionally common scale, often prior to averaging. In more complicated cases, normalization may refer to more sophisticated adjustments where the intention is to bring the entire probability distributions of adjusted values into alignment. In the case of normalization of scores in educational assessment, there may be an intention to align distributions to a normal distribution ([wikipedia](https://en.wikipedia.org/wiki/Normalization_(statistics))).\n",
        "\n",
        "### Standard score\n",
        "In statistics, the standard score is the number of standard deviations by which the value of a raw score (i.e., an observed value or data point) is above or below the mean value of what is being observed or measured([wikipedia](https://en.wikipedia.org/wiki/Standard_score)).\n",
        "\n",
        "Given a set of values $X=\\{x_1,x_2,\\cdots,x_n\\}$  the corresponding standard scores $z_i$ are defined as\n",
        "$$z_i = \\frac{x_i - \\mu_X}{\\sigma_X}$$\n",
        "where:\n",
        "\n",
        "  - $\\mu_X$ is the mean of the values $X=\\{x_1,x_2,\\cdots,x_n\\}$,\n",
        "  -$\\sigma_X$ is the of the values $X=\\{x_1,x_2,\\cdots,x_n\\}$.\n"
      ],
      "metadata": {
        "id": "XZN9NSI4eAOi"
      }
    },
    {
      "cell_type": "markdown",
      "source": [
        "**IMPORTANT:** Solve this exercise using the ***`NumPy`*** functions ***`mean`*** and ***`std`*** not using prograrmming structures like ***`if`*** or ***`for`***."
      ],
      "metadata": {
        "id": "W8J-661cl5-Z"
      }
    },
    {
      "cell_type": "code",
      "source": [
        "import numpy as np\n",
        "\n",
        "X = np.array([1.2,3.2,4.3,5.6])\n",
        "print(X.mean())\n",
        "print(X.std())"
      ],
      "metadata": {
        "colab": {
          "base_uri": "https://localhost:8080/"
        },
        "id": "PZnHitR4lrMh",
        "outputId": "93e96d33-94eb-43e9-8107-7ea637812dd8"
      },
      "execution_count": 16,
      "outputs": [
        {
          "output_type": "stream",
          "name": "stdout",
          "text": [
            "3.5749999999999997\n",
            "1.6130328576938535\n"
          ]
        }
      ]
    },
    {
      "cell_type": "markdown",
      "source": [
        "---\n",
        "\n",
        "###**Problem Description**\n",
        "\n",
        "**Task:** Given an numpy array $X$ return the corresponding standard scores.\n",
        "  \n",
        "**Input Format:** The input consists of a numpy array $X$.\n",
        "\n",
        "**Output Format:**  A numpy array with standard scores corresponding to $X$."
      ],
      "metadata": {
        "id": "XT89Dri7gIJ4"
      }
    },
    {
      "cell_type": "markdown",
      "source": [
        "**Sample testcases**\n",
        "\n",
        "```python\n",
        "#run this sample testcases to help you validate your solution\n",
        "\n",
        "X0 = np.array([4.8, 4.0, 4.2, 4.0, 5.0])\n",
        "standarize(X0)\n",
        "\n",
        "#  --> Expected output: array([ 0.95346259, -0.95346259, -0.47673129, -0.95346259,  1.43019388])\n",
        "\n",
        "X1 = np.arange(5)\n",
        "standarize(X1)\n",
        "\n",
        "#  --> Expected output: array([-1.41421356, -0.70710678,  0.        ,  0.70710678,  1.41421356])\n",
        "\n",
        "```\n",
        "---"
      ],
      "metadata": {
        "id": "6N0JF_0-m_AB"
      }
    },
    {
      "cell_type": "markdown",
      "source": [
        "**Solution**"
      ],
      "metadata": {
        "id": "frfaDDj0k7tJ"
      }
    },
    {
      "cell_type": "code",
      "source": [
        "#Do not change this function's name, parameters or output format. It will be used in automatic grading.\n",
        "\n",
        "import numpy as np\n",
        "\n",
        "def standarize(X):\n",
        "  X_standarized = (X - X.mean()) / X.std()\n",
        "\n",
        "  return X_standarized"
      ],
      "metadata": {
        "id": "vUf0_xqXgHSj"
      },
      "execution_count": 17,
      "outputs": []
    },
    {
      "cell_type": "code",
      "source": [
        "print(standarize(np.arange(5)))"
      ],
      "metadata": {
        "colab": {
          "base_uri": "https://localhost:8080/"
        },
        "id": "YbNdqEwXuIB1",
        "outputId": "e491a906-8b64-4fca-f7d1-cdfac5538f48"
      },
      "execution_count": 18,
      "outputs": [
        {
          "output_type": "stream",
          "name": "stdout",
          "text": [
            "[-1.41421356 -0.70710678  0.          0.70710678  1.41421356]\n"
          ]
        }
      ]
    },
    {
      "cell_type": "markdown",
      "source": [
        "## **4. *Main diagonal matrix*  - NumPy**"
      ],
      "metadata": {
        "id": "4GU-LwecnqCR"
      }
    },
    {
      "cell_type": "markdown",
      "source": [
        "**Sample testcases**\n",
        "\n",
        "```python\n",
        "#run this sample testcases to help you validate your solution\n",
        "\n",
        "A = np.array([\n",
        "    [1, 0, 2, 9, 2],\n",
        "    [9, 2, 6, 5, 7],\n",
        "    [6, 4, 3, 4, 7]\n",
        "    \n",
        "])\n",
        "main_diagonal_matrix(A)\n",
        "#  --> Expected output:\n",
        "array([[1., 0., 0.],\n",
        "       [0., 2., 0.],\n",
        "       [0., 0., 3.]])\n",
        "\n",
        "A = np.array([\n",
        "    [4, 0, 2],\n",
        "    [9, 5, 6],\n",
        "    [1, 9, 6],\n",
        "    [3, 0, 5]\n",
        "    \n",
        "])\n",
        "main_diagonal_matrix(A)\n",
        "#  --> Expected output:\n",
        "array([[4., 0., 0.],\n",
        "       [0., 5., 0.],\n",
        "       [0., 0., 6.]])\n",
        "```\n",
        "---"
      ],
      "metadata": {
        "id": "nG7hzC4JtrvZ"
      }
    },
    {
      "cell_type": "code",
      "source": [
        "#Do not change this function's name, parameters or output format. It will be used in automatic grading.\n",
        "\n",
        "import numpy as np\n",
        "\n",
        "def main_diagonal_matrix(A):\n",
        "  D = np.diag(np.diag(A)).astype(float)\n",
        "\n",
        "  return D"
      ],
      "metadata": {
        "id": "thogtwflo6-x"
      },
      "execution_count": 19,
      "outputs": []
    },
    {
      "cell_type": "code",
      "source": [
        "print(main_diagonal_matrix(np.array([[4.0, 0.0, 0.0],[0.0, 5.0, 0.0],[0.0, 0.0, 6.0]])))"
      ],
      "metadata": {
        "colab": {
          "base_uri": "https://localhost:8080/"
        },
        "id": "e7czBTMwuDA7",
        "outputId": "2984c3c2-73b9-4e12-ae9a-a9e770ffacb1"
      },
      "execution_count": 20,
      "outputs": [
        {
          "output_type": "stream",
          "name": "stdout",
          "text": [
            "[[4. 0. 0.]\n",
            " [0. 5. 0.]\n",
            " [0. 0. 6.]]\n"
          ]
        }
      ]
    },
    {
      "cell_type": "markdown",
      "metadata": {
        "id": "4Igf_jPe3yBd"
      },
      "source": [
        "**¡Congratulations!** You have finished your first quiz.\n",
        "\n"
      ]
    },
    {
      "cell_type": "markdown",
      "metadata": {
        "id": "QETcLEiG3yBs"
      },
      "source": [
        "## **Credits**\n",
        "Created by\n",
        "  - German Hernandez\n",
        "  - Oscar Fabian Sierra Daza\n",
        "  \n",
        "Modifying quizzes originaly created by\n",
        "  - Felipe Restrepo Calle\n",
        "  - Alberto Nicolai Romero Martínez\n",
        "  - Miguel Angel Ortiz Marín\n"
      ]
    }
  ]
}
