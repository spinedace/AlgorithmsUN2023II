{
  "cells": [
    {
      "cell_type": "markdown",
      "metadata": {
        "id": "view-in-github",
        "colab_type": "text"
      },
      "source": [
        "<a href=\"https://colab.research.google.com/github/spinedace/AlgorithmsUN2023II/blob/main/Lab4/spinedaceLab4.ipynb\" target=\"_parent\"><img src=\"https://colab.research.google.com/assets/colab-badge.svg\" alt=\"Open In Colab\"/></a>"
      ]
    },
    {
      "cell_type": "code",
      "execution_count": null,
      "metadata": {
        "id": "im-VVd1__7VU",
        "colab": {
          "base_uri": "https://localhost:8080/"
        },
        "outputId": "d5bd8b8f-5d40-4ef5-d3e0-8ff12e120cc2"
      },
      "outputs": [
        {
          "output_type": "stream",
          "name": "stdout",
          "text": [
            "processor\t: 0\n",
            "vendor_id\t: GenuineIntel\n",
            "cpu family\t: 6\n",
            "model\t\t: 79\n",
            "model name\t: Intel(R) Xeon(R) CPU @ 2.20GHz\n",
            "stepping\t: 0\n",
            "microcode\t: 0xffffffff\n",
            "cpu MHz\t\t: 2200.238\n",
            "cache size\t: 56320 KB\n",
            "physical id\t: 0\n",
            "siblings\t: 2\n",
            "core id\t\t: 0\n",
            "cpu cores\t: 1\n",
            "apicid\t\t: 0\n",
            "initial apicid\t: 0\n",
            "fpu\t\t: yes\n",
            "fpu_exception\t: yes\n",
            "cpuid level\t: 13\n",
            "wp\t\t: yes\n",
            "flags\t\t: fpu vme de pse tsc msr pae mce cx8 apic sep mtrr pge mca cmov pat pse36 clflush mmx fxsr sse sse2 ss ht syscall nx pdpe1gb rdtscp lm constant_tsc rep_good nopl xtopology nonstop_tsc cpuid tsc_known_freq pni pclmulqdq ssse3 fma cx16 pcid sse4_1 sse4_2 x2apic movbe popcnt aes xsave avx f16c rdrand hypervisor lahf_lm abm 3dnowprefetch invpcid_single ssbd ibrs ibpb stibp fsgsbase tsc_adjust bmi1 hle avx2 smep bmi2 erms invpcid rtm rdseed adx smap xsaveopt arat md_clear arch_capabilities\n",
            "bugs\t\t: cpu_meltdown spectre_v1 spectre_v2 spec_store_bypass l1tf mds swapgs taa mmio_stale_data retbleed\n",
            "bogomips\t: 4400.47\n",
            "clflush size\t: 64\n",
            "cache_alignment\t: 64\n",
            "address sizes\t: 46 bits physical, 48 bits virtual\n",
            "power management:\n",
            "\n",
            "processor\t: 1\n",
            "vendor_id\t: GenuineIntel\n",
            "cpu family\t: 6\n",
            "model\t\t: 79\n",
            "model name\t: Intel(R) Xeon(R) CPU @ 2.20GHz\n",
            "stepping\t: 0\n",
            "microcode\t: 0xffffffff\n",
            "cpu MHz\t\t: 2200.238\n",
            "cache size\t: 56320 KB\n",
            "physical id\t: 0\n",
            "siblings\t: 2\n",
            "core id\t\t: 0\n",
            "cpu cores\t: 1\n",
            "apicid\t\t: 1\n",
            "initial apicid\t: 1\n",
            "fpu\t\t: yes\n",
            "fpu_exception\t: yes\n",
            "cpuid level\t: 13\n",
            "wp\t\t: yes\n",
            "flags\t\t: fpu vme de pse tsc msr pae mce cx8 apic sep mtrr pge mca cmov pat pse36 clflush mmx fxsr sse sse2 ss ht syscall nx pdpe1gb rdtscp lm constant_tsc rep_good nopl xtopology nonstop_tsc cpuid tsc_known_freq pni pclmulqdq ssse3 fma cx16 pcid sse4_1 sse4_2 x2apic movbe popcnt aes xsave avx f16c rdrand hypervisor lahf_lm abm 3dnowprefetch invpcid_single ssbd ibrs ibpb stibp fsgsbase tsc_adjust bmi1 hle avx2 smep bmi2 erms invpcid rtm rdseed adx smap xsaveopt arat md_clear arch_capabilities\n",
            "bugs\t\t: cpu_meltdown spectre_v1 spectre_v2 spec_store_bypass l1tf mds swapgs taa mmio_stale_data retbleed\n",
            "bogomips\t: 4400.47\n",
            "clflush size\t: 64\n",
            "cache_alignment\t: 64\n",
            "address sizes\t: 46 bits physical, 48 bits virtual\n",
            "power management:\n",
            "\n"
          ]
        }
      ],
      "source": [
        "!cat /proc/cpuinfo"
      ]
    },
    {
      "cell_type": "markdown",
      "metadata": {
        "id": "N1ok_-56OjB1"
      },
      "source": [
        "# I Solving the Sum of Two Digits Programming Challenge"
      ]
    },
    {
      "cell_type": "markdown",
      "metadata": {
        "id": "MMY7kmDSO0KM"
      },
      "source": [
        "## C++"
      ]
    },
    {
      "cell_type": "code",
      "execution_count": null,
      "metadata": {
        "colab": {
          "base_uri": "https://localhost:8080/"
        },
        "id": "2pGGf9BkPNIk",
        "outputId": "f20d68e9-639b-4f2a-8d12-9e4f6591aa37"
      },
      "outputs": [
        {
          "output_type": "stream",
          "name": "stdout",
          "text": [
            "Overwriting APlusB.cpp\n"
          ]
        }
      ],
      "source": [
        "%%writefile APlusB.cpp\n",
        "#include <iostream>\n",
        "\n",
        "int sum_of_two_digits(int first_digit, int second_digit) {\n",
        "    return first_digit + second_digit;\n",
        "}\n",
        "\n",
        "int main() {\n",
        "    int a = 0;\n",
        "    int b = 0;\n",
        "    std::cin >> a;\n",
        "    std::cin >> b;\n",
        "    std::cout << sum_of_two_digits(a, b);\n",
        "    return 0;\n",
        "}"
      ]
    },
    {
      "cell_type": "code",
      "execution_count": null,
      "metadata": {
        "colab": {
          "base_uri": "https://localhost:8080/"
        },
        "id": "0G3ZKOYAPXSU",
        "outputId": "0f2f034d-8c2e-4807-b76b-d3ce1bc1d5e2"
      },
      "outputs": [
        {
          "output_type": "stream",
          "name": "stdout",
          "text": [
            "5 7\n",
            "12"
          ]
        }
      ],
      "source": [
        "!g++ APlusB.cpp -o APlusB -std=c++11\n",
        "!./APlusB"
      ]
    },
    {
      "cell_type": "markdown",
      "metadata": {
        "id": "iNkG2HqfTl9c"
      },
      "source": [
        "### Test input output files"
      ]
    },
    {
      "cell_type": "code",
      "execution_count": null,
      "metadata": {
        "colab": {
          "base_uri": "https://localhost:8080/"
        },
        "id": "aTzU2efzMxly",
        "outputId": "97cd8503-8389-4ee7-a1cb-2dc0e66b6401"
      },
      "outputs": [
        {
          "output_type": "stream",
          "name": "stdout",
          "text": [
            "Overwriting input1.txt\n"
          ]
        }
      ],
      "source": [
        "%%writefile input1.txt\n",
        "4 8"
      ]
    },
    {
      "cell_type": "code",
      "execution_count": null,
      "metadata": {
        "colab": {
          "base_uri": "https://localhost:8080/"
        },
        "id": "zBJ0Gc0NQRet",
        "outputId": "2ac753e1-d23e-4a66-eb83-6e3a35216667"
      },
      "outputs": [
        {
          "output_type": "stream",
          "name": "stdout",
          "text": [
            "Writing output1.txt\n"
          ]
        }
      ],
      "source": [
        "%%writefile output1.txt\n",
        "12"
      ]
    },
    {
      "cell_type": "code",
      "execution_count": null,
      "metadata": {
        "colab": {
          "base_uri": "https://localhost:8080/"
        },
        "id": "IjEcIx63PJAN",
        "outputId": "ee7fcd53-f835-40a6-81a9-9cc9616f092f"
      },
      "outputs": [
        {
          "output_type": "stream",
          "name": "stdout",
          "text": [
            "Overwriting input2.txt\n"
          ]
        }
      ],
      "source": [
        "%%writefile input2.txt\n",
        "0 9"
      ]
    },
    {
      "cell_type": "code",
      "execution_count": null,
      "metadata": {
        "colab": {
          "base_uri": "https://localhost:8080/"
        },
        "id": "Up9gOrxURTmd",
        "outputId": "bab56be0-767c-4f59-f04c-4059c048b810"
      },
      "outputs": [
        {
          "output_type": "stream",
          "name": "stdout",
          "text": [
            "Overwriting output2.txt\n"
          ]
        }
      ],
      "source": [
        "%%writefile output2.txt\n",
        "9"
      ]
    },
    {
      "cell_type": "code",
      "execution_count": null,
      "metadata": {
        "colab": {
          "base_uri": "https://localhost:8080/"
        },
        "id": "PST6G-s-Pwgc",
        "outputId": "091ad62d-011b-4142-ebe3-cef6adcc6b1b"
      },
      "outputs": [
        {
          "output_type": "stream",
          "name": "stdout",
          "text": [
            "12"
          ]
        }
      ],
      "source": [
        "!./APlusB < input1.txt"
      ]
    },
    {
      "cell_type": "code",
      "execution_count": null,
      "metadata": {
        "colab": {
          "base_uri": "https://localhost:8080/"
        },
        "id": "cKxZOjSlRfIN",
        "outputId": "a1ab4a18-04af-4191-ccfe-4945c50793bf"
      },
      "outputs": [
        {
          "output_type": "stream",
          "name": "stdout",
          "text": [
            "9"
          ]
        }
      ],
      "source": [
        "!./APlusB < input2.txt"
      ]
    },
    {
      "cell_type": "markdown",
      "metadata": {
        "id": "Qw2TQWCCUwqk"
      },
      "source": [
        "### Comparing files with grep\n",
        "\n",
        "https://askubuntu.com/questions/546796/comparing-two-text-files"
      ]
    },
    {
      "cell_type": "code",
      "execution_count": null,
      "metadata": {
        "id": "WVIaAmMKU4QM"
      },
      "outputs": [],
      "source": [
        "!grep -xvFf output1.txt output1.txt"
      ]
    },
    {
      "cell_type": "code",
      "execution_count": null,
      "metadata": {
        "id": "MQU8gPPjQuYO",
        "colab": {
          "base_uri": "https://localhost:8080/"
        },
        "outputId": "8798c838-8dc1-4af4-fad2-ef54b8cc46bd"
      },
      "outputs": [
        {
          "output_type": "stream",
          "name": "stdout",
          "text": [
            "9\n"
          ]
        }
      ],
      "source": [
        "!grep -xvFf output1.txt output2.txt"
      ]
    },
    {
      "cell_type": "code",
      "execution_count": null,
      "metadata": {
        "colab": {
          "base_uri": "https://localhost:8080/"
        },
        "id": "jYL9OuYBTD_l",
        "outputId": "2e43c11d-0f28-4ac3-e911-d07efb51c113"
      },
      "outputs": [
        {
          "output_type": "stream",
          "name": "stdout",
          "text": [
            "12\n"
          ]
        }
      ],
      "source": [
        "!grep -xvFf output2.txt output1.txt"
      ]
    },
    {
      "cell_type": "code",
      "execution_count": null,
      "metadata": {
        "id": "Jlja0Xm4TX9M"
      },
      "outputs": [],
      "source": [
        "!./APlusB < input1.txt> ctest1.txt\n",
        "!grep -xvFf output1.txt ctest1.txt"
      ]
    },
    {
      "cell_type": "code",
      "execution_count": null,
      "metadata": {
        "id": "g9OIUZA_QLCQ"
      },
      "outputs": [],
      "source": [
        "!./APlusB < input2.txt > ctest2.txt\n",
        "!grep -xvFf output2.txt ctest2.txt"
      ]
    },
    {
      "cell_type": "markdown",
      "metadata": {
        "id": "3BgOaDjUVJk6"
      },
      "source": [
        "## Python"
      ]
    },
    {
      "cell_type": "code",
      "execution_count": null,
      "metadata": {
        "colab": {
          "base_uri": "https://localhost:8080/"
        },
        "id": "DBvl-T0CTN_8",
        "outputId": "fcdf26ec-e0f3-4d5e-92b6-640c943a8870"
      },
      "outputs": [
        {
          "output_type": "stream",
          "name": "stdout",
          "text": [
            "Overwriting sum.py\n"
          ]
        }
      ],
      "source": [
        "%%writefile sum.py\n",
        "# python3\n",
        "\n",
        "def sum_of_two_digits(first_digit, second_digit):\n",
        "    return first_digit + second_digit\n",
        "\n",
        "if __name__ == '__main__':\n",
        "    a, b = map(int, input().split())\n",
        "    print(sum_of_two_digits(a, b))"
      ]
    },
    {
      "cell_type": "code",
      "execution_count": null,
      "metadata": {
        "colab": {
          "base_uri": "https://localhost:8080/"
        },
        "id": "QKoKM11_WGyF",
        "outputId": "1a112194-a0d9-480b-f5f0-cf4a4890e11a"
      },
      "outputs": [
        {
          "output_type": "stream",
          "name": "stdout",
          "text": [
            "4 7\n",
            "11\n"
          ]
        }
      ],
      "source": [
        "!python sum.py"
      ]
    },
    {
      "cell_type": "code",
      "execution_count": null,
      "metadata": {
        "id": "cocFbPRTWrqt"
      },
      "outputs": [],
      "source": [
        "!python sum.py  < input1.txt> ptest1.txt\n",
        "!grep -xvFf output1.txt ptest1.txt"
      ]
    },
    {
      "cell_type": "code",
      "execution_count": null,
      "metadata": {
        "id": "MorKTa-XXASN"
      },
      "outputs": [],
      "source": [
        "!python sum.py  < input2.txt> ptest2.txt\n",
        "!grep -xvFf output2.txt ptest2.txt"
      ]
    },
    {
      "cell_type": "markdown",
      "metadata": {
        "id": "uvP-mOubW_5F"
      },
      "source": [
        "# II Solving The Maximum Pairwise Product Programming Challenge in C++"
      ]
    },
    {
      "cell_type": "markdown",
      "metadata": {
        "id": "C12yoFR6Xonl"
      },
      "source": [
        "## C++"
      ]
    },
    {
      "cell_type": "code",
      "source": [
        "%%writefile max_pairwise_product_full.cpp\n",
        "#include <iostream>\n",
        "#include <vector>\n",
        "#include <algorithm>\n",
        "\n",
        "int MaxPairwiseProduct(const std::vector<int>& numbers) {\n",
        "    int max_product = 0;\n",
        "    int aux_product = 0;\n",
        "    int n = numbers.size();\n",
        "\n",
        "    for (int first = 0; first < n; ++first) {\n",
        "        for (int second = 0; second < n; ++second) {\n",
        "          if ( first != second ){\n",
        "                aux_product = numbers[first] * numbers[second];\n",
        "                if (aux_product > max_product)  max_product = aux_product;\n",
        "          }\n",
        "        }\n",
        "    }\n",
        "\n",
        "    return max_product;\n",
        "}\n",
        "\n",
        "int main() {\n",
        "    int n;\n",
        "    std::cin >> n;\n",
        "    std::vector<int> numbers(n);\n",
        "    for (int i = 0; i < n; ++i) {\n",
        "        std::cin >> numbers[i];\n",
        "    }\n",
        "\n",
        "    std::cout << MaxPairwiseProduct(numbers) << \"\\n\";\n",
        "    return 0;\n",
        "}"
      ],
      "metadata": {
        "colab": {
          "base_uri": "https://localhost:8080/"
        },
        "id": "3LpfoGv2Ae81",
        "outputId": "afc99c0f-53de-4c24-cef2-3efd0e8cd79b"
      },
      "execution_count": null,
      "outputs": [
        {
          "output_type": "stream",
          "name": "stdout",
          "text": [
            "Overwriting max_pairwise_product_full.cpp\n"
          ]
        }
      ]
    },
    {
      "cell_type": "markdown",
      "metadata": {
        "id": "m75IQQPbEHBS"
      },
      "source": [
        "#### Time Complexity\n",
        "$$\\left. \\begin{array}{llc}\n",
        " \\text{INSTRUCTION} & \\text{TYPE}& \\text{# EXECUTIONS}\\\\\n",
        "\\text{first != second} &  \\text{comparisons} &n^2 \\\\\n",
        "\\text{numbers[first] * numbers[second]}& \\ \\text{ products}  &n^2 - n \\\\\n",
        "\\text{max_product = aux_product} &  \\text{assigments} & [1, \\frac{n^2 - n}{2})  \n",
        "\\end{array}\\right\\}  =  O(n^2)$$"
      ]
    },
    {
      "cell_type": "code",
      "source": [
        "!g++ max_pairwise_product_full.cpp -o max_pairwise_product_full\n",
        "!./max_pairwise_product_full"
      ],
      "metadata": {
        "id": "PCVo1h6nCF9k",
        "colab": {
          "base_uri": "https://localhost:8080/"
        },
        "outputId": "b6a5da48-2449-4a20-ec83-512cd2d9f996"
      },
      "execution_count": null,
      "outputs": [
        {
          "output_type": "stream",
          "name": "stdout",
          "text": [
            "5\n",
            "1 2 3 4 5\n",
            "20\n"
          ]
        }
      ]
    },
    {
      "cell_type": "markdown",
      "metadata": {
        "id": "e7KhxHGNS3i0"
      },
      "source": [
        "### Test 1: Small numbers"
      ]
    },
    {
      "cell_type": "code",
      "source": [
        "%%writefile input0.txt\n",
        "10\n",
        "0 0 0 0 0 0 0 0 0 0"
      ],
      "metadata": {
        "colab": {
          "base_uri": "https://localhost:8080/"
        },
        "id": "17npyXt7lYzA",
        "outputId": "10394f86-55ff-4eaf-b74a-5cd896ff72e1"
      },
      "execution_count": null,
      "outputs": [
        {
          "output_type": "stream",
          "name": "stdout",
          "text": [
            "Writing input0.txt\n"
          ]
        }
      ]
    },
    {
      "cell_type": "code",
      "source": [
        "%%writefile output0.txt\n",
        "0"
      ],
      "metadata": {
        "colab": {
          "base_uri": "https://localhost:8080/"
        },
        "id": "NooGEkJylezm",
        "outputId": "dae5e7b4-b022-4e13-894e-32777161b96a"
      },
      "execution_count": null,
      "outputs": [
        {
          "output_type": "stream",
          "name": "stdout",
          "text": [
            "Writing output0.txt\n"
          ]
        }
      ]
    },
    {
      "cell_type": "code",
      "source": [
        "!./max_pairwise_product_full< input0.txt > ctest0.txt\n",
        "!grep -xvFf output0.txt ctest0.txt"
      ],
      "metadata": {
        "id": "R0yFaAOrlqrE"
      },
      "execution_count": null,
      "outputs": []
    },
    {
      "cell_type": "code",
      "execution_count": null,
      "metadata": {
        "colab": {
          "base_uri": "https://localhost:8080/"
        },
        "id": "e1mmTzBgShT-",
        "outputId": "3181751a-1da7-450e-a6e3-ae96a0fb5a3b"
      },
      "outputs": [
        {
          "output_type": "stream",
          "name": "stdout",
          "text": [
            "Overwriting input1.txt\n"
          ]
        }
      ],
      "source": [
        "%%writefile input1.txt\n",
        "10\n",
        "1 2 3 4 5 6 7 8 9 10"
      ]
    },
    {
      "cell_type": "code",
      "execution_count": null,
      "metadata": {
        "colab": {
          "base_uri": "https://localhost:8080/"
        },
        "id": "vy_uI0x7TCId",
        "outputId": "561d6d71-674f-42c3-ffef-5b2ccb472eba"
      },
      "outputs": [
        {
          "output_type": "stream",
          "name": "stdout",
          "text": [
            "/bin/bash: line 1: ./max_pairwise_product: No such file or directory\n"
          ]
        }
      ],
      "source": [
        "!./max_pairwise_product < input1.txt"
      ]
    },
    {
      "cell_type": "code",
      "execution_count": null,
      "metadata": {
        "colab": {
          "base_uri": "https://localhost:8080/"
        },
        "id": "xaj6f9bxC6D6",
        "outputId": "3105fdc1-5a6b-4605-aaad-e9b17449f4da"
      },
      "outputs": [
        {
          "output_type": "stream",
          "name": "stdout",
          "text": [
            "Overwriting output1.txt\n"
          ]
        }
      ],
      "source": [
        "%%writefile output1.txt\n",
        "90"
      ]
    },
    {
      "cell_type": "code",
      "execution_count": null,
      "metadata": {
        "id": "fYCjAdA_C-wy"
      },
      "outputs": [],
      "source": [
        "!./max_pairwise_product_full< input1.txt > ctest1.txt\n",
        "!grep -xvFf output1.txt ctest1.txt"
      ]
    },
    {
      "cell_type": "code",
      "source": [
        "%%writefile input2.txt\n",
        "10\n",
        "10 9 8 7 6 5 4 3 2 1"
      ],
      "metadata": {
        "colab": {
          "base_uri": "https://localhost:8080/"
        },
        "id": "ZPe40LY14_6f",
        "outputId": "2396321f-a561-4fb1-b28b-1c57bafa5be0"
      },
      "execution_count": null,
      "outputs": [
        {
          "output_type": "stream",
          "name": "stdout",
          "text": [
            "Overwriting input2.txt\n"
          ]
        }
      ]
    },
    {
      "cell_type": "code",
      "source": [
        "%%writefile output2.txt\n",
        "90"
      ],
      "metadata": {
        "colab": {
          "base_uri": "https://localhost:8080/"
        },
        "id": "xiHmF7HA5Faa",
        "outputId": "0092c193-0891-4758-c3ee-68b2a834dbb0"
      },
      "execution_count": null,
      "outputs": [
        {
          "output_type": "stream",
          "name": "stdout",
          "text": [
            "Overwriting output2.txt\n"
          ]
        }
      ]
    },
    {
      "cell_type": "code",
      "source": [
        "!./max_pairwise_product_full< input2.txt > ctest2.txt\n",
        "!grep -xvFf output2.txt ctest2.txt"
      ],
      "metadata": {
        "id": "jjwc9kwb5t_k"
      },
      "execution_count": null,
      "outputs": []
    },
    {
      "cell_type": "markdown",
      "metadata": {
        "id": "IeZ3kTjpYmR9"
      },
      "source": [
        "### Test 2: largest input numbers 200000 200000 in the input"
      ]
    },
    {
      "cell_type": "code",
      "execution_count": null,
      "metadata": {
        "colab": {
          "base_uri": "https://localhost:8080/"
        },
        "id": "LQNlZqaqYt7U",
        "outputId": "4e01050a-dd31-4a87-9bc4-414f60c6e58d"
      },
      "outputs": [
        {
          "output_type": "stream",
          "name": "stdout",
          "text": [
            "Writing input3.txt\n"
          ]
        }
      ],
      "source": [
        "%%writefile input3.txt\n",
        "6\n",
        "1 3 200000 9 200000 23"
      ]
    },
    {
      "cell_type": "code",
      "execution_count": null,
      "metadata": {
        "colab": {
          "base_uri": "https://localhost:8080/"
        },
        "id": "GjQq7QOUCw-9",
        "outputId": "86efea5a-89b9-4a0d-879c-57617d4622bb"
      },
      "outputs": [
        {
          "output_type": "execute_result",
          "data": {
            "text/plain": [
              "40000000000"
            ]
          },
          "metadata": {},
          "execution_count": 29
        }
      ],
      "source": [
        "200000*200000"
      ]
    },
    {
      "cell_type": "code",
      "execution_count": null,
      "metadata": {
        "colab": {
          "base_uri": "https://localhost:8080/"
        },
        "id": "EuS6n3jtDK5C",
        "outputId": "86b2480e-dac0-41be-e57b-02cc0e3174bf"
      },
      "outputs": [
        {
          "output_type": "stream",
          "name": "stdout",
          "text": [
            "Overwriting output3.txt\n"
          ]
        }
      ],
      "source": [
        "%%writefile output3.txt\n",
        "40000000000"
      ]
    },
    {
      "cell_type": "code",
      "execution_count": null,
      "metadata": {
        "colab": {
          "base_uri": "https://localhost:8080/"
        },
        "id": "2Wad2VZUZDxR",
        "outputId": "6e3b7a1f-a0fa-4879-df3d-10376aa2aa59"
      },
      "outputs": [
        {
          "output_type": "stream",
          "name": "stdout",
          "text": [
            "1345294336\n"
          ]
        }
      ],
      "source": [
        "!./max_pairwise_product_full < input3.txt"
      ]
    },
    {
      "cell_type": "code",
      "execution_count": null,
      "metadata": {
        "colab": {
          "base_uri": "https://localhost:8080/"
        },
        "id": "pEvp1ieyDJGq",
        "outputId": "ab29f990-5633-4195-fc80-5f7e34de60c1"
      },
      "outputs": [
        {
          "output_type": "stream",
          "name": "stdout",
          "text": [
            "1345294336\n"
          ]
        }
      ],
      "source": [
        "!./max_pairwise_product_full < input3.txt > ctest3.txt\n",
        "!grep -xvFf output3.txt ctest3.txt"
      ]
    },
    {
      "cell_type": "code",
      "source": [
        " %%writefile run_all_test.sh\n",
        "#!/bin/bash\n",
        "g++ max_pairwise_product_full.cpp -o max_pairwise_product_full\n",
        "for i in {0..3}\n",
        "do\n",
        "    ./max_pairwise_product_full < input$i.txt > ctest$i.txt\n",
        "    grep -xvFf output$i.txt ctest$i.txt\n",
        "done"
      ],
      "metadata": {
        "colab": {
          "base_uri": "https://localhost:8080/"
        },
        "id": "SrtJrKqM-God",
        "outputId": "34036212-ba08-4ba4-fbcf-a58a1cbe1f7f"
      },
      "execution_count": null,
      "outputs": [
        {
          "output_type": "stream",
          "name": "stdout",
          "text": [
            "Overwriting run_all_test.sh\n"
          ]
        }
      ]
    },
    {
      "cell_type": "code",
      "source": [
        "!chmod u+x run_all_test.sh\n",
        "!./run_all_test.sh"
      ],
      "metadata": {
        "colab": {
          "base_uri": "https://localhost:8080/"
        },
        "id": "wGWMHtzS-QnA",
        "outputId": "45521963-4624-4ff2-a939-03f7f6a964aa"
      },
      "execution_count": null,
      "outputs": [
        {
          "output_type": "stream",
          "name": "stdout",
          "text": [
            "1345294336\n"
          ]
        }
      ]
    },
    {
      "cell_type": "markdown",
      "metadata": {
        "id": "H2SC0Qt5HCzz"
      },
      "source": [
        "Changing the variables to long long"
      ]
    },
    {
      "cell_type": "code",
      "execution_count": null,
      "metadata": {
        "colab": {
          "base_uri": "https://localhost:8080/"
        },
        "id": "MPcmsxiQZSfE",
        "outputId": "945c1b7d-2e54-4f91-f641-15e293c8e1f7"
      },
      "outputs": [
        {
          "output_type": "stream",
          "name": "stdout",
          "text": [
            "Overwriting max_pairwise_product_long_full.cpp\n"
          ]
        }
      ],
      "source": [
        "%%writefile max_pairwise_product_long_full.cpp\n",
        "#include <iostream>\n",
        "#include <vector>\n",
        "#include <algorithm>\n",
        "\n",
        "long long MaxPairwiseProduct(const std::vector<int>& numbers) {\n",
        "    long long max_product = 0LL;\n",
        "\t  long long aux_product = 0LL;\n",
        "    int n = numbers.size();\n",
        "\n",
        "    for (int first = 0; first < n; ++first) {\n",
        "        for (int second = 0; second < n; ++second) {\n",
        "          if ( first != second){\n",
        "                aux_product = (long long) numbers[first] * numbers[second];\n",
        "                if (aux_product > max_product)  max_product = aux_product;\n",
        "          }\n",
        "        }\n",
        "    }\n",
        "\n",
        "\n",
        "    return max_product;\n",
        "}\n",
        "\n",
        "int main() {\n",
        "    int n;\n",
        "    std::cin >> n;\n",
        "    std::vector<int> numbers(n);\n",
        "    for (int i = 0; i < n; ++i) {\n",
        "        std::cin >> numbers[i];\n",
        "    }\n",
        "\n",
        "    std::cout << MaxPairwiseProduct(numbers) << \"\\n\";\n",
        "    return 0;\n",
        "}\n"
      ]
    },
    {
      "cell_type": "code",
      "source": [
        "!g++ max_pairwise_product_long_full.cpp -o max_pairwise_product_long_full"
      ],
      "metadata": {
        "id": "W3xQpFXL6wjO"
      },
      "execution_count": null,
      "outputs": []
    },
    {
      "cell_type": "code",
      "source": [
        "!./max_pairwise_product_long_full < input3.txt"
      ],
      "metadata": {
        "colab": {
          "base_uri": "https://localhost:8080/"
        },
        "id": "H5dvN9M3R9sV",
        "outputId": "9e7cd696-ec61-459b-a27a-acedd35a546f"
      },
      "execution_count": null,
      "outputs": [
        {
          "output_type": "stream",
          "name": "stdout",
          "text": [
            "40000000000\n"
          ]
        }
      ]
    },
    {
      "cell_type": "markdown",
      "source": [
        "### Runing multuple test with a bash shell"
      ],
      "metadata": {
        "id": "gx-sEYdfQ8f8"
      }
    },
    {
      "cell_type": "code",
      "source": [
        " %%writefile run_all_test.sh\n",
        "#!/bin/bash\n",
        "g++ max_pairwise_product_long_full.cpp -o max_pairwise_product_long_full\n",
        "for i in {1..3}\n",
        "do\n",
        "    ./max_pairwise_product_long_full < input$i.txt > ctest$i.txt\n",
        "    grep -xvFf output$i.txt ctest$i.txt\n",
        "done"
      ],
      "metadata": {
        "colab": {
          "base_uri": "https://localhost:8080/"
        },
        "id": "O9qsq2nn7elw",
        "outputId": "4b01f9dc-51a0-447d-91d0-3c038bd11c5f"
      },
      "execution_count": null,
      "outputs": [
        {
          "output_type": "stream",
          "name": "stdout",
          "text": [
            "Writing run_all_test.sh\n"
          ]
        }
      ]
    },
    {
      "cell_type": "code",
      "source": [
        "!chmod u+x run_all_test.sh\n",
        "!./run_all_test.sh"
      ],
      "metadata": {
        "id": "0g5kKVph7xIA",
        "colab": {
          "base_uri": "https://localhost:8080/"
        },
        "outputId": "41d576ba-f0ab-4bb4-f21e-6e2f41ef12e1"
      },
      "execution_count": null,
      "outputs": [
        {
          "output_type": "stream",
          "name": "stdout",
          "text": [
            "\u001b[01m\u001b[Kcc1plus:\u001b[m\u001b[K \u001b[01;31m\u001b[Kfatal error: \u001b[m\u001b[Kmax_pairwise_product_long_full.cpp: No such file or directory\n",
            "compilation terminated.\n",
            "./run_all_test.sh: line 5: input1.txt: No such file or directory\n",
            "grep: output1.txt: No such file or directory\n",
            "./run_all_test.sh: line 5: input2.txt: No such file or directory\n",
            "grep: output2.txt: No such file or directory\n",
            "./run_all_test.sh: line 5: input3.txt: No such file or directory\n",
            "grep: output3.txt: No such file or directory\n",
            "./run_all_test.sh: line 5: ./max_pairwise_product_long_full: No such file or directory\n",
            "./run_all_test.sh: line 5: ./max_pairwise_product_long_full: No such file or directory\n",
            "./run_all_test.sh: line 5: ./max_pairwise_product_long_full: No such file or directory\n",
            "./run_all_test.sh: line 5: ./max_pairwise_product_long_full: No such file or directory\n",
            "./run_all_test.sh: line 5: ./max_pairwise_product_long_full: No such file or directory\n",
            "./run_all_test.sh: line 5: ./max_pairwise_product_long_full: No such file or directory\n",
            "./run_all_test.sh: line 5: ./max_pairwise_product_long_full: No such file or directory\n",
            "./run_all_test.sh: line 5: input11.txt: No such file or directory\n",
            "grep: output11.txt: No such file or directory\n"
          ]
        }
      ]
    },
    {
      "cell_type": "markdown",
      "metadata": {
        "id": "XPVHkHxH6_7s"
      },
      "source": [
        "### Test 3  stress tests, 6 testing cases files input4.txt/output4.txt .. input10.txt/output10.txt\n",
        "\n",
        "---\n",
        "\n"
      ]
    },
    {
      "cell_type": "code",
      "execution_count": null,
      "metadata": {
        "id": "PwqpBmYr69fu",
        "outputId": "8032467b-dcf1-4b52-d52d-4a454538f6a9",
        "colab": {
          "base_uri": "https://localhost:8080/"
        }
      },
      "outputs": [
        {
          "output_type": "stream",
          "name": "stdout",
          "text": [
            "Writing input4.txt\n"
          ]
        }
      ],
      "source": [
        "%%writefile input4.txt\n",
        "3\n",
        "5 100 300"
      ]
    },
    {
      "cell_type": "code",
      "execution_count": null,
      "metadata": {
        "id": "jBCkMeR6Fw4y",
        "outputId": "e055adfe-a2dc-47a8-807e-aebcaea94ead",
        "colab": {
          "base_uri": "https://localhost:8080/"
        }
      },
      "outputs": [
        {
          "output_type": "execute_result",
          "data": {
            "text/plain": [
              "30000"
            ]
          },
          "metadata": {},
          "execution_count": 5
        }
      ],
      "source": [
        "100*300"
      ]
    },
    {
      "cell_type": "code",
      "source": [
        "%%writefile output4.txt\n",
        "30000"
      ],
      "metadata": {
        "id": "zED8V8wu-eoM",
        "outputId": "342f201b-666d-42de-b10c-2030e424f66b",
        "colab": {
          "base_uri": "https://localhost:8080/"
        }
      },
      "execution_count": null,
      "outputs": [
        {
          "output_type": "stream",
          "name": "stdout",
          "text": [
            "Writing output4.txt\n"
          ]
        }
      ]
    },
    {
      "cell_type": "code",
      "source": [
        "%%writefile input5.txt\n",
        "2\n",
        "300 500"
      ],
      "metadata": {
        "colab": {
          "base_uri": "https://localhost:8080/"
        },
        "id": "WImmpU22T1U5",
        "outputId": "45ba0b01-c0ae-4f5d-c6fc-593a82ea5ec3"
      },
      "execution_count": null,
      "outputs": [
        {
          "output_type": "stream",
          "name": "stdout",
          "text": [
            "Writing input5.txt\n"
          ]
        }
      ]
    },
    {
      "cell_type": "code",
      "source": [
        "300*500"
      ],
      "metadata": {
        "colab": {
          "base_uri": "https://localhost:8080/"
        },
        "id": "jBw5JrlZT1NJ",
        "outputId": "f3e8af42-a635-48c5-cb87-4c3922932841"
      },
      "execution_count": null,
      "outputs": [
        {
          "output_type": "execute_result",
          "data": {
            "text/plain": [
              "150000"
            ]
          },
          "metadata": {},
          "execution_count": 3
        }
      ]
    },
    {
      "cell_type": "code",
      "source": [
        "%%writefile output5.txt"
      ],
      "metadata": {
        "colab": {
          "base_uri": "https://localhost:8080/"
        },
        "id": "Pf0MJycXT1Em",
        "outputId": "59d0ae3e-150b-4618-b342-e9611166527e"
      },
      "execution_count": null,
      "outputs": [
        {
          "output_type": "stream",
          "name": "stdout",
          "text": [
            "Writing output5.txt\n"
          ]
        }
      ]
    },
    {
      "cell_type": "code",
      "source": [
        "%%writefile input6.txt\n",
        "10\n",
        "2 3 4 5 6 7 8 9 10 11"
      ],
      "metadata": {
        "colab": {
          "base_uri": "https://localhost:8080/"
        },
        "id": "Ai26RONDT0tx",
        "outputId": "50850867-e675-406d-a44e-7af9ccb07d08"
      },
      "execution_count": null,
      "outputs": [
        {
          "output_type": "stream",
          "name": "stdout",
          "text": [
            "Writing input6.txt\n"
          ]
        }
      ]
    },
    {
      "cell_type": "code",
      "source": [
        "11*10"
      ],
      "metadata": {
        "colab": {
          "base_uri": "https://localhost:8080/"
        },
        "id": "jJwuJsKfT0oS",
        "outputId": "69c0f77b-db10-49ba-94a2-76902879675d"
      },
      "execution_count": null,
      "outputs": [
        {
          "output_type": "execute_result",
          "data": {
            "text/plain": [
              "110"
            ]
          },
          "metadata": {},
          "execution_count": 8
        }
      ]
    },
    {
      "cell_type": "code",
      "source": [
        "%%writefile output6.txt\n",
        "110"
      ],
      "metadata": {
        "colab": {
          "base_uri": "https://localhost:8080/"
        },
        "id": "DQuWSM1KT0ga",
        "outputId": "b9d7fb88-e079-4366-8853-806d20410a0a"
      },
      "execution_count": null,
      "outputs": [
        {
          "output_type": "stream",
          "name": "stdout",
          "text": [
            "Writing output6.txt\n"
          ]
        }
      ]
    },
    {
      "cell_type": "code",
      "source": [
        "%%writefile input7.txt\n",
        "4\n",
        "200 150 20 300"
      ],
      "metadata": {
        "id": "H2qVJwlUTzKS"
      },
      "execution_count": null,
      "outputs": []
    },
    {
      "cell_type": "code",
      "source": [
        "200*300"
      ],
      "metadata": {
        "colab": {
          "base_uri": "https://localhost:8080/"
        },
        "id": "9mRfIFpyTzDK",
        "outputId": "c5454e97-478a-4a10-8320-1cb989529380"
      },
      "execution_count": null,
      "outputs": [
        {
          "output_type": "execute_result",
          "data": {
            "text/plain": [
              "60000"
            ]
          },
          "metadata": {},
          "execution_count": 11
        }
      ]
    },
    {
      "cell_type": "code",
      "source": [
        "%%writefile output7.txt\n",
        "60000"
      ],
      "metadata": {
        "colab": {
          "base_uri": "https://localhost:8080/"
        },
        "id": "PJv8nSfwTy7i",
        "outputId": "1f22553c-bf80-461c-c473-4b7db70511e3"
      },
      "execution_count": null,
      "outputs": [
        {
          "output_type": "stream",
          "name": "stdout",
          "text": [
            "Writing output7.txt\n"
          ]
        }
      ]
    },
    {
      "cell_type": "code",
      "source": [
        "%%writefile input8.txt\n",
        "5\n",
        "10 9 8 7 6"
      ],
      "metadata": {
        "colab": {
          "base_uri": "https://localhost:8080/"
        },
        "id": "5EBkturtTyvB",
        "outputId": "6e51b0d1-16ed-4239-f197-16714186aebb"
      },
      "execution_count": null,
      "outputs": [
        {
          "output_type": "stream",
          "name": "stdout",
          "text": [
            "Writing input8.txt\n"
          ]
        }
      ]
    },
    {
      "cell_type": "code",
      "source": [
        "10*9"
      ],
      "metadata": {
        "colab": {
          "base_uri": "https://localhost:8080/"
        },
        "id": "RH6y08wGTyn5",
        "outputId": "1b2bdfb5-08b2-4ece-9860-9cbc431f7248"
      },
      "execution_count": null,
      "outputs": [
        {
          "output_type": "execute_result",
          "data": {
            "text/plain": [
              "90"
            ]
          },
          "metadata": {},
          "execution_count": 14
        }
      ]
    },
    {
      "cell_type": "code",
      "source": [
        "%%writefile output8.txt\n",
        "90"
      ],
      "metadata": {
        "colab": {
          "base_uri": "https://localhost:8080/"
        },
        "id": "ohMahdfNTygz",
        "outputId": "4a49d463-1c7e-432f-9bbd-688fdf58f745"
      },
      "execution_count": null,
      "outputs": [
        {
          "output_type": "stream",
          "name": "stdout",
          "text": [
            "Writing output8.txt\n"
          ]
        }
      ]
    },
    {
      "cell_type": "code",
      "source": [
        "%%writefile input9.txt\n",
        "3\n",
        "700 900 2"
      ],
      "metadata": {
        "colab": {
          "base_uri": "https://localhost:8080/"
        },
        "id": "AD9btbCZTyWB",
        "outputId": "a1e9a4b5-8555-4798-cc5f-49459904a526"
      },
      "execution_count": null,
      "outputs": [
        {
          "output_type": "stream",
          "name": "stdout",
          "text": [
            "Writing input9.txt\n"
          ]
        }
      ]
    },
    {
      "cell_type": "code",
      "source": [
        "700*900"
      ],
      "metadata": {
        "colab": {
          "base_uri": "https://localhost:8080/"
        },
        "id": "JI-RLDC3TyOy",
        "outputId": "2d7e34ad-4678-4274-92b7-0bb2247b3eb8"
      },
      "execution_count": null,
      "outputs": [
        {
          "output_type": "execute_result",
          "data": {
            "text/plain": [
              "630000"
            ]
          },
          "metadata": {},
          "execution_count": 17
        }
      ]
    },
    {
      "cell_type": "code",
      "source": [
        "%%writefile output9.txt\n",
        "630000"
      ],
      "metadata": {
        "colab": {
          "base_uri": "https://localhost:8080/"
        },
        "id": "XlKh7117TyHL",
        "outputId": "f8105fb7-3ae9-4cbf-8474-bd787268499c"
      },
      "execution_count": null,
      "outputs": [
        {
          "output_type": "stream",
          "name": "stdout",
          "text": [
            "Writing output9.txt\n"
          ]
        }
      ]
    },
    {
      "cell_type": "code",
      "source": [
        "%%writefile input10.txt\n",
        "7\n",
        "2 3 5 7 11 13 17"
      ],
      "metadata": {
        "colab": {
          "base_uri": "https://localhost:8080/"
        },
        "id": "TITOeE_lT8_S",
        "outputId": "86fafa34-4589-4b0e-e6c5-52a51bbf7e9b"
      },
      "execution_count": null,
      "outputs": [
        {
          "output_type": "stream",
          "name": "stdout",
          "text": [
            "Writing input10.txt\n"
          ]
        }
      ]
    },
    {
      "cell_type": "code",
      "source": [
        "13*17"
      ],
      "metadata": {
        "colab": {
          "base_uri": "https://localhost:8080/"
        },
        "id": "oKS6XtnKT846",
        "outputId": "33e3f0dd-f6b5-4f00-8dd1-d6ea6c6ba55b"
      },
      "execution_count": null,
      "outputs": [
        {
          "output_type": "execute_result",
          "data": {
            "text/plain": [
              "221"
            ]
          },
          "metadata": {},
          "execution_count": 20
        }
      ]
    },
    {
      "cell_type": "code",
      "source": [
        "%%writefile output10.txt\n",
        "221"
      ],
      "metadata": {
        "colab": {
          "base_uri": "https://localhost:8080/"
        },
        "id": "EJJQN4WfT8xK",
        "outputId": "13c8b5b0-2d07-4970-ab9b-706d6a6b1745"
      },
      "execution_count": null,
      "outputs": [
        {
          "output_type": "stream",
          "name": "stdout",
          "text": [
            "Writing output10.txt\n"
          ]
        }
      ]
    },
    {
      "cell_type": "code",
      "source": [
        " %%writefile run_all_test.sh\n",
        "#!/bin/bash\n",
        "g++ max_pairwise_product_long_full.cpp -o max_pairwise_product_long_full\n",
        "for i in {1..11}\n",
        "do\n",
        "    ./max_pairwise_product_long_full < input$i.txt > ctest$i.txt\n",
        "    grep -xvFf output$i.txt ctest$i.txt\n",
        "done"
      ],
      "metadata": {
        "colab": {
          "base_uri": "https://localhost:8080/"
        },
        "id": "-_u9yWlgVLTR",
        "outputId": "106a2750-ad27-4e86-a514-975b904438f4"
      },
      "execution_count": null,
      "outputs": [
        {
          "output_type": "stream",
          "name": "stdout",
          "text": [
            "Overwriting run_all_test.sh\n"
          ]
        }
      ]
    },
    {
      "cell_type": "code",
      "source": [
        "!chmod u+x run_all_test.sh\n",
        "!./run_all_test.sh"
      ],
      "metadata": {
        "colab": {
          "base_uri": "https://localhost:8080/"
        },
        "id": "DjlnuwqSVUnR",
        "outputId": "e88bf0d6-5c3d-4b3b-dcb6-2cd7f482322c"
      },
      "execution_count": null,
      "outputs": [
        {
          "output_type": "stream",
          "name": "stdout",
          "text": [
            "\u001b[01m\u001b[Kcc1plus:\u001b[m\u001b[K \u001b[01;31m\u001b[Kfatal error: \u001b[m\u001b[Kmax_pairwise_product_long_full.cpp: No such file or directory\n",
            "compilation terminated.\n",
            "./run_all_test.sh: line 5: input1.txt: No such file or directory\n",
            "grep: output1.txt: No such file or directory\n",
            "./run_all_test.sh: line 5: input2.txt: No such file or directory\n",
            "grep: output2.txt: No such file or directory\n",
            "./run_all_test.sh: line 5: input3.txt: No such file or directory\n",
            "grep: output3.txt: No such file or directory\n",
            "./run_all_test.sh: line 5: ./max_pairwise_product_long_full: No such file or directory\n",
            "./run_all_test.sh: line 5: ./max_pairwise_product_long_full: No such file or directory\n",
            "./run_all_test.sh: line 5: ./max_pairwise_product_long_full: No such file or directory\n",
            "./run_all_test.sh: line 5: ./max_pairwise_product_long_full: No such file or directory\n",
            "./run_all_test.sh: line 5: ./max_pairwise_product_long_full: No such file or directory\n",
            "./run_all_test.sh: line 5: ./max_pairwise_product_long_full: No such file or directory\n",
            "./run_all_test.sh: line 5: ./max_pairwise_product_long_full: No such file or directory\n",
            "./run_all_test.sh: line 5: input11.txt: No such file or directory\n",
            "grep: output11.txt: No such file or directory\n"
          ]
        }
      ]
    },
    {
      "cell_type": "markdown",
      "metadata": {
        "id": "9z9yr5QkeyJF"
      },
      "source": [
        "### Test 4  time test  measure the execution time running with the the largest worst cases input11.txt  (200000 increasing numbers) and input12.txt (199998 increasing numbers and  200000, 200000 at the end)"
      ]
    },
    {
      "cell_type": "code",
      "source": [
        "# input11.txt 200000 increasing numbers:  1 2 .. 200000\n",
        "\n",
        "%%writefile WriteTest.cpp\n",
        "\n",
        "#include <iostream>\n",
        "#include <fstream>\n",
        "#include <cstdlib>\n",
        "\n",
        "using namespace std;\n",
        "\n",
        "int main() {\n",
        "  // Create and open a text file\n",
        "  ofstream MyFile(\"input11.txt\");\n",
        "\n",
        " MyFile << 200000 <<\"\\n\";  // n\n",
        " for (int i=1; i <200001; i++){\n",
        "     MyFile << i <<\" \";\n",
        " }\n",
        "\n",
        "  // Close the file\n",
        "  MyFile.close();\n",
        "}"
      ],
      "metadata": {
        "colab": {
          "base_uri": "https://localhost:8080/"
        },
        "id": "UmB1ipWM_nSk",
        "outputId": "8aaa9acd-d937-43a7-c13a-eaf9476ee19a"
      },
      "execution_count": null,
      "outputs": [
        {
          "output_type": "stream",
          "name": "stdout",
          "text": [
            "Overwriting WriteTest.cpp\n"
          ]
        }
      ]
    },
    {
      "cell_type": "code",
      "execution_count": null,
      "metadata": {
        "id": "EH25TkOkZfD9"
      },
      "outputs": [],
      "source": [
        "!g++ WriteTest.cpp -o WriteTest\n",
        "!./WriteTest"
      ]
    },
    {
      "cell_type": "code",
      "source": [
        "199999 * 200000"
      ],
      "metadata": {
        "colab": {
          "base_uri": "https://localhost:8080/"
        },
        "id": "j0mokSOnCCtZ",
        "outputId": "d10f1b64-e24b-425f-b5a7-859e2eb08ebb"
      },
      "execution_count": null,
      "outputs": [
        {
          "output_type": "execute_result",
          "data": {
            "text/plain": [
              "39999800000"
            ]
          },
          "metadata": {},
          "execution_count": 42
        }
      ]
    },
    {
      "cell_type": "code",
      "source": [
        "%%writefile output11.txt\n",
        "39999800000"
      ],
      "metadata": {
        "id": "VoDhDV73B5Mo",
        "colab": {
          "base_uri": "https://localhost:8080/"
        },
        "outputId": "aff31b15-71c4-47bc-ee80-d54de58c2f66"
      },
      "execution_count": null,
      "outputs": [
        {
          "output_type": "stream",
          "name": "stdout",
          "text": [
            "Overwriting output11.txt\n"
          ]
        }
      ]
    },
    {
      "cell_type": "code",
      "execution_count": null,
      "metadata": {
        "colab": {
          "base_uri": "https://localhost:8080/"
        },
        "id": "oLiMjbAIfPlX",
        "outputId": "34c71c93-b465-4755-88f0-e1646d44cf24"
      },
      "outputs": [
        {
          "output_type": "stream",
          "name": "stdout",
          "text": [
            "Overwriting WriteTest.cpp\n"
          ]
        }
      ],
      "source": [
        "# input12.txt 200000 decreasing numbers and 200000, 199999 ...  2 1\n",
        "\n",
        "%%writefile WriteTest.cpp\n",
        "\n",
        "#include <iostream>\n",
        "#include <fstream>\n",
        "#include <cstdlib>\n",
        "\n",
        "using namespace std;\n",
        "\n",
        "int main() {\n",
        "  // Create and open a text file\n",
        "  ofstream MyFile(\"input12.txt\");\n",
        "\n",
        " MyFile << 200000 <<\"\\n\";  // n\n",
        " for (int i=1; i <200001; i++){\n",
        "     MyFile << 200001-i <<\" \";\n",
        " }\n",
        "\n",
        "  // Close the file\n",
        "  MyFile.close();\n",
        "}"
      ]
    },
    {
      "cell_type": "code",
      "source": [
        "!g++ WriteTest.cpp -o WriteTest\n",
        "!./WriteTest"
      ],
      "metadata": {
        "id": "oULNBr_zAd9c"
      },
      "execution_count": null,
      "outputs": []
    },
    {
      "cell_type": "code",
      "source": [
        "%%writefile output12.txt\n",
        "39999800000"
      ],
      "metadata": {
        "colab": {
          "base_uri": "https://localhost:8080/"
        },
        "id": "PQLyocaFB-y4",
        "outputId": "b0176178-ccac-4929-b013-ea25fd8b4380"
      },
      "execution_count": null,
      "outputs": [
        {
          "output_type": "stream",
          "name": "stdout",
          "text": [
            "Overwriting output12.txt\n"
          ]
        }
      ]
    },
    {
      "cell_type": "markdown",
      "metadata": {
        "id": "JB6f03qO-lj9"
      },
      "source": [
        "Measure time\n",
        "\n",
        "https://askubuntu.com/questions/53444/how-can-i-measure-the-execution-time-of-a-terminal-process"
      ]
    },
    {
      "cell_type": "code",
      "execution_count": null,
      "metadata": {
        "colab": {
          "base_uri": "https://localhost:8080/"
        },
        "id": "6p2QLEr576zk",
        "outputId": "8adbc361-96ca-4ce4-f2e1-4ca74663c70d"
      },
      "outputs": [
        {
          "output_type": "stream",
          "name": "stdout",
          "text": [
            "39999800000\n",
            "\n",
            "real\t4m55.301s\n",
            "user\t4m53.124s\n",
            "sys\t0m0.101s\n"
          ]
        }
      ],
      "source": [
        "!g++ max_pairwise_product_long_full.cpp -o max_pairwise_product_long_full\n",
        "!time ./max_pairwise_product_long_full< input11.txt"
      ]
    },
    {
      "cell_type": "code",
      "source": [
        "!g++ max_pairwise_product_long_full.cpp -o max_pairwise_product_long_full\n",
        "!time ./max_pairwise_product_long_full< input12.txt"
      ],
      "metadata": {
        "colab": {
          "base_uri": "https://localhost:8080/"
        },
        "id": "cnjCyeUdAnZj",
        "outputId": "f07c10d3-b84f-4698-c621-c37755fa21e6"
      },
      "execution_count": null,
      "outputs": [
        {
          "output_type": "stream",
          "name": "stdout",
          "text": [
            "39999800000\n",
            "\n",
            "real\t4m54.301s\n",
            "user\t4m52.421s\n",
            "sys\t0m0.070s\n"
          ]
        }
      ]
    },
    {
      "cell_type": "markdown",
      "metadata": {
        "id": "FXClpBsUJuXC"
      },
      "source": [
        "##### Calculate the number or and upper bound to the number of instructions executed by the algorithm as a function of n, add in each line a comment with the number of instructions that are executed in that line."
      ]
    },
    {
      "cell_type": "code",
      "execution_count": null,
      "metadata": {
        "colab": {
          "base_uri": "https://localhost:8080/"
        },
        "id": "uG6Mv-Pwlkii",
        "outputId": "0e5fe110-8398-40b1-e65c-30ec1da0f78a"
      },
      "outputs": [
        {
          "output_type": "stream",
          "name": "stdout",
          "text": [
            "Overwriting max_pairwise_product_long_full.cpp\n"
          ]
        }
      ],
      "source": [
        "%%writefile max_pairwise_product_long_full.cpp\n",
        "#include <iostream>\n",
        "#include <vector>\n",
        "#include <algorithm>\n",
        "\n",
        "long long MaxPairwiseProduct(const std::vector<int>& numbers) {              //INSTRUCTIONS executed by line\n",
        "    long long max_product = 0LL;                                             //1\n",
        "\t  long long aux_product = 0LL;                                             //1\n",
        "    int n = numbers.size();                                                  //1\n",
        "\n",
        "    for (int first = 0; first < n; ++first) {                                //2+2n\n",
        "        for (int second = 0; second < n; ++second) {                         //2n + 2n**2\n",
        "          if ( first != second ){                                            //n**2\n",
        "                aux_product = numbers[first] * numbers[second];              //n**2 -n\n",
        "                if (aux_product > max_product)                               //n**2 -n\n",
        "                    max_product = aux_product;                               //[0, n**2/2 - n/2] upper bound\n",
        "          }\n",
        "        }\n",
        "    }\n",
        "\n",
        "                                                                             // --------------\n",
        "    return max_product;                                                      // 5 + 2*n + [5*n**2, 11*n**2/2  - n/2]  upper bound\n",
        "}\n",
        "\n",
        "int main() {                                              //INSTRUCTIONS executed by line\n",
        "    int n;                                                //1\n",
        "    std::cin >> n;                                        //1\n",
        "    std::vector<int> numbers(n);                          //n\n",
        "    for (int i = 0; i < n; ++i) {                         //2 + 2n\n",
        "        std::cin >> numbers[i];                           //n\n",
        "    }\n",
        "\n",
        "    std::cout << MaxPairwiseProduct(numbers) << \"\\n\";     //1 + 1  + 5 + 2*n + [5*n**2, 11*n**2/2  - n/2]\n",
        "\n",
        "    return 0;                                             // --------------\n",
        "}                                                         //  11 + 6*n + [5*n**2, 11*n**2/2  - n/2]  upper bound\n"
      ]
    },
    {
      "cell_type": "markdown",
      "metadata": {
        "id": "0vTsUg8OwcHs"
      },
      "source": [
        "Count executed intructions in code"
      ]
    },
    {
      "cell_type": "code",
      "execution_count": null,
      "metadata": {
        "colab": {
          "base_uri": "https://localhost:8080/"
        },
        "id": "CuRKkqQc137V",
        "outputId": "414430d7-f83a-46f5-841a-ca6beb445ec4"
      },
      "outputs": [
        {
          "output_type": "stream",
          "name": "stdout",
          "text": [
            "Overwriting max_pairwise_product_long_full_execints.cpp\n"
          ]
        }
      ],
      "source": [
        "%%writefile max_pairwise_product_long_full_execints.cpp\n",
        "#include <iostream>\n",
        "#include <vector>\n",
        "#include <algorithm>\n",
        "\n",
        "long long MaxPairwiseProduct(const std::vector<int>& numbers, long long &execints) {      //INSTRUCTIONS executed by line\n",
        "\n",
        "    long long max_product = 0LL;                                                          //1\n",
        "    execints++;\n",
        "\n",
        "\t  long long aux_product = 0LL;                                                          //1\n",
        "    execints++;\n",
        "\n",
        "    int n = numbers.size();                                                               //1\n",
        "    execints++;\n",
        "\n",
        "    execints++;\n",
        "    for (int first = 0; first < n; ++first) {                                             //2+2n\n",
        "        execints += 2;\n",
        "\n",
        "        execints++;\n",
        "        for (int second = 0; second < n; ++second) {                                       //2n + 2n**2\n",
        "          execints += 2;\n",
        "\n",
        "          execints++;\n",
        "          if ( first != second ){                                                         //n**2\n",
        "                aux_product = numbers[first] * numbers[second];                           //n**2 -n\n",
        "                execints++;\n",
        "\n",
        "                execints++;\n",
        "                if (aux_product > max_product){                                           //n**2 -n\n",
        "                    max_product = aux_product;                                            //[0,n**2/2 - n/2)  upper bound\n",
        "                    execints++;\n",
        "\n",
        "                }\n",
        "        }\n",
        "\n",
        "      }\n",
        "      execints++;\n",
        "    }\n",
        "    execints++;\n",
        "                                                                                        // --------------\n",
        "    return max_product;                                                                 // 5 + 2*n + [5*n**2, 11*n**2/2  - n/2] upper bound\n",
        "}\n",
        "\n",
        "int main() {                                                 //INSTRUCTIONS executed by line\n",
        "\n",
        "    long long execints =0LL;\n",
        "\n",
        "    int n;                                                   //1\n",
        "    execints++;\n",
        "\n",
        "    std::cin >> n;                                           //1\n",
        "    execints++;\n",
        "\n",
        "    std::vector<int> numbers(n);                             //n\n",
        "    execints += n;\n",
        "\n",
        "    execints++;\n",
        "    for (int i = 0; i < n; ++i) {                            //2 + 2n\n",
        "        execints += 2;\n",
        "\n",
        "        std::cin >> numbers[i];\n",
        "        execints++;                                          //n\n",
        "\n",
        "    }\n",
        "\n",
        "\n",
        "    //std::cout << MaxPairwiseProduct(numbers) << \"\\n\";      //1 + 1  + 5 + 2*n + [5*n**2, 11*n**2/2  - n/2] upper bound\n",
        "\n",
        "    execints++;\n",
        "    int M = MaxPairwiseProduct(numbers,execints);\n",
        "\n",
        "    execints++;\n",
        "    std::cout <<  execints << \"\\n\";\n",
        "    return 0;                                                // --------------\n",
        "}                                                            // 11 + 6*n + [5*n**2, 11*n**2/2  - n/2]"
      ]
    },
    {
      "cell_type": "markdown",
      "source": [
        "The number of instructions executed by the algooirithm with a list of size $n$ is  \n",
        "\n",
        "$$T (n) = 11 + 6n + \\left[5n^2, 11\\frac{n^2}{2}  - \\frac{n}{2}\\right) \\ \\  \\text{upper bound}$$\n",
        "\n",
        "It depends on the size of the lists and  the order of the list.\n",
        "\n",
        "For the input0.txt\n",
        "```\n",
        "10\n",
        "0 0 0 0 0 0 0 0 0 0\n",
        "```\n",
        "$$T = 11 + 6(10) + 5(10)^2   = 561 $$\n",
        "\n",
        "$$T(10) \\in [571, 621)  $$\n"
      ],
      "metadata": {
        "id": "cUjHtvtdDsmr"
      }
    },
    {
      "cell_type": "code",
      "source": [
        "!g++ max_pairwise_product_long_full_execints.cpp -o max_pairwise_product_long_full_execints\n",
        "!./max_pairwise_product_long_full_execints < input0.txt"
      ],
      "metadata": {
        "colab": {
          "base_uri": "https://localhost:8080/"
        },
        "id": "Om9Fevb0miAT",
        "outputId": "b4f71f1c-3b81-4e88-9901-fe14a79cd844"
      },
      "execution_count": null,
      "outputs": [
        {
          "output_type": "stream",
          "name": "stdout",
          "text": [
            "571\n"
          ]
        }
      ]
    },
    {
      "cell_type": "markdown",
      "source": [
        "For the input1.txt\n",
        "```\n",
        "10\n",
        "1 2 3 4 5 6 7 8 9 10\n",
        "```\n",
        "$$T = 11 + 6(10) + 5(10)^2 +  9 + 5 + 4 + 3 + 2 + 2 + 2 + 2 + 1 + 0  = 601 $$\n",
        "\n",
        "$$T(10) \\in [572, 622)  $$\n"
      ],
      "metadata": {
        "id": "FwJzZ6VzmArY"
      }
    },
    {
      "cell_type": "code",
      "source": [
        "#The number of times that  max_product = aux_product; in the worst case is less than (n**2 -n)/2 -  upper bound\n",
        "\n",
        "#     1  2  3  4  5  6  7  8  9  10\n",
        "#  1  x  2  3  4  5  6  7  8  9  10         9\n",
        "#  2  2  x  6  8  10 12 14 16 18 20         5 14\n",
        "#  3  3  6  x  12 15 18 21 24 27 30         4 18\n",
        "#  4  4  8  12 x  20 24 28 32 36 40         3 21\n",
        "#  5  5  10 15 20 x  30 35 40 45 50         2 23\n",
        "#  6  6  12 18 24 30 x  42 48 54 60         2 25\n",
        "#  7  7  14 21 28 35 42 x  56 63 70         2 27\n",
        "#  8  8  18 27 36 45 54 63 72 x  90         1 30\n",
        "#  10 10 20 30 40 50 60 70 60 90 x          0"
      ],
      "metadata": {
        "id": "K59xQMWiBNFj"
      },
      "execution_count": null,
      "outputs": []
    },
    {
      "cell_type": "code",
      "source": [
        "11 + 6*(10) + 5*(10)*(10) +  9 + 5 + 4 + 3 + 2 + 2 + 2 + 2 + 1 + 0"
      ],
      "metadata": {
        "colab": {
          "base_uri": "https://localhost:8080/"
        },
        "id": "E3O8dzFfEgir",
        "outputId": "ef3f0b71-aea7-45d6-dbda-305be4669f8d"
      },
      "execution_count": null,
      "outputs": [
        {
          "output_type": "execute_result",
          "data": {
            "text/plain": [
              "601"
            ]
          },
          "metadata": {},
          "execution_count": 82
        }
      ]
    },
    {
      "cell_type": "code",
      "source": [
        "n = 10\n",
        "print( \"[\", 11 + 6*n + 5*n**2,  \",\", 11 + 6*n  + 5.5*n**2, \")\")"
      ],
      "metadata": {
        "colab": {
          "base_uri": "https://localhost:8080/"
        },
        "id": "TCpdl5u_Gq1a",
        "outputId": "908511b0-6e5b-4503-845d-867942a1f888"
      },
      "execution_count": null,
      "outputs": [
        {
          "output_type": "stream",
          "name": "stdout",
          "text": [
            "[ 571 , 621.0 )\n"
          ]
        }
      ]
    },
    {
      "cell_type": "code",
      "execution_count": null,
      "metadata": {
        "colab": {
          "base_uri": "https://localhost:8080/"
        },
        "id": "Kuvm1C05ly2a",
        "outputId": "ea67bcbf-2740-4333-9e06-c08006d88b5d"
      },
      "outputs": [
        {
          "output_type": "stream",
          "name": "stdout",
          "text": [
            "44\n",
            "44\n",
            "601\n"
          ]
        }
      ],
      "source": [
        "!g++ max_pairwise_product_long_full_execints.cpp -o max_pairwise_product_long_full_execints\n",
        "!./max_pairwise_product_long_full_execints < input1.txt"
      ]
    },
    {
      "cell_type": "markdown",
      "source": [
        "\n",
        "For the input2.txt\n",
        "```\n",
        "10\n",
        "10 9 8 7 6 5 4 3 2 1\n",
        "```\n",
        "$$T = 11 + 6*(10) + 5*(10)**2 +  1  = 571 $$"
      ],
      "metadata": {
        "id": "Yr_Lb7CaHfxB"
      }
    },
    {
      "cell_type": "code",
      "source": [
        "11 + 6*(10) + 5*(10)**2 +  1"
      ],
      "metadata": {
        "colab": {
          "base_uri": "https://localhost:8080/"
        },
        "id": "HOdqlwJiZUIp",
        "outputId": "0558fe10-221f-4537-eaab-c0515ea1b22c"
      },
      "execution_count": null,
      "outputs": [
        {
          "output_type": "execute_result",
          "data": {
            "text/plain": [
              "572"
            ]
          },
          "metadata": {},
          "execution_count": 54
        }
      ]
    },
    {
      "cell_type": "code",
      "source": [
        "!g++ max_pairwise_product_long_full_execints.cpp -o max_pairwise_product_long_full_execints\n",
        "!./max_pairwise_product_long_full_execints < input2.txt"
      ],
      "metadata": {
        "id": "_znzLectjFSe",
        "colab": {
          "base_uri": "https://localhost:8080/"
        },
        "outputId": "c29cd54b-653c-420e-9ea9-c232b1def807"
      },
      "execution_count": null,
      "outputs": [
        {
          "output_type": "stream",
          "name": "stdout",
          "text": [
            "572\n"
          ]
        }
      ]
    },
    {
      "cell_type": "markdown",
      "metadata": {
        "id": "NXW7QkoBL6xH"
      },
      "source": [
        "Calculate estimated time by instruction and number of instructions by second"
      ]
    },
    {
      "cell_type": "markdown",
      "source": [
        "For the input11.txt\n",
        "```\n",
        "200000\n",
        "1 2 ..  199999 2000\n",
        "```\n",
        "$$T = 11 + 6*(200000) + 5.5*(200000)**2  = 200001200012  $$"
      ],
      "metadata": {
        "id": "dlyRjaohz-YH"
      }
    },
    {
      "cell_type": "code",
      "source": [
        "!g++ max_pairwise_product_long_full_execints.cpp -o max_pairwise_product_long_full_execints\n",
        "!./max_pairwise_product_long_full_execints < input11.txt"
      ],
      "metadata": {
        "colab": {
          "base_uri": "https://localhost:8080/"
        },
        "id": "BMH8mF3EKn2w",
        "outputId": "59a227ed-24b9-494a-d476-d45f33b3d395"
      },
      "execution_count": null,
      "outputs": [
        {
          "output_type": "stream",
          "name": "stdout",
          "text": [
            "200003177092\n"
          ]
        }
      ]
    },
    {
      "cell_type": "code",
      "execution_count": null,
      "metadata": {
        "colab": {
          "base_uri": "https://localhost:8080/"
        },
        "id": "pKqB3i7dIxnc",
        "outputId": "c3d75520-0c34-4970-b331-6cbec92fb0be"
      },
      "outputs": [
        {
          "output_type": "execute_result",
          "data": {
            "text/plain": [
              "1.4749765693187072e-09"
            ]
          },
          "metadata": {},
          "execution_count": 60
        }
      ],
      "source": [
        "# Estimated time by instruction\n",
        "\n",
        "295/200003177092\n"
      ]
    },
    {
      "cell_type": "code",
      "execution_count": null,
      "metadata": {
        "colab": {
          "base_uri": "https://localhost:8080/"
        },
        "id": "18N1ouqeMhE1",
        "outputId": "e92c5ec2-ee15-47c4-e4a9-ff32a7ff7e0f"
      },
      "outputs": [
        {
          "output_type": "execute_result",
          "data": {
            "text/plain": [
              "677976871.4983051"
            ]
          },
          "metadata": {},
          "execution_count": 61
        }
      ],
      "source": [
        "# Estimated number of instructions by second\n",
        "\n",
        "200003177092/295"
      ]
    },
    {
      "cell_type": "markdown",
      "source": [
        "# Estimate the maximun n that can be solved in 1 second\n",
        "\n",
        "$$(5.5n^2 + 5.5n + 11) \\times 1.47*10^{-9} s = 1 s$$\n",
        "\n",
        "$$ n \\approx 11000$$\n"
      ],
      "metadata": {
        "id": "KyuxejFkL5X_"
      }
    },
    {
      "cell_type": "code",
      "source": [
        "# Verify input13.txt\n",
        "%%writefile WriteTest.cpp\n",
        "\n",
        "#include <iostream>\n",
        "#include <fstream>\n",
        "#include <cstdlib>\n",
        "\n",
        "using namespace std;\n",
        "\n",
        "int main() {\n",
        "  // Create and open a text file\n",
        "  ofstream MyFile(\"input13.txt\");\n",
        "\n",
        " MyFile << 11000 <<\"\\n\";  // n\n",
        " for (int i=1; i <11001; i++){\n",
        "     MyFile << i <<\" \";\n",
        " }\n",
        "\n",
        "  // Close the file\n",
        "  MyFile.close();\n",
        "}"
      ],
      "metadata": {
        "colab": {
          "base_uri": "https://localhost:8080/"
        },
        "id": "WXu5jp-DLTOI",
        "outputId": "935993cf-5a18-4d92-ca1e-9a98a7781a16"
      },
      "execution_count": null,
      "outputs": [
        {
          "output_type": "stream",
          "name": "stdout",
          "text": [
            "Overwriting WriteTest.cpp\n"
          ]
        }
      ]
    },
    {
      "cell_type": "code",
      "source": [
        "!g++ WriteTest.cpp -o WriteTest\n",
        "!./WriteTest"
      ],
      "metadata": {
        "id": "AQ8N52pUMCeT"
      },
      "execution_count": null,
      "outputs": []
    },
    {
      "cell_type": "code",
      "source": [
        "10999 * 11000"
      ],
      "metadata": {
        "colab": {
          "base_uri": "https://localhost:8080/"
        },
        "id": "2iIOdbTrEtBx",
        "outputId": "4ff3513e-2aab-4f2c-95c2-cecd24a4b733"
      },
      "execution_count": null,
      "outputs": [
        {
          "output_type": "execute_result",
          "data": {
            "text/plain": [
              "120989000"
            ]
          },
          "metadata": {},
          "execution_count": 68
        }
      ]
    },
    {
      "cell_type": "code",
      "source": [
        "!g++ max_pairwise_product_long_full.cpp -o max_pairwise_product_long_full\n",
        "!time ./max_pairwise_product_long_full< input13.txt"
      ],
      "metadata": {
        "colab": {
          "base_uri": "https://localhost:8080/"
        },
        "id": "ussuAokfM2du",
        "outputId": "c63317a2-b588-42fd-dc04-50a680956cbf"
      },
      "execution_count": null,
      "outputs": [
        {
          "output_type": "stream",
          "name": "stdout",
          "text": [
            "120989000\n",
            "\n",
            "real\t0m0.859s\n",
            "user\t0m0.854s\n",
            "sys\t0m0.001s\n"
          ]
        }
      ]
    },
    {
      "cell_type": "markdown",
      "metadata": {
        "id": "Tm_AVmt-QQH4"
      },
      "source": [
        "## Python"
      ]
    },
    {
      "cell_type": "code",
      "execution_count": null,
      "metadata": {
        "id": "gRCCcd7IQTKZ",
        "outputId": "50acd6a9-b458-4ede-efa5-e827fbca3c0b",
        "colab": {
          "base_uri": "https://localhost:8080/"
        }
      },
      "outputs": [
        {
          "output_type": "stream",
          "name": "stdout",
          "text": [
            "Overwriting MaxPairwiseProduct.py\n"
          ]
        }
      ],
      "source": [
        "%%writefile MaxPairwiseProduct.py\n",
        "def MaxPairwiseProduct(numbers):\n",
        "    execints = 0  # N inst exec by line executed\n",
        "\n",
        "    max_product = 0  # 1\n",
        "    execints += 1\n",
        "\n",
        "    aux_product = 0  # 1\n",
        "    execints += 1\n",
        "\n",
        "    n = len(numbers)  # 1\n",
        "    execints += 1\n",
        "\n",
        "    execints += 1\n",
        "    for first in range(n):  # 2+2n\n",
        "        execints += 2\n",
        "\n",
        "        execints += 1\n",
        "        for second in range(n):  # 2n + 2n**2\n",
        "            execints += 2\n",
        "\n",
        "            execints += 1\n",
        "            if first != second:  # n**2\n",
        "                aux_product = numbers[first] * numbers[second]  # n**2 - n\n",
        "                execints += 1\n",
        "\n",
        "                execints += 1\n",
        "                if aux_product > max_product:  # n**2 - n\n",
        "                    max_product = aux_product  # [1, n**2/2 - n/2] upper bound\n",
        "                    execints += 1\n",
        "\n",
        "    return max_product, execints  # 5 + 2*n + [5*n**2+1, 11*n**2/2 - n/2] upper bound\n",
        "\n",
        "def main_function():\n",
        "    execints = 0  # N inst exec by line executed\n",
        "\n",
        "    n = int(input())  # 1\n",
        "    execints += 1\n",
        "\n",
        "    numbers = list(map(int, input().split()))  # n\n",
        "    execints += n\n",
        "\n",
        "    execints += 1\n",
        "\n",
        "    execints += 1\n",
        "    max_product, execints_returned = MaxPairwiseProduct(numbers)  # 1 + 1 + 4 + n + [5*n**2+1, 11*n**2/2 - n/2] upper bound\n",
        "    execints += execints_returned\n",
        "\n",
        "    execints += 1\n",
        "    print(execints)   #11 + 6*n + [5*n**2+1, 11*n**2/2 - n/2]\n",
        "    print(max_product)\n",
        "\n",
        "if __name__ == '__main__':\n",
        "    main_function()"
      ]
    },
    {
      "cell_type": "code",
      "execution_count": null,
      "metadata": {
        "id": "kAEAoNZEQTCw",
        "outputId": "aa65e3e0-76b7-47a0-8e8c-03811581ed5e",
        "colab": {
          "base_uri": "https://localhost:8080/"
        }
      },
      "outputs": [
        {
          "output_type": "stream",
          "name": "stdout",
          "text": [
            "605137049\n",
            "120989000\n",
            "\n",
            "real\t0m44.659s\n",
            "user\t0m44.275s\n",
            "sys\t0m0.035s\n"
          ]
        }
      ],
      "source": [
        "!time python MaxPairwiseProduct.py < input13.txt"
      ]
    },
    {
      "cell_type": "code",
      "source": [
        "# Estimated time by instruction\n",
        "44/605137049"
      ],
      "metadata": {
        "id": "mEabBzxi2XdG",
        "outputId": "99b0e9bc-b468-4253-e490-e3a3472c86bf",
        "colab": {
          "base_uri": "https://localhost:8080/"
        }
      },
      "execution_count": null,
      "outputs": [
        {
          "output_type": "execute_result",
          "data": {
            "text/plain": [
              "7.271080174765502e-08"
            ]
          },
          "metadata": {},
          "execution_count": 82
        }
      ]
    },
    {
      "cell_type": "markdown",
      "source": [
        "(5.5n2+5.5n+11)×7.27∗10−**8s=1s\n",
        "\n",
        "n≈1580"
      ],
      "metadata": {
        "id": "k4fxp_b94kuA"
      }
    },
    {
      "cell_type": "code",
      "execution_count": null,
      "metadata": {
        "id": "hjw7TJrDL0d-",
        "outputId": "2ef6607e-91a8-483c-fc75-ccdd4ad983a3",
        "colab": {
          "base_uri": "https://localhost:8080/"
        }
      },
      "outputs": [
        {
          "output_type": "stream",
          "name": "stdout",
          "text": [
            "Overwriting WriteTest.cpp\n"
          ]
        }
      ],
      "source": [
        "# Verify input14.txt\n",
        "%%writefile WriteTest.cpp\n",
        "\n",
        "#include <iostream>\n",
        "#include <fstream>\n",
        "#include <cstdlib>\n",
        "\n",
        "using namespace std;\n",
        "\n",
        "int main() {\n",
        "  // Create and open a text file\n",
        "  ofstream MyFile(\"input14.txt\");\n",
        "\n",
        " MyFile << 1580 <<\"\\n\";  // n\n",
        " for (int i=1; i <1580; i++){\n",
        "     MyFile << i <<\" \";\n",
        " }\n",
        "\n",
        "  // Close the file\n",
        "  MyFile.close();\n",
        "}"
      ]
    },
    {
      "cell_type": "code",
      "source": [
        "!g++ WriteTest.cpp -o WriteTest\n",
        "!./WriteTest"
      ],
      "metadata": {
        "id": "kQdWL_005q7b"
      },
      "execution_count": null,
      "outputs": []
    },
    {
      "cell_type": "code",
      "source": [
        "!time python MaxPairwiseProduct.py < input14.txt"
      ],
      "metadata": {
        "id": "Nlebi_MB5tHI",
        "outputId": "4e7fb7a6-af09-4aa2-9e31-1d6a2da2e2cc",
        "colab": {
          "base_uri": "https://localhost:8080/"
        }
      },
      "execution_count": null,
      "outputs": [
        {
          "output_type": "stream",
          "name": "stdout",
          "text": [
            "12482815\n",
            "2491662\n",
            "\n",
            "real\t0m0.947s\n",
            "user\t0m0.922s\n",
            "sys\t0m0.014s\n"
          ]
        }
      ]
    },
    {
      "cell_type": "markdown",
      "metadata": {
        "id": "MKQKSC-vKePK"
      },
      "source": [
        "## Perform the same analysis for an algorithm in C++ and Python that uses\n",
        "$$\\frac{n^2 - n}{2} = O(n^2)\\ \\ \\text{products}$$"
      ]
    },
    {
      "cell_type": "code",
      "execution_count": null,
      "metadata": {
        "id": "jkkHHoxSK65p"
      },
      "outputs": [],
      "source": [
        "%%writefile max_pairwise_product.cpp\n",
        "#include <iostream>\n",
        "#include <vector>\n",
        "#include <algorithm>\n",
        "\n",
        "int MaxPairwiseProduct(const std::vector<int>& numbers) {\n",
        "    int max_product = 0;\n",
        "    int n = numbers.size();\n",
        "\n",
        "    for (int first = 0; first < n; ++first) {\n",
        "        for (int second = first + 1; second < n; ++second) {\n",
        "            max_product = std::max(max_product,\n",
        "                numbers[first] * numbers[second]);\n",
        "        }\n",
        "    }\n",
        "\n",
        "    return max_product;\n",
        "}\n",
        "\n",
        "int main() {\n",
        "    int n;\n",
        "    std::cin >> n;\n",
        "    std::vector<int> numbers(n);\n",
        "    for (int i = 0; i < n; ++i) {\n",
        "        std::cin >> numbers[i];\n",
        "    }\n",
        "\n",
        "    std::cout << MaxPairwiseProduct(numbers) << \"\\n\";\n",
        "    return 0;\n",
        "}"
      ]
    },
    {
      "cell_type": "code",
      "execution_count": null,
      "metadata": {
        "id": "sU8-Ote7K8vz",
        "colab": {
          "base_uri": "https://localhost:8080/"
        },
        "outputId": "0a28a287-c689-40e7-81a9-012c9061273f"
      },
      "outputs": [
        {
          "output_type": "stream",
          "name": "stdout",
          "text": [
            "Overwriting max_pairwise_product_long.cpp\n"
          ]
        }
      ],
      "source": [
        "%%writefile max_pairwise_product_long.cpp\n",
        "#include <iostream>\n",
        "#include <vector>\n",
        "#include <algorithm>\n",
        "\n",
        "long long MaxPairwiseProduct(const std::vector<int>& numbers) {              //INSTRUCTIONS executed by line\n",
        "    long long max_product = 0LL;                                             //1\n",
        "\t  long long aux_product = 0LL;                                             //1\n",
        "    int n = numbers.size();                                                  //1\n",
        "\n",
        "    for (int first = 0; first < n; ++first) {                                //2+2n\n",
        "        for (int second = first + 1; second < n; ++second) {                 //2n + (n-1)n\n",
        "\t\t\t       aux_product =  (long long) numbers[first] * numbers[second];    //(n-1)n/2\n",
        "            if (max_product < aux_product)  {                                //(n-1)n/2\n",
        "\t\t\t\t        max_product = aux_product;                                   //[1,(n-1)n/2)  upper bound\n",
        "             }\n",
        "        }\n",
        "    }\n",
        "                                                                             // --------------\n",
        "    return max_product;                                                      // 5 + 4n + [2(n-1)n+1, 2.5 (n-1)n) upper bound\n",
        "}\n",
        "\n",
        "int main() {                                              //INSTRUCTIONS executed by line\n",
        "    int n;                                                //1\n",
        "    std::cin >> n;                                        //1\n",
        "    std::vector<int> numbers(n);                          //n\n",
        "    for (int i = 0; i < n; ++i) {                         //2 + 2n\n",
        "        std::cin >> numbers[i];                           //n\n",
        "    }\n",
        "\n",
        "    std::cout << MaxPairwiseProduct(numbers) << \"\\n\";     //1 + 1  + 5 + 4n + [2(n-1)n+1, 2.5 (n-1)n) upper bound\n",
        "    return 0;                                             // --------------\n",
        "}                                                         // 11 + 7n + [2(n-1)n+1, 2.5 (n-1)n) upper bound\n"
      ]
    },
    {
      "cell_type": "code",
      "execution_count": null,
      "metadata": {
        "id": "5QWT3fneK8nw",
        "outputId": "1c66126c-8caa-4824-fc14-6c859299a242",
        "colab": {
          "base_uri": "https://localhost:8080/"
        }
      },
      "outputs": [
        {
          "output_type": "stream",
          "name": "stdout",
          "text": [
            "Overwriting max_pairwise_product_long_details.cpp\n"
          ]
        }
      ],
      "source": [
        "%%writefile max_pairwise_product_long_details.cpp\n",
        "#include <iostream>\n",
        "#include <vector>\n",
        "#include <algorithm>\n",
        "\n",
        "long long MaxPairwiseProduct(const std::vector<int>& numbers, long long &execInstruction) {              //INSTRUCTIONS executed by line\n",
        "    long long max_product = 0LL;                                             //1\n",
        "\t  long long aux_product = 0LL;                                             //1\n",
        "    int n = numbers.size();                                                  //1\n",
        "    execInstruction += 4;\n",
        "\n",
        "    for (int first = 0; first < n; ++first) {                                //2+2n\n",
        "        execInstruction += 2;\n",
        "        for (int second = first + 1; second < n; ++second) {                 //2n + (n-1)n\n",
        "            execInstruction += 3;\n",
        "\t\t\t       aux_product =  (long long) numbers[first] * numbers[second];    //(n-1)n/2\n",
        "            if (max_product < aux_product)  {                                //(n-1)n/2\n",
        "                execInstruction++;\n",
        "\t\t\t\t        max_product = aux_product;                                   //[1,(n-1)n/2)  upper bound\n",
        "             }\n",
        "        }\n",
        "    }\n",
        "                                                                             // --------------\n",
        "    return max_product;                                                      // 5 + 4n + [2(n-1)n+1, 2.5 (n-1)n) upper bound\n",
        "}\n",
        "\n",
        "int main() {                                              //INSTRUCTIONS executed by line\n",
        "    long long execInstruction = 0;\n",
        "    int n;                                                //1\n",
        "    std::cin >> n;                                        //1\n",
        "    std::vector<int> numbers(n);                          //n\n",
        "    execInstruction += n;\n",
        "    for (int i = 0; i < n; ++i) {                         //2 + 2n\n",
        "        execInstruction += 2;\n",
        "        std::cin >> numbers[i];                           //n\n",
        "        execInstruction++;\n",
        "    }\n",
        "\n",
        "    std::cout << MaxPairwiseProduct(numbers, execInstruction) << \"\\n\";     //1 + 1  + 5 + 4n + [2(n-1)n+1, 2.5 (n-1)n) upper bound\n",
        "    std::cout << \"Approximate executed instructions: \" << execInstruction << std::endl;\n",
        "    return 0;                                             // --------------\n",
        "}                                                         // 11 + 7n + [2(n-1)n+1, 2.5 (n-1)n) upper bound\n",
        "\n"
      ]
    },
    {
      "cell_type": "code",
      "execution_count": null,
      "metadata": {
        "id": "mxIVvm1RK8dB",
        "outputId": "e92ac6f1-3965-4e6f-89bf-f7e25b64755d",
        "colab": {
          "base_uri": "https://localhost:8080/"
        }
      },
      "outputs": [
        {
          "output_type": "stream",
          "name": "stdout",
          "text": [
            "120989000\n",
            "Approximate executed instructions: 181664545\n"
          ]
        }
      ],
      "source": [
        "!g++ max_pairwise_product_long_details.cpp -o max_pairwise_product_long_details\n",
        "!./max_pairwise_product_long_details< input13.txt"
      ]
    },
    {
      "cell_type": "code",
      "source": [
        "!g++ max_pairwise_product_long.cpp -o max_pairwise_product_long\n",
        "!time ./max_pairwise_product_long< input13.txt"
      ],
      "metadata": {
        "id": "53ewVIUGGF4O",
        "outputId": "0049cc92-df03-40e0-b38a-72070d93d222",
        "colab": {
          "base_uri": "https://localhost:8080/"
        }
      },
      "execution_count": null,
      "outputs": [
        {
          "output_type": "stream",
          "name": "stdout",
          "text": [
            "120989000\n",
            "\n",
            "real\t0m0.410s\n",
            "user\t0m0.400s\n",
            "sys\t0m0.002s\n"
          ]
        }
      ]
    },
    {
      "cell_type": "code",
      "source": [
        "#Estimated time C++\n",
        "0.41/181664545"
      ],
      "metadata": {
        "id": "iJ4j4ZkkFpgu",
        "outputId": "afccfe22-699d-44ac-eda0-9e556c7e9342",
        "colab": {
          "base_uri": "https://localhost:8080/"
        }
      },
      "execution_count": null,
      "outputs": [
        {
          "output_type": "execute_result",
          "data": {
            "text/plain": [
              "2.2569070921351218e-09"
            ]
          },
          "metadata": {},
          "execution_count": 128
        }
      ]
    },
    {
      "cell_type": "markdown",
      "source": [
        "Python\n"
      ],
      "metadata": {
        "id": "nQAaMbDMGtUv"
      }
    },
    {
      "cell_type": "code",
      "source": [
        "%%writefile max_pairwise_product_long.py\n",
        "def max_pairwise_product(numbers):\n",
        "    max_product = 0\n",
        "    n = len(numbers)\n",
        "\n",
        "    for first in range(n):\n",
        "        for second in range(first + 1, n):\n",
        "            aux_product = numbers[first] * numbers[second]\n",
        "            if max_product < aux_product:\n",
        "                max_product = aux_product\n",
        "\n",
        "    return max_product\n",
        "\n",
        "if __name__ == '__main__':\n",
        "    n = int(input())\n",
        "    numbers = list(map(int, input().split()))\n",
        "\n",
        "    result = max_pairwise_product(numbers)\n",
        "\n",
        "    print(result)\n",
        "\n",
        "\n"
      ],
      "metadata": {
        "id": "nwTW5lDsHU23",
        "outputId": "11744274-a5a1-4169-a29c-7a49784d967c",
        "colab": {
          "base_uri": "https://localhost:8080/"
        }
      },
      "execution_count": null,
      "outputs": [
        {
          "output_type": "stream",
          "name": "stdout",
          "text": [
            "Overwriting max_pairwise_product_long.py\n"
          ]
        }
      ]
    },
    {
      "cell_type": "code",
      "source": [
        "%%writefile max_pairwise_product_long_details.py\n",
        "import time\n",
        "\n",
        "def max_pairwise_product(numbers):\n",
        "    max_product = 0\n",
        "    n = len(numbers)\n",
        "    execInstruction = 4;\n",
        "\n",
        "    for first in range(n):\n",
        "        execInstruction += 2\n",
        "        for second in range(first + 1, n):\n",
        "            execInstruction += 3\n",
        "            aux_product = numbers[first] * numbers[second]\n",
        "            if max_product < aux_product:\n",
        "                execInstruction += 1\n",
        "                max_product = aux_product\n",
        "\n",
        "    return max_product, execInstruction\n",
        "\n",
        "if __name__ == '__main__':\n",
        "    execInstruction = 0\n",
        "    n = int(input())\n",
        "    execInstruction += 1\n",
        "    numbers = list(map(int, input().split()))\n",
        "    execInstruction += n\n",
        "    execInstruction += 2 * n\n",
        "\n",
        "\n",
        "    result, instructionCount = max_pairwise_product(numbers)\n",
        "\n",
        "\n",
        "\n",
        "    print(result)\n",
        "\n",
        "    print(\"Approximate executed instructions:\", instructionCount)\n",
        "\n",
        "\n",
        "\n"
      ],
      "metadata": {
        "id": "Zb5xS3_cGvMP",
        "outputId": "b9260b84-8049-40ba-d0f8-90d964d2d163",
        "colab": {
          "base_uri": "https://localhost:8080/"
        }
      },
      "execution_count": null,
      "outputs": [
        {
          "output_type": "stream",
          "name": "stdout",
          "text": [
            "Overwriting max_pairwise_product_long_details.py\n"
          ]
        }
      ]
    },
    {
      "cell_type": "code",
      "source": [
        "!time python max_pairwise_product_long.py < input14.txt"
      ],
      "metadata": {
        "id": "1eZQJWnuHx8b",
        "outputId": "561831ca-e2b9-4051-d111-bfe667529e08",
        "colab": {
          "base_uri": "https://localhost:8080/"
        }
      },
      "execution_count": null,
      "outputs": [
        {
          "output_type": "stream",
          "name": "stdout",
          "text": [
            "2491662\n",
            "\n",
            "real\t0m0.207s\n",
            "user\t0m0.195s\n",
            "sys\t0m0.010s\n"
          ]
        }
      ]
    },
    {
      "cell_type": "code",
      "source": [
        "!python max_pairwise_product_long_details.py < input14.txt"
      ],
      "metadata": {
        "id": "1VrbRVhxH4tn",
        "outputId": "4a6ed978-4a77-49b4-98c6-84f751b12b0a",
        "colab": {
          "base_uri": "https://localhost:8080/"
        }
      },
      "execution_count": null,
      "outputs": [
        {
          "output_type": "stream",
          "name": "stdout",
          "text": [
            "2491662\n",
            "Approximate executed instructions: 3754098\n"
          ]
        }
      ]
    },
    {
      "cell_type": "code",
      "source": [
        "#Estimated time Python\n",
        "0.20/3754098"
      ],
      "metadata": {
        "id": "XFtdJzBLK8FZ",
        "outputId": "9779e8d6-ecc2-401d-818e-a35cdd499eea",
        "colab": {
          "base_uri": "https://localhost:8080/"
        }
      },
      "execution_count": null,
      "outputs": [
        {
          "output_type": "execute_result",
          "data": {
            "text/plain": [
              "5.327511428843893e-08"
            ]
          },
          "metadata": {},
          "execution_count": 129
        }
      ]
    },
    {
      "cell_type": "markdown",
      "metadata": {
        "id": "1Hsbd-uHOb_j"
      },
      "source": [
        "### Sort solution in C++ and Python\n",
        "\n",
        "$$ O(n \\lg n)$$\n",
        "\n",
        "**Which sorting algorithm is used in GCC?**\n",
        "https://stackoverflow.com/questions/7221257/which-sorting-algorithm-is-used-in-gcc\n",
        "\n",
        "* ...  the algorithm is called introsort, a combination between Insertionsort, Quicksort & Heapsort. ...\n",
        "\n",
        "**Introsort**\n",
        "https://en.wikipedia.org/wiki/Introsort\n",
        "\n",
        "Introsort or introspective sort is a hybrid sorting algorithm that provides both fast average performance and (asymptotically) optimal worst-case performance. It begins with quicksort, it switches to heapsort when the recursion depth exceeds a level based on (the logarithm of) the number of elements being sorted and it switches to insertion sort when the number of elements is below some threshold\n",
        "\n",
        "*   Class\tSorting algorithm\n",
        "*   Data structure\tArray\n",
        "*   Worst-case performance\t$O(n \\lg n)$\n",
        "*   Average performance\t$O(n \\lg n)$\n",
        "\n",
        "**Tinsort**\n",
        "https://en.wikipedia.org/wiki/Timsort\n",
        "\n",
        "Timsort is a hybrid, stable sorting algorithm, derived from merge sort and insertion sort, designed to perform well on many kinds of real-world data. It was implemented by Tim Peters in 2002 for use in the Python programming language.\n",
        "\n",
        "*   Class\tSorting algorithm\n",
        "*   Data structure\tArray\n",
        "*   Worst-case performance\t$O(n \\lg n)$\n",
        "*   Best-case performance $O(n)$\n",
        "*   Average performance\t$O(n \\lg n)$\n",
        "*   Worst-case space complexity $O(n)$"
      ]
    },
    {
      "cell_type": "markdown",
      "metadata": {
        "id": "WMUthAXjOb_k"
      },
      "source": [
        "Add in each line a coment with the number of intstrcution that are executed in that line"
      ]
    },
    {
      "cell_type": "code",
      "source": [
        "%%writefile sort_solution.cpp\n",
        "/* A Program to sort the array using Introsort.\n",
        "  The most popular C++ STL Algorithm- sort()\n",
        "  uses Introsort. */\n",
        "\n",
        "#include<bits/stdc++.h>\n",
        "using namespace std;\n",
        "\n",
        "// A utility function to swap the values pointed by\n",
        "// the two pointers\n",
        "void swapValue(int *a, int *b)\n",
        "{\n",
        "    int *temp = a;\n",
        "    a = b;\n",
        "    b = temp;\n",
        "    return;\n",
        "}\n",
        "\n",
        "/* Function to sort an array using insertion sort*/\n",
        "void InsertionSort(int arr[], int *begin, int *end)\n",
        "{\n",
        "    // Get the left and the right index of the subarray\n",
        "    // to be sorted\n",
        "    int left = begin - arr;\n",
        "    int right = end - arr;\n",
        "\n",
        "    for (int i = left+1; i <= right; i++)\n",
        "    {\n",
        "        int key = arr[i];\n",
        "        int j = i-1;\n",
        "\n",
        "       /* Move elements of arr[0..i-1], that are\n",
        "          greater than key, to one position ahead\n",
        "          of their current position */\n",
        "        while (j >= left && arr[j] > key)\n",
        "        {\n",
        "            arr[j+1] = arr[j];\n",
        "            j = j-1;\n",
        "        }\n",
        "        arr[j+1] = key;\n",
        "   }\n",
        "\n",
        "   return;\n",
        "}\n",
        "\n",
        "// A function to partition the array and return\n",
        "// the partition point\n",
        "int* Partition(int arr[], int low, int high)\n",
        "{\n",
        "    int pivot = arr[high];    // pivot\n",
        "    int i = (low - 1);  // Index of smaller element\n",
        "\n",
        "    for (int j = low; j <= high- 1; j++)\n",
        "    {\n",
        "        // If current element is smaller than or\n",
        "        // equal to pivot\n",
        "        if (arr[j] <= pivot)\n",
        "        {\n",
        "            // increment index of smaller element\n",
        "            i++;\n",
        "\n",
        "            swap(arr[i], arr[j]);\n",
        "        }\n",
        "    }\n",
        "    swap(arr[i + 1], arr[high]);\n",
        "    return (arr + i + 1);\n",
        "}\n",
        "\n",
        "\n",
        "// A function that find the middle of the\n",
        "// values pointed by the pointers a, b, c\n",
        "// and return that pointer\n",
        "int *MedianOfThree(int * a, int * b, int * c)\n",
        "{\n",
        "    if (*a < *b && *b < *c)\n",
        "        return (b);\n",
        "\n",
        "    if (*a < *c && *c <= *b)\n",
        "        return (c);\n",
        "\n",
        "    if (*b <= *a && *a < *c)\n",
        "        return (a);\n",
        "\n",
        "    if (*b < *c && *c <= *a)\n",
        "        return (c);\n",
        "\n",
        "    if (*c <= *a && *a < *b)\n",
        "        return (a);\n",
        "\n",
        "    if (*c <= *b && *b <= *a)\n",
        "        return (b);\n",
        "}\n",
        "\n",
        "// A Utility function to perform intro sort\n",
        "void IntrosortUtil(int arr[], int * begin,\n",
        "                  int * end, int depthLimit)\n",
        "{\n",
        "    // Count the number of elements\n",
        "    int size = end - begin;\n",
        "\n",
        "      // If partition size is low then do insertion sort\n",
        "    if (size < 16)\n",
        "    {\n",
        "        InsertionSort(arr, begin, end);\n",
        "        return;\n",
        "    }\n",
        "\n",
        "    // If the depth is zero use heapsort\n",
        "    if (depthLimit == 0)\n",
        "    {\n",
        "        make_heap(begin, end+1);\n",
        "        sort_heap(begin, end+1);\n",
        "        return;\n",
        "    }\n",
        "\n",
        "    // Else use a median-of-three concept to\n",
        "    // find a good pivot\n",
        "    int * pivot = MedianOfThree(begin, begin+size/2, end);\n",
        "\n",
        "    // Swap the values pointed by the two pointers\n",
        "    swapValue(pivot, end);\n",
        "\n",
        "   // Perform Quick Sort\n",
        "    int * partitionPoint = Partition(arr, begin-arr, end-arr);\n",
        "    IntrosortUtil(arr, begin, partitionPoint-1, depthLimit - 1);\n",
        "    IntrosortUtil(arr, partitionPoint + 1, end, depthLimit - 1);\n",
        "\n",
        "    return;\n",
        "}\n",
        "\n",
        "/* Implementation of introsort*/\n",
        "void Introsort(int arr[], int *begin, int *end)\n",
        "{\n",
        "    int depthLimit = 2 * log(end-begin);\n",
        "\n",
        "    // Perform a recursive Introsort\n",
        "    IntrosortUtil(arr, begin, end, depthLimit);\n",
        "\n",
        "      return;\n",
        "}\n",
        "\n",
        "// A utility function to print an array of size n\n",
        "void printArray(int arr[], int n)\n",
        "{\n",
        "   for (int i=0; i < n; i++)\n",
        "       printf(\"%d \", arr[i]);\n",
        "   printf(\"\\n\");\n",
        "}\n",
        "\n",
        "// Driver program to test Introsort\n",
        "int main()\n",
        "{\n",
        "    int n;\n",
        "    std::cin >> n;\n",
        "    int arr[n];\n",
        "    for (int i = 0; i < n; ++i) {\n",
        "        std::cin >> arr[i];\n",
        "    }\n",
        "\n",
        "    // Pass the array, the pointer to the first element and\n",
        "    // the pointer to the last element\n",
        "    Introsort(arr, arr, arr+n-1);\n",
        "    printArray(arr, n);\n",
        "\n",
        "    return(0);\n",
        "}"
      ],
      "metadata": {
        "id": "jnIRWyUEDu_C",
        "outputId": "27d1aca1-a4bb-47c7-d7f6-1e9f262dadfe",
        "colab": {
          "base_uri": "https://localhost:8080/"
        }
      },
      "execution_count": null,
      "outputs": [
        {
          "output_type": "stream",
          "name": "stdout",
          "text": [
            "Overwriting sort_solution.cpp\n"
          ]
        }
      ]
    },
    {
      "cell_type": "markdown",
      "metadata": {
        "id": "v8pdV9ABOb_k"
      },
      "source": [
        "Test with inputs 1 and 2\n",
        "\n"
      ]
    },
    {
      "cell_type": "code",
      "execution_count": null,
      "metadata": {
        "id": "kdXAyLG4Ob_k",
        "outputId": "2201e813-f573-4824-96e5-c825b0aa2f9f",
        "colab": {
          "base_uri": "https://localhost:8080/"
        }
      },
      "outputs": [
        {
          "output_type": "stream",
          "name": "stdout",
          "text": [
            "\u001b[01m\u001b[Ksort_solution.cpp:\u001b[m\u001b[K In function ‘\u001b[01m\u001b[Kint* MedianOfThree(int*, int*, int*)\u001b[m\u001b[K’:\n",
            "\u001b[01m\u001b[Ksort_solution.cpp:91:1:\u001b[m\u001b[K \u001b[01;35m\u001b[Kwarning: \u001b[m\u001b[Kcontrol reaches end of non-void function [\u001b[01;35m\u001b[K\u001b]8;;https://gcc.gnu.org/onlinedocs/gcc/Warning-Options.html#index-Wreturn-type\u0007-Wreturn-type\u001b]8;;\u0007\u001b[m\u001b[K]\n",
            "   91 | \u001b[01;35m\u001b[K}\u001b[m\u001b[K\n",
            "      | \u001b[01;35m\u001b[K^\u001b[m\u001b[K\n",
            "1 2 3 4 5 6 7 8 9 10 \n",
            "1 2 3 4 5 6 7 8 9 10 \n"
          ]
        }
      ],
      "source": [
        "!g++ sort_solution.cpp -o sort_solution_nlogn\n",
        "!./sort_solution_nlogn < input1.txt\n",
        "!./sort_solution_nlogn < input2.txt\n",
        "\n"
      ]
    },
    {
      "cell_type": "markdown",
      "metadata": {
        "id": "Sw-5X1q1Ob_k"
      },
      "source": [
        "Test and time it with input 3"
      ]
    },
    {
      "cell_type": "code",
      "execution_count": null,
      "metadata": {
        "id": "ryHJ30WIOb_k",
        "outputId": "cebe300e-46dd-4ffe-fdf1-ede7929d0cbb",
        "colab": {
          "base_uri": "https://localhost:8080/"
        }
      },
      "outputs": [
        {
          "output_type": "stream",
          "name": "stdout",
          "text": [
            "\u001b[01m\u001b[Ksort_solution.cpp:\u001b[m\u001b[K In function ‘\u001b[01m\u001b[Kint* MedianOfThree(int*, int*, int*)\u001b[m\u001b[K’:\n",
            "\u001b[01m\u001b[Ksort_solution.cpp:91:1:\u001b[m\u001b[K \u001b[01;35m\u001b[Kwarning: \u001b[m\u001b[Kcontrol reaches end of non-void function [\u001b[01;35m\u001b[K\u001b]8;;https://gcc.gnu.org/onlinedocs/gcc/Warning-Options.html#index-Wreturn-type\u0007-Wreturn-type\u001b]8;;\u0007\u001b[m\u001b[K]\n",
            "   91 | \u001b[01;35m\u001b[K}\u001b[m\u001b[K\n",
            "      | \u001b[01;35m\u001b[K^\u001b[m\u001b[K\n",
            "1 3 9 23 200000 200000 \n",
            "\n",
            "real\t0m0.003s\n",
            "user\t0m0.001s\n",
            "sys\t0m0.001s\n"
          ]
        }
      ],
      "source": [
        "!g++ sort_solution.cpp -o sort_solution_nlogn\n",
        "!time ./sort_solution_nlogn < input3.txt\n"
      ]
    },
    {
      "cell_type": "markdown",
      "metadata": {
        "id": "oJGdPl1HOb_k"
      },
      "source": [
        "20 stress tests"
      ]
    },
    {
      "cell_type": "code",
      "execution_count": null,
      "metadata": {
        "id": "pXHtO1dEOb_k",
        "outputId": "3b1ad0ba-8085-41b4-e8ba-e4bfc73921f5",
        "colab": {
          "base_uri": "https://localhost:8080/"
        }
      },
      "outputs": [
        {
          "output_type": "stream",
          "name": "stdout",
          "text": [
            "Overwriting sort_stress_test.cpp\n"
          ]
        }
      ],
      "source": [
        "%%writefile sort_stress_test.cpp\n",
        "#include <iostream>\n",
        "#include <fstream>\n",
        "#include <cstdlib>\n",
        "#include <ctime>\n",
        "\n",
        "using namespace std;\n",
        "\n",
        "int main() {\n",
        "    srand(time(0)); // Inicializa la semilla del generador de números aleatorios con la hora actual\n",
        "\n",
        "    for (int i = 20; i <= 40; i++) {\n",
        "        string filename = \"input\" + to_string(i) + \".txt\";\n",
        "        ofstream outfile(filename);\n",
        "\n",
        "        if (!outfile) {\n",
        "            cerr << \"Error al abrir el archivo \" << filename << endl;\n",
        "            return 1;\n",
        "        }\n",
        "\n",
        "        int numCount = i; // Cantidad de números en el archivo\n",
        "\n",
        "        // Escribir la cantidad de números en la primera línea del archivo\n",
        "        outfile << numCount << endl;\n",
        "\n",
        "        // Genera números aleatorios y escribe en el archivo\n",
        "        for (int j = 0; j < numCount; j++) {\n",
        "            int num = rand() % 1000; // Números aleatorios entre 0 y 999 (puedes ajustar el rango según tus necesidades)\n",
        "            outfile << num << \" \";\n",
        "        }\n",
        "\n",
        "        outfile.close();\n",
        "        cout << \"Archivo \" << filename << \" creado exitosamente.\" << endl;\n",
        "    }\n",
        "\n",
        "    return 0;\n",
        "}"
      ]
    },
    {
      "cell_type": "code",
      "source": [
        "!g++ sort_stress_test.cpp -o sort_stress_test\n",
        "!./sort_stress_test"
      ],
      "metadata": {
        "id": "lEFMoNqPReuM",
        "outputId": "b7407720-b64f-47e3-938b-2236143b9546",
        "colab": {
          "base_uri": "https://localhost:8080/"
        }
      },
      "execution_count": null,
      "outputs": [
        {
          "output_type": "stream",
          "name": "stdout",
          "text": [
            "Archivo input20.txt creado exitosamente.\n",
            "Archivo input21.txt creado exitosamente.\n",
            "Archivo input22.txt creado exitosamente.\n",
            "Archivo input23.txt creado exitosamente.\n",
            "Archivo input24.txt creado exitosamente.\n",
            "Archivo input25.txt creado exitosamente.\n",
            "Archivo input26.txt creado exitosamente.\n",
            "Archivo input27.txt creado exitosamente.\n",
            "Archivo input28.txt creado exitosamente.\n",
            "Archivo input29.txt creado exitosamente.\n",
            "Archivo input30.txt creado exitosamente.\n",
            "Archivo input31.txt creado exitosamente.\n",
            "Archivo input32.txt creado exitosamente.\n",
            "Archivo input33.txt creado exitosamente.\n",
            "Archivo input34.txt creado exitosamente.\n",
            "Archivo input35.txt creado exitosamente.\n",
            "Archivo input36.txt creado exitosamente.\n",
            "Archivo input37.txt creado exitosamente.\n",
            "Archivo input38.txt creado exitosamente.\n",
            "Archivo input39.txt creado exitosamente.\n",
            "Archivo input40.txt creado exitosamente.\n"
          ]
        }
      ]
    },
    {
      "cell_type": "markdown",
      "metadata": {
        "id": "2beTmWFPOb_k"
      },
      "source": [
        "Count executed instructions in code and verify with inputs 1,2 and 3\n"
      ]
    },
    {
      "cell_type": "code",
      "execution_count": null,
      "metadata": {
        "id": "iuByv4x1Ob_k",
        "outputId": "6af78cf0-e67c-4d6f-b321-48949b904667",
        "colab": {
          "base_uri": "https://localhost:8080/"
        }
      },
      "outputs": [
        {
          "output_type": "stream",
          "name": "stdout",
          "text": [
            "\u001b[01m\u001b[Ksort_solution.cpp:\u001b[m\u001b[K In function ‘\u001b[01m\u001b[Kint* MedianOfThree(int*, int*, int*)\u001b[m\u001b[K’:\n",
            "\u001b[01m\u001b[Ksort_solution.cpp:91:1:\u001b[m\u001b[K \u001b[01;35m\u001b[Kwarning: \u001b[m\u001b[Kcontrol reaches end of non-void function [\u001b[01;35m\u001b[K\u001b]8;;https://gcc.gnu.org/onlinedocs/gcc/Warning-Options.html#index-Wreturn-type\u0007-Wreturn-type\u001b]8;;\u0007\u001b[m\u001b[K]\n",
            "   91 | \u001b[01;35m\u001b[K}\u001b[m\u001b[K\n",
            "      | \u001b[01;35m\u001b[K^\u001b[m\u001b[K\n",
            "154 158 170 198 206 241 265 282 331 341 362 374 408 440 446 532 591 626 831 853 \n",
            "\n",
            "real\t0m0.003s\n",
            "user\t0m0.001s\n",
            "sys\t0m0.002s\n",
            "120 177 248 288 350 380 410 420 491 494 565 610 683 727 751 764 828 857 874 907 973 \n",
            "\n",
            "real\t0m0.003s\n",
            "user\t0m0.002s\n",
            "sys\t0m0.000s\n",
            "27 152 174 251 268 294 295 330 376 410 411 423 459 556 562 637 672 707 754 884 906 926 \n",
            "\n",
            "real\t0m0.003s\n",
            "user\t0m0.001s\n",
            "sys\t0m0.002s\n",
            "40 46 70 133 189 220 234 364 479 506 540 543 622 653 656 681 693 787 881 892 923 930 998 \n",
            "\n",
            "real\t0m0.003s\n",
            "user\t0m0.001s\n",
            "sys\t0m0.001s\n",
            "43 59 136 183 234 256 288 386 459 494 523 561 564 635 733 759 803 852 891 896 903 916 922 959 \n",
            "\n",
            "real\t0m0.003s\n",
            "user\t0m0.001s\n",
            "sys\t0m0.001s\n",
            "66 77 163 176 239 240 269 307 373 388 453 514 526 528 670 674 679 717 721 763 826 857 912 929 929 \n",
            "\n",
            "real\t0m0.003s\n",
            "user\t0m0.001s\n",
            "sys\t0m0.002s\n",
            "46 50 66 78 82 97 142 241 260 285 287 312 338 391 407 408 512 569 608 670 689 767 799 867 872 958 \n",
            "\n",
            "real\t0m0.004s\n",
            "user\t0m0.001s\n",
            "sys\t0m0.002s\n",
            "9 91 110 141 159 164 165 180 185 398 421 461 468 560 598 598 607 659 710 771 828 855 870 878 891 967 977 \n",
            "\n",
            "real\t0m0.003s\n",
            "user\t0m0.000s\n",
            "sys\t0m0.002s\n",
            "7 51 54 57 98 166 305 334 361 407 456 471 478 482 514 561 587 695 727 751 804 847 877 916 924 938 945 976 \n",
            "\n",
            "real\t0m0.003s\n",
            "user\t0m0.001s\n",
            "sys\t0m0.002s\n",
            "64 133 190 207 247 329 330 369 431 438 466 555 604 616 617 645 654 669 683 782 787 802 844 886 922 946 957 959 994 \n",
            "\n",
            "real\t0m0.004s\n",
            "user\t0m0.001s\n",
            "sys\t0m0.002s\n",
            "23 28 41 81 94 102 112 203 217 231 279 298 344 351 394 473 548 597 600 748 776 783 819 857 860 899 905 944 968 998 \n",
            "\n",
            "real\t0m0.003s\n",
            "user\t0m0.000s\n",
            "sys\t0m0.002s\n",
            "17 22 25 73 74 96 128 172 220 228 257 304 373 413 443 475 519 568 592 610 614 623 647 671 700 717 763 794 874 961 968 \n",
            "\n",
            "real\t0m0.004s\n",
            "user\t0m0.001s\n",
            "sys\t0m0.002s\n",
            "10 16 47 75 128 166 200 248 250 288 303 324 329 363 453 461 464 557 565 626 747 751 784 792 827 846 900 918 921 939 947 995 \n",
            "\n",
            "real\t0m0.003s\n",
            "user\t0m0.001s\n",
            "sys\t0m0.001s\n",
            "13 91 118 146 193 194 216 226 248 287 297 331 341 351 412 451 485 502 540 638 651 665 676 686 714 714 751 795 819 848 898 928 946 \n",
            "\n",
            "real\t0m0.005s\n",
            "user\t0m0.001s\n",
            "sys\t0m0.002s\n",
            "16 28 90 96 151 169 219 253 296 300 313 324 326 374 392 405 416 453 472 538 589 612 675 681 729 742 767 784 786 833 852 889 902 993 \n",
            "\n",
            "real\t0m0.004s\n",
            "user\t0m0.002s\n",
            "sys\t0m0.001s\n",
            "64 83 182 210 213 230 233 258 265 285 298 409 511 513 528 582 585 602 613 641 648 668 672 696 703 750 772 821 837 843 870 923 935 982 991 \n",
            "\n",
            "real\t0m0.003s\n",
            "user\t0m0.001s\n",
            "sys\t0m0.002s\n",
            "51 99 200 231 231 293 316 389 394 399 438 488 516 523 544 604 617 618 619 619 622 625 627 631 669 680 685 695 697 718 741 743 781 832 877 977 \n",
            "\n",
            "real\t0m0.004s\n",
            "user\t0m0.000s\n",
            "sys\t0m0.003s\n",
            "11 40 47 70 93 102 119 145 195 221 254 287 300 304 304 372 373 451 474 477 488 509 516 535 558 609 615 679 705 718 728 730 741 841 897 904 987 \n",
            "\n",
            "real\t0m0.003s\n",
            "user\t0m0.001s\n",
            "sys\t0m0.001s\n",
            "119 129 179 204 211 244 250 263 271 314 334 338 364 416 455 461 509 556 571 598 602 661 714 768 780 791 791 797 800 805 812 824 861 864 932 940 941 941 \n",
            "\n",
            "real\t0m0.003s\n",
            "user\t0m0.001s\n",
            "sys\t0m0.002s\n",
            "80 96 101 124 169 171 183 218 242 243 252 277 297 374 394 427 478 501 507 524 532 553 559 567 577 626 646 678 678 726 741 750 800 819 821 854 894 950 960 \n",
            "\n",
            "real\t0m0.003s\n",
            "user\t0m0.001s\n",
            "sys\t0m0.002s\n",
            "5 17 34 59 75 99 101 103 114 124 145 262 269 302 305 328 345 442 447 449 512 516 546 550 551 576 577 595 649 664 677 722 816 826 857 916 932 955 966 988 \n",
            "\n",
            "real\t0m0.006s\n",
            "user\t0m0.001s\n",
            "sys\t0m0.002s\n"
          ]
        }
      ],
      "source": [
        "!g++ sort_solution.cpp -o sort_solution\n",
        "!time ./sort_solution < input20.txt\n",
        "!time ./sort_solution < input21.txt\n",
        "!time ./sort_solution < input22.txt\n",
        "!time ./sort_solution < input23.txt\n",
        "!time ./sort_solution < input24.txt\n",
        "!time ./sort_solution < input25.txt\n",
        "!time ./sort_solution < input26.txt\n",
        "!time ./sort_solution < input27.txt\n",
        "!time ./sort_solution < input28.txt\n",
        "!time ./sort_solution < input29.txt\n",
        "!time ./sort_solution < input30.txt\n",
        "!time ./sort_solution < input31.txt\n",
        "!time ./sort_solution < input32.txt\n",
        "!time ./sort_solution < input33.txt\n",
        "!time ./sort_solution < input34.txt\n",
        "!time ./sort_solution < input35.txt\n",
        "!time ./sort_solution < input36.txt\n",
        "!time ./sort_solution < input37.txt\n",
        "!time ./sort_solution < input38.txt\n",
        "!time ./sort_solution < input39.txt\n",
        "!time ./sort_solution < input40.txt"
      ]
    },
    {
      "cell_type": "markdown",
      "metadata": {
        "id": "x2CXhkwTOb_l"
      },
      "source": [
        "Calculate estimated time by instruction and number of instructions by second"
      ]
    },
    {
      "cell_type": "code",
      "execution_count": null,
      "metadata": {
        "id": "nTjxyTMtOb_l"
      },
      "outputs": [],
      "source": []
    },
    {
      "cell_type": "markdown",
      "metadata": {
        "id": "VMKC5duEOQfk"
      },
      "source": [
        "### Efficient solution largest and second-largest in an list, array or vector in C++ and Python\n",
        " $$2.5 n = O(n)$$\n",
        "\n",
        "\n",
        "\n"
      ]
    },
    {
      "cell_type": "markdown",
      "metadata": {
        "id": "nLcKBwbU0QsE"
      },
      "source": [
        "Add in each line a coment with the number of intstrcution that are executed in that line"
      ]
    },
    {
      "cell_type": "code",
      "execution_count": null,
      "metadata": {
        "id": "knls5Fh3NSt_",
        "outputId": "db961252-28e7-4bf6-e197-93e1841d71c6",
        "colab": {
          "base_uri": "https://localhost:8080/"
        }
      },
      "outputs": [
        {
          "output_type": "stream",
          "name": "stdout",
          "text": [
            "Overwriting largest_number.cpp\n"
          ]
        }
      ],
      "source": [
        "%%writefile largest_number.cpp\n",
        "#include <iostream>\n",
        "#include <vector>\n",
        "\n",
        "using namespace std;\n",
        "\n",
        "int main() {\n",
        "    int n;\n",
        "    cin >> n; // Lee la cantidad de números\n",
        "\n",
        "    vector<int> lista(n);\n",
        "\n",
        "    for (int i = 0; i < n; ++i) {\n",
        "        cin >> lista[i]; // Lee los números y los almacena en el vector\n",
        "    }\n",
        "\n",
        "    int primerMax = 0; // Inicializa el primer máximo como el valor mínimo posible\n",
        "    int segundoMax = 0; // Inicializa el segundo máximo como el valor mínimo posible\n",
        "\n",
        "    for (int i = 0; i < n; ++i) {\n",
        "        if (lista[i] > primerMax) {\n",
        "            segundoMax = primerMax; // El antiguo primer máximo se convierte en el segundo máximo\n",
        "            primerMax = lista[i]; // El nuevo primer máximo se actualiza\n",
        "        } else if (lista[i] > segundoMax && lista[i] != primerMax) {\n",
        "            segundoMax = lista[i]; // Actualiza el segundo máximo\n",
        "        }\n",
        "    }\n",
        "\n",
        "    cout << \"Primer número más grande: \" << primerMax << endl;\n",
        "    cout << \"Segundo número más grande: \" << segundoMax << endl;\n",
        "\n",
        "    return 0;\n",
        "}"
      ]
    },
    {
      "cell_type": "markdown",
      "metadata": {
        "id": "-JCijbWxNSii"
      },
      "source": [
        "Test with inputs 1 and 2\n",
        "\n"
      ]
    },
    {
      "cell_type": "code",
      "execution_count": null,
      "metadata": {
        "id": "TrTGAfqlNVXT",
        "outputId": "d8c4dbf8-b23f-4f9c-ff01-bd1fb782f90d",
        "colab": {
          "base_uri": "https://localhost:8080/"
        }
      },
      "outputs": [
        {
          "output_type": "stream",
          "name": "stdout",
          "text": [
            "Primer número más grande: 10\n",
            "Segundo número más grande: 9\n",
            "Primer número más grande: 10\n",
            "Segundo número más grande: 9\n"
          ]
        }
      ],
      "source": [
        "!g++ largest_number.cpp -o largest_number\n",
        "!./largest_number < input1.txt\n",
        "!./largest_number < input2.txt"
      ]
    },
    {
      "cell_type": "markdown",
      "metadata": {
        "id": "PRX51wADNR8b"
      },
      "source": [
        "Test and time it with input 3"
      ]
    },
    {
      "cell_type": "code",
      "execution_count": null,
      "metadata": {
        "id": "v4z7-Is_NRt7",
        "outputId": "8fed62af-2c4c-4a54-8372-f5a87a0a4e9e",
        "colab": {
          "base_uri": "https://localhost:8080/"
        }
      },
      "outputs": [
        {
          "output_type": "stream",
          "name": "stdout",
          "text": [
            "Primer número más grande: 200000\n",
            "Segundo número más grande: 23\n"
          ]
        }
      ],
      "source": [
        "!g++ largest_number.cpp -o largest_number\n",
        "!./largest_number < input3.txt"
      ]
    },
    {
      "cell_type": "markdown",
      "metadata": {
        "id": "rpdfs0_TNZJf"
      },
      "source": [
        "20 stress tests"
      ]
    },
    {
      "cell_type": "markdown",
      "metadata": {
        "id": "L8U4151JNbxk"
      },
      "source": [
        "Count executed instructions in code and verify with inputs 1,2 and 3\n"
      ]
    },
    {
      "cell_type": "markdown",
      "metadata": {
        "id": "K6ybgCmpNygr"
      },
      "source": [
        "Calculate estimated time by instruction and number of instructions by second"
      ]
    },
    {
      "cell_type": "code",
      "execution_count": null,
      "metadata": {
        "id": "kwe3G1O3Nz1w",
        "outputId": "6bac7253-66a7-4c99-b6db-84d0de681e55",
        "colab": {
          "base_uri": "https://localhost:8080/"
        }
      },
      "outputs": [
        {
          "output_type": "stream",
          "name": "stdout",
          "text": [
            "Primer número más grande: 853\n",
            "Segundo número más grande: 831\n",
            "\n",
            "real\t0m0.003s\n",
            "user\t0m0.001s\n",
            "sys\t0m0.002s\n",
            "Primer número más grande: 973\n",
            "Segundo número más grande: 907\n",
            "\n",
            "real\t0m0.003s\n",
            "user\t0m0.003s\n",
            "sys\t0m0.000s\n",
            "Primer número más grande: 926\n",
            "Segundo número más grande: 906\n",
            "\n",
            "real\t0m0.004s\n",
            "user\t0m0.002s\n",
            "sys\t0m0.001s\n",
            "Primer número más grande: 998\n",
            "Segundo número más grande: 930\n",
            "\n",
            "real\t0m0.004s\n",
            "user\t0m0.003s\n",
            "sys\t0m0.000s\n",
            "Primer número más grande: 959\n",
            "Segundo número más grande: 922\n",
            "\n",
            "real\t0m0.003s\n",
            "user\t0m0.002s\n",
            "sys\t0m0.001s\n",
            "Primer número más grande: 929\n",
            "Segundo número más grande: 912\n",
            "\n",
            "real\t0m0.004s\n",
            "user\t0m0.000s\n",
            "sys\t0m0.003s\n",
            "Primer número más grande: 958\n",
            "Segundo número más grande: 872\n",
            "\n",
            "real\t0m0.003s\n",
            "user\t0m0.001s\n",
            "sys\t0m0.001s\n",
            "Primer número más grande: 977\n",
            "Segundo número más grande: 967\n",
            "\n",
            "real\t0m0.003s\n",
            "user\t0m0.001s\n",
            "sys\t0m0.002s\n",
            "Primer número más grande: 976\n",
            "Segundo número más grande: 945\n",
            "\n",
            "real\t0m0.003s\n",
            "user\t0m0.001s\n",
            "sys\t0m0.002s\n",
            "Primer número más grande: 994\n",
            "Segundo número más grande: 959\n",
            "\n",
            "real\t0m0.003s\n",
            "user\t0m0.002s\n",
            "sys\t0m0.000s\n",
            "Primer número más grande: 998\n",
            "Segundo número más grande: 968\n",
            "\n",
            "real\t0m0.004s\n",
            "user\t0m0.002s\n",
            "sys\t0m0.000s\n",
            "Primer número más grande: 968\n",
            "Segundo número más grande: 961\n",
            "\n",
            "real\t0m0.005s\n",
            "user\t0m0.001s\n",
            "sys\t0m0.001s\n",
            "Primer número más grande: 995\n",
            "Segundo número más grande: 947\n",
            "\n",
            "real\t0m0.003s\n",
            "user\t0m0.003s\n",
            "sys\t0m0.000s\n",
            "Primer número más grande: 946\n",
            "Segundo número más grande: 928\n",
            "\n",
            "real\t0m0.003s\n",
            "user\t0m0.001s\n",
            "sys\t0m0.001s\n",
            "Primer número más grande: 993\n",
            "Segundo número más grande: 902\n",
            "\n",
            "real\t0m0.004s\n",
            "user\t0m0.001s\n",
            "sys\t0m0.001s\n",
            "Primer número más grande: 991\n",
            "Segundo número más grande: 982\n",
            "\n",
            "real\t0m0.005s\n",
            "user\t0m0.001s\n",
            "sys\t0m0.002s\n",
            "Primer número más grande: 977\n",
            "Segundo número más grande: 877\n",
            "\n",
            "real\t0m0.003s\n",
            "user\t0m0.001s\n",
            "sys\t0m0.002s\n",
            "Primer número más grande: 987\n",
            "Segundo número más grande: 904\n",
            "\n",
            "real\t0m0.003s\n",
            "user\t0m0.001s\n",
            "sys\t0m0.001s\n",
            "Primer número más grande: 941\n",
            "Segundo número más grande: 940\n",
            "\n",
            "real\t0m0.003s\n",
            "user\t0m0.002s\n",
            "sys\t0m0.001s\n",
            "Primer número más grande: 960\n",
            "Segundo número más grande: 950\n",
            "\n",
            "real\t0m0.003s\n",
            "user\t0m0.002s\n",
            "sys\t0m0.000s\n",
            "Primer número más grande: 988\n",
            "Segundo número más grande: 966\n",
            "\n",
            "real\t0m0.003s\n",
            "user\t0m0.003s\n",
            "sys\t0m0.000s\n"
          ]
        }
      ],
      "source": [
        "!g++ largest_number.cpp -o largest_number\n",
        "!time ./largest_number < input20.txt\n",
        "!time ./largest_number < input21.txt\n",
        "!time ./largest_number < input22.txt\n",
        "!time ./largest_number < input23.txt\n",
        "!time ./largest_number < input24.txt\n",
        "!time ./largest_number < input25.txt\n",
        "!time ./largest_number < input26.txt\n",
        "!time ./largest_number < input27.txt\n",
        "!time ./largest_number < input28.txt\n",
        "!time ./largest_number < input29.txt\n",
        "!time ./largest_number < input30.txt\n",
        "!time ./largest_number < input31.txt\n",
        "!time ./largest_number < input32.txt\n",
        "!time ./largest_number < input33.txt\n",
        "!time ./largest_number < input34.txt\n",
        "!time ./largest_number < input35.txt\n",
        "!time ./largest_number < input36.txt\n",
        "!time ./largest_number < input37.txt\n",
        "!time ./largest_number < input38.txt\n",
        "!time ./largest_number < input39.txt\n",
        "!time ./largest_number < input40.txt"
      ]
    },
    {
      "cell_type": "markdown",
      "metadata": {
        "id": "sUpIWcykOGpT"
      },
      "source": [
        "### Super efficient solution\n",
        "\n",
        "Whitout storing the list in memory, only stpring the largest and second largest and whitout calling a function, add in each line a coment with the number of instructions that are executed in that line\n",
        "\n",
        "in C++ and Python\n",
        " $$2 n = O(n)$$"
      ]
    },
    {
      "cell_type": "code",
      "execution_count": null,
      "metadata": {
        "id": "hBLt_xBQLy8E",
        "outputId": "ae71a8f6-0525-4a54-b8a2-600af615789f",
        "colab": {
          "base_uri": "https://localhost:8080/"
        }
      },
      "outputs": [
        {
          "output_type": "stream",
          "name": "stdout",
          "text": [
            "Writing largest_number_super.cpp\n"
          ]
        }
      ],
      "source": [
        "%%writefile largest_number_super.cpp\n",
        "#include <iostream>\n",
        "\n",
        "using namespace std;\n",
        "\n",
        "int main() {\n",
        "    int n;\n",
        "    cin >> n; // Lee la cantidad de números\n",
        "\n",
        "    int primerMax = 0; // Inicializa el primer máximo como el valor mínimo posible\n",
        "    int segundoMax = 0; // Inicializa el segundo máximo como el valor mínimo posible\n",
        "\n",
        "    for (int i = 0; i < n; ++i) {\n",
        "        int numero;\n",
        "        cin >> numero; // Lee un número\n",
        "\n",
        "        if (numero > primerMax) {\n",
        "            segundoMax = primerMax; // El antiguo primer máximo se convierte en el segundo máximo\n",
        "            primerMax = numero; // El nuevo primer máximo se actualiza\n",
        "        } else if (numero > segundoMax && numero != primerMax) {\n",
        "            segundoMax = numero; // Actualiza el segundo máximo\n",
        "        }\n",
        "    }\n",
        "\n",
        "    cout << \"Primer número más grande: \" << primerMax << endl;\n",
        "    cout << \"Segundo número más grande: \" << segundoMax << endl;\n",
        "\n",
        "    return 0;\n",
        "}"
      ]
    },
    {
      "cell_type": "markdown",
      "metadata": {
        "id": "683gc3roHqzb"
      },
      "source": [
        "Test with inputs 1 and 2\n",
        "\n",
        "\n"
      ]
    },
    {
      "cell_type": "code",
      "execution_count": null,
      "metadata": {
        "id": "b7d4LA8OIc2_",
        "outputId": "d7c7dae2-b29f-4347-e634-86843c82173b",
        "colab": {
          "base_uri": "https://localhost:8080/"
        }
      },
      "outputs": [
        {
          "output_type": "stream",
          "name": "stdout",
          "text": [
            "Primer número más grande: 10\n",
            "Segundo número más grande: 9\n",
            "Primer número más grande: 10\n",
            "Segundo número más grande: 9\n"
          ]
        }
      ],
      "source": [
        "!g++ largest_number_super.cpp -o largest_number_super\n",
        "!./largest_number_super < input1.txt\n",
        "!./largest_number_super < input2.txt"
      ]
    },
    {
      "cell_type": "markdown",
      "metadata": {
        "id": "36Ugn1odIeJz"
      },
      "source": [
        "Test and time it with input 3"
      ]
    },
    {
      "cell_type": "code",
      "execution_count": null,
      "metadata": {
        "id": "jDyMbCnxHqSN",
        "outputId": "345ab2bc-3c1e-46f9-d112-5298cbd2757b",
        "colab": {
          "base_uri": "https://localhost:8080/"
        }
      },
      "outputs": [
        {
          "output_type": "stream",
          "name": "stdout",
          "text": [
            "Primer número más grande: 200000\n",
            "Segundo número más grande: 23\n"
          ]
        }
      ],
      "source": [
        "!g++ largest_number_super.cpp -o largest_number_super\n",
        "!./largest_number_super < input3.txt"
      ]
    },
    {
      "cell_type": "markdown",
      "metadata": {
        "id": "bhqiKQG6fjKM"
      },
      "source": [
        "20 stress tests"
      ]
    },
    {
      "cell_type": "code",
      "execution_count": null,
      "metadata": {
        "id": "2KsiXKhALzwm",
        "outputId": "5dfb0cf1-9f94-4e69-fc43-0c176f70e651",
        "colab": {
          "base_uri": "https://localhost:8080/"
        }
      },
      "outputs": [
        {
          "output_type": "stream",
          "name": "stdout",
          "text": [
            "Primer número más grande: 853\n",
            "Segundo número más grande: 831\n",
            "\n",
            "real\t0m0.003s\n",
            "user\t0m0.002s\n",
            "sys\t0m0.000s\n",
            "Primer número más grande: 973\n",
            "Segundo número más grande: 907\n",
            "\n",
            "real\t0m0.003s\n",
            "user\t0m0.002s\n",
            "sys\t0m0.001s\n",
            "Primer número más grande: 926\n",
            "Segundo número más grande: 906\n",
            "\n",
            "real\t0m0.003s\n",
            "user\t0m0.003s\n",
            "sys\t0m0.000s\n",
            "Primer número más grande: 998\n",
            "Segundo número más grande: 930\n",
            "\n",
            "real\t0m0.003s\n",
            "user\t0m0.000s\n",
            "sys\t0m0.003s\n",
            "Primer número más grande: 959\n",
            "Segundo número más grande: 922\n",
            "\n",
            "real\t0m0.004s\n",
            "user\t0m0.002s\n",
            "sys\t0m0.000s\n",
            "Primer número más grande: 929\n",
            "Segundo número más grande: 912\n",
            "\n",
            "real\t0m0.003s\n",
            "user\t0m0.000s\n",
            "sys\t0m0.003s\n",
            "Primer número más grande: 958\n",
            "Segundo número más grande: 872\n",
            "\n",
            "real\t0m0.003s\n",
            "user\t0m0.001s\n",
            "sys\t0m0.001s\n",
            "Primer número más grande: 977\n",
            "Segundo número más grande: 967\n",
            "\n",
            "real\t0m0.004s\n",
            "user\t0m0.001s\n",
            "sys\t0m0.002s\n",
            "Primer número más grande: 976\n",
            "Segundo número más grande: 945\n",
            "\n",
            "real\t0m0.004s\n",
            "user\t0m0.000s\n",
            "sys\t0m0.003s\n",
            "Primer número más grande: 994\n",
            "Segundo número más grande: 959\n",
            "\n",
            "real\t0m0.002s\n",
            "user\t0m0.002s\n",
            "sys\t0m0.000s\n",
            "Primer número más grande: 998\n",
            "Segundo número más grande: 968\n",
            "\n",
            "real\t0m0.003s\n",
            "user\t0m0.000s\n",
            "sys\t0m0.002s\n",
            "Primer número más grande: 968\n",
            "Segundo número más grande: 961\n",
            "\n",
            "real\t0m0.002s\n",
            "user\t0m0.001s\n",
            "sys\t0m0.001s\n",
            "Primer número más grande: 995\n",
            "Segundo número más grande: 947\n",
            "\n",
            "real\t0m0.004s\n",
            "user\t0m0.001s\n",
            "sys\t0m0.001s\n",
            "Primer número más grande: 946\n",
            "Segundo número más grande: 928\n",
            "\n",
            "real\t0m0.004s\n",
            "user\t0m0.001s\n",
            "sys\t0m0.002s\n",
            "Primer número más grande: 993\n",
            "Segundo número más grande: 902\n",
            "\n",
            "real\t0m0.003s\n",
            "user\t0m0.002s\n",
            "sys\t0m0.000s\n",
            "Primer número más grande: 991\n",
            "Segundo número más grande: 982\n",
            "\n",
            "real\t0m0.003s\n",
            "user\t0m0.001s\n",
            "sys\t0m0.001s\n",
            "Primer número más grande: 977\n",
            "Segundo número más grande: 877\n",
            "\n",
            "real\t0m0.004s\n",
            "user\t0m0.002s\n",
            "sys\t0m0.001s\n",
            "Primer número más grande: 987\n",
            "Segundo número más grande: 904\n",
            "\n",
            "real\t0m0.003s\n",
            "user\t0m0.000s\n",
            "sys\t0m0.002s\n",
            "Primer número más grande: 941\n",
            "Segundo número más grande: 940\n",
            "\n",
            "real\t0m0.004s\n",
            "user\t0m0.002s\n",
            "sys\t0m0.001s\n",
            "Primer número más grande: 960\n",
            "Segundo número más grande: 950\n",
            "\n",
            "real\t0m0.003s\n",
            "user\t0m0.001s\n",
            "sys\t0m0.001s\n",
            "Primer número más grande: 988\n",
            "Segundo número más grande: 966\n",
            "\n",
            "real\t0m0.005s\n",
            "user\t0m0.001s\n",
            "sys\t0m0.002s\n"
          ]
        }
      ],
      "source": [
        "!g++ largest_number_super.cpp -o largest_number_super\n",
        "!time ./largest_number_super < input20.txt\n",
        "!time ./largest_number_super < input21.txt\n",
        "!time ./largest_number_super < input22.txt\n",
        "!time ./largest_number_super < input23.txt\n",
        "!time ./largest_number_super < input24.txt\n",
        "!time ./largest_number_super < input25.txt\n",
        "!time ./largest_number_super < input26.txt\n",
        "!time ./largest_number_super < input27.txt\n",
        "!time ./largest_number_super < input28.txt\n",
        "!time ./largest_number_super < input29.txt\n",
        "!time ./largest_number_super < input30.txt\n",
        "!time ./largest_number_super < input31.txt\n",
        "!time ./largest_number_super < input32.txt\n",
        "!time ./largest_number_super < input33.txt\n",
        "!time ./largest_number_super < input34.txt\n",
        "!time ./largest_number_super < input35.txt\n",
        "!time ./largest_number_super < input36.txt\n",
        "!time ./largest_number_super < input37.txt\n",
        "!time ./largest_number_super < input38.txt\n",
        "!time ./largest_number_super < input39.txt\n",
        "!time ./largest_number_super < input40.txt"
      ]
    },
    {
      "cell_type": "markdown",
      "metadata": {
        "id": "fEXj8GHJH5p1"
      },
      "source": [
        "Count executed instructions in code and verify with inputs 1,2 and 3"
      ]
    },
    {
      "cell_type": "markdown",
      "metadata": {
        "id": "yae7sSm2IG9U"
      },
      "source": [
        "Calculate estimated time by instruction and number of instructions by second"
      ]
    },
    {
      "cell_type": "code",
      "execution_count": null,
      "metadata": {
        "id": "suouY7BYL2dz"
      },
      "outputs": [],
      "source": []
    },
    {
      "cell_type": "markdown",
      "metadata": {
        "id": "sy33CNNfPxcE"
      },
      "source": [
        "### Super efficient solution in Python\n",
        "\n",
        "Whitout storing the list in memory and whitout calling a function, add in each line a coment with the number of intstrcution that are executed in that line"
      ]
    },
    {
      "cell_type": "code",
      "execution_count": null,
      "metadata": {
        "id": "_mOjJwKrPxcJ",
        "outputId": "afcd259b-4eac-4cea-b236-255ace62e9b9",
        "colab": {
          "base_uri": "https://localhost:8080/"
        }
      },
      "outputs": [
        {
          "output_type": "stream",
          "name": "stdout",
          "text": [
            "Overwriting largest_number_super.py\n"
          ]
        }
      ],
      "source": [
        "%%writefile largest_number_super.py\n",
        "primer_max = segundo_max = float('-inf')\n",
        "\n",
        "try:\n",
        "    while True:\n",
        "        numeros = input().split()  # Lee una línea y divide en números\n",
        "        for numero in numeros:\n",
        "            numero = int(numero)\n",
        "            if numero > primer_max:\n",
        "                segundo_max = primer_max\n",
        "                primer_max = numero\n",
        "            elif numero > segundo_max and numero != primer_max:\n",
        "                segundo_max = numero\n",
        "\n",
        "except EOFError:\n",
        "    pass  # Maneja el EOF (End of File), en este punto se ha llegado al final de la entrada\n",
        "\n",
        "print(\"Primer número más grande:\", primer_max)\n",
        "print(\"Segundo número más grande:\", segundo_max)"
      ]
    },
    {
      "cell_type": "markdown",
      "metadata": {
        "id": "K08Eow0hPxcJ"
      },
      "source": [
        "Test with inputs 1 and 2\n",
        "\n",
        "\n"
      ]
    },
    {
      "cell_type": "code",
      "execution_count": null,
      "metadata": {
        "id": "1_mUee2cPxcJ",
        "outputId": "fe6a392c-5882-4628-9954-2f9d5e55f6d9",
        "colab": {
          "base_uri": "https://localhost:8080/"
        }
      },
      "outputs": [
        {
          "output_type": "stream",
          "name": "stdout",
          "text": [
            "Primer número más grande: 10\n",
            "Segundo número más grande: 9\n",
            "Primer número más grande: 10\n",
            "Segundo número más grande: 9\n"
          ]
        }
      ],
      "source": [
        "!python largest_number_super.py < input1.txt\n",
        "!python largest_number_super.py < input2.txt"
      ]
    },
    {
      "cell_type": "markdown",
      "metadata": {
        "id": "CE5DB3CmPxcJ"
      },
      "source": [
        "Test and time it with input 3"
      ]
    },
    {
      "cell_type": "code",
      "execution_count": null,
      "metadata": {
        "id": "lyLhFOoePxcJ",
        "outputId": "b076b871-941e-43db-faa6-9461de641c34",
        "colab": {
          "base_uri": "https://localhost:8080/"
        }
      },
      "outputs": [
        {
          "output_type": "stream",
          "name": "stdout",
          "text": [
            "Primer número más grande: 200000\n",
            "Segundo número más grande: 23\n"
          ]
        }
      ],
      "source": [
        "!python largest_number_super.py < input3.txt"
      ]
    },
    {
      "cell_type": "markdown",
      "metadata": {
        "id": "HZEI236lPxcK"
      },
      "source": [
        "20 stress tests"
      ]
    },
    {
      "cell_type": "code",
      "execution_count": null,
      "metadata": {
        "id": "_LoV-p4zPxcK",
        "outputId": "220382d7-fef3-4a44-ab5b-c427d3b611ea",
        "colab": {
          "base_uri": "https://localhost:8080/"
        }
      },
      "outputs": [
        {
          "output_type": "stream",
          "name": "stdout",
          "text": [
            "Primer número más grande: 853\n",
            "Segundo número más grande: 831\n",
            "\n",
            "real\t0m0.044s\n",
            "user\t0m0.035s\n",
            "sys\t0m0.008s\n",
            "Primer número más grande: 973\n",
            "Segundo número más grande: 907\n",
            "\n",
            "real\t0m0.046s\n",
            "user\t0m0.036s\n",
            "sys\t0m0.010s\n",
            "Primer número más grande: 926\n",
            "Segundo número más grande: 906\n",
            "\n",
            "real\t0m0.047s\n",
            "user\t0m0.035s\n",
            "sys\t0m0.010s\n",
            "Primer número más grande: 998\n",
            "Segundo número más grande: 930\n",
            "\n",
            "real\t0m0.059s\n",
            "user\t0m0.042s\n",
            "sys\t0m0.014s\n",
            "Primer número más grande: 959\n",
            "Segundo número más grande: 922\n",
            "\n",
            "real\t0m0.052s\n",
            "user\t0m0.036s\n",
            "sys\t0m0.009s\n",
            "Primer número más grande: 929\n",
            "Segundo número más grande: 912\n",
            "\n",
            "real\t0m0.049s\n",
            "user\t0m0.037s\n",
            "sys\t0m0.011s\n",
            "Primer número más grande: 958\n",
            "Segundo número más grande: 872\n",
            "\n",
            "real\t0m0.051s\n",
            "user\t0m0.036s\n",
            "sys\t0m0.011s\n",
            "Primer número más grande: 977\n",
            "Segundo número más grande: 967\n",
            "\n",
            "real\t0m0.045s\n",
            "user\t0m0.036s\n",
            "sys\t0m0.009s\n",
            "Primer número más grande: 976\n",
            "Segundo número más grande: 945\n",
            "\n",
            "real\t0m0.044s\n",
            "user\t0m0.034s\n",
            "sys\t0m0.010s\n",
            "Primer número más grande: 994\n",
            "Segundo número más grande: 959\n",
            "\n",
            "real\t0m0.045s\n",
            "user\t0m0.033s\n",
            "sys\t0m0.011s\n",
            "Primer número más grande: 998\n",
            "Segundo número más grande: 968\n",
            "\n",
            "real\t0m0.044s\n",
            "user\t0m0.037s\n",
            "sys\t0m0.007s\n",
            "Primer número más grande: 968\n",
            "Segundo número más grande: 961\n",
            "\n",
            "real\t0m0.045s\n",
            "user\t0m0.032s\n",
            "sys\t0m0.012s\n",
            "Primer número más grande: 995\n",
            "Segundo número más grande: 947\n",
            "\n",
            "real\t0m0.043s\n",
            "user\t0m0.037s\n",
            "sys\t0m0.004s\n",
            "Primer número más grande: 946\n",
            "Segundo número más grande: 928\n",
            "\n",
            "real\t0m0.052s\n",
            "user\t0m0.037s\n",
            "sys\t0m0.012s\n",
            "Primer número más grande: 993\n",
            "Segundo número más grande: 902\n",
            "\n",
            "real\t0m0.054s\n",
            "user\t0m0.035s\n",
            "sys\t0m0.013s\n",
            "Primer número más grande: 991\n",
            "Segundo número más grande: 982\n",
            "\n",
            "real\t0m0.045s\n",
            "user\t0m0.032s\n",
            "sys\t0m0.011s\n",
            "Primer número más grande: 977\n",
            "Segundo número más grande: 877\n",
            "\n",
            "real\t0m0.044s\n",
            "user\t0m0.035s\n",
            "sys\t0m0.009s\n",
            "Primer número más grande: 987\n",
            "Segundo número más grande: 904\n",
            "\n",
            "real\t0m0.043s\n",
            "user\t0m0.036s\n",
            "sys\t0m0.006s\n",
            "Primer número más grande: 941\n",
            "Segundo número más grande: 940\n",
            "\n",
            "real\t0m0.048s\n",
            "user\t0m0.032s\n",
            "sys\t0m0.015s\n",
            "Primer número más grande: 960\n",
            "Segundo número más grande: 950\n",
            "\n",
            "real\t0m0.048s\n",
            "user\t0m0.036s\n",
            "sys\t0m0.010s\n",
            "Primer número más grande: 988\n",
            "Segundo número más grande: 966\n",
            "\n",
            "real\t0m0.046s\n",
            "user\t0m0.036s\n",
            "sys\t0m0.010s\n"
          ]
        }
      ],
      "source": [
        "!time python largest_number_super.py < input20.txt\n",
        "!time python largest_number_super.py < input21.txt\n",
        "!time python largest_number_super.py < input22.txt\n",
        "!time python largest_number_super.py < input23.txt\n",
        "!time python largest_number_super.py < input24.txt\n",
        "!time python largest_number_super.py < input25.txt\n",
        "!time python largest_number_super.py < input26.txt\n",
        "!time python largest_number_super.py < input27.txt\n",
        "!time python largest_number_super.py < input28.txt\n",
        "!time python largest_number_super.py < input29.txt\n",
        "!time python largest_number_super.py < input30.txt\n",
        "!time python largest_number_super.py < input31.txt\n",
        "!time python largest_number_super.py < input32.txt\n",
        "!time python largest_number_super.py < input33.txt\n",
        "!time python largest_number_super.py < input34.txt\n",
        "!time python largest_number_super.py < input35.txt\n",
        "!time python largest_number_super.py < input36.txt\n",
        "!time python largest_number_super.py < input37.txt\n",
        "!time python largest_number_super.py < input38.txt\n",
        "!time python largest_number_super.py < input39.txt\n",
        "!time python largest_number_super.py < input40.txt"
      ]
    },
    {
      "cell_type": "markdown",
      "metadata": {
        "id": "IRVdP3iuPxcK"
      },
      "source": [
        "Count executed instructions in code and verify with inputs 1,2 and 3"
      ]
    },
    {
      "cell_type": "markdown",
      "metadata": {
        "id": "R6qeUjPaPxcK"
      },
      "source": [
        "Calculate estimated time by instruction and number of instructions by second"
      ]
    },
    {
      "cell_type": "code",
      "execution_count": null,
      "metadata": {
        "id": "iLdXYvn3PxcK"
      },
      "outputs": [],
      "source": []
    }
  ],
  "metadata": {
    "colab": {
      "provenance": [],
      "include_colab_link": true
    },
    "kernelspec": {
      "display_name": "Python 3",
      "name": "python3"
    },
    "language_info": {
      "name": "python"
    }
  },
  "nbformat": 4,
  "nbformat_minor": 0
}