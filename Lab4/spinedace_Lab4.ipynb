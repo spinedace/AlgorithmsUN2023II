{
  "cells": [
    {
      "cell_type": "markdown",
      "metadata": {
        "id": "view-in-github",
        "colab_type": "text"
      },
      "source": [
        "<a href=\"https://colab.research.google.com/github/spinedace/AlgorithmsUN2023II/blob/main/Lab4/spinedace_Lab4.ipynb\" target=\"_parent\"><img src=\"https://colab.research.google.com/assets/colab-badge.svg\" alt=\"Open In Colab\"/></a>"
      ]
    },
    {
      "cell_type": "code",
      "execution_count": null,
      "metadata": {
        "colab": {
          "base_uri": "https://localhost:8080/"
        },
        "id": "im-VVd1__7VU",
        "outputId": "9266a716-2978-4851-fd83-33af2b002be2"
      },
      "outputs": [
        {
          "output_type": "stream",
          "name": "stdout",
          "text": [
            "processor\t: 0\n",
            "vendor_id\t: GenuineIntel\n",
            "cpu family\t: 6\n",
            "model\t\t: 79\n",
            "model name\t: Intel(R) Xeon(R) CPU @ 2.20GHz\n",
            "stepping\t: 0\n",
            "microcode\t: 0xffffffff\n",
            "cpu MHz\t\t: 2199.998\n",
            "cache size\t: 56320 KB\n",
            "physical id\t: 0\n",
            "siblings\t: 2\n",
            "core id\t\t: 0\n",
            "cpu cores\t: 1\n",
            "apicid\t\t: 0\n",
            "initial apicid\t: 0\n",
            "fpu\t\t: yes\n",
            "fpu_exception\t: yes\n",
            "cpuid level\t: 13\n",
            "wp\t\t: yes\n",
            "flags\t\t: fpu vme de pse tsc msr pae mce cx8 apic sep mtrr pge mca cmov pat pse36 clflush mmx fxsr sse sse2 ss ht syscall nx pdpe1gb rdtscp lm constant_tsc rep_good nopl xtopology nonstop_tsc cpuid tsc_known_freq pni pclmulqdq ssse3 fma cx16 pcid sse4_1 sse4_2 x2apic movbe popcnt aes xsave avx f16c rdrand hypervisor lahf_lm abm 3dnowprefetch invpcid_single ssbd ibrs ibpb stibp fsgsbase tsc_adjust bmi1 hle avx2 smep bmi2 erms invpcid rtm rdseed adx smap xsaveopt arat md_clear arch_capabilities\n",
            "bugs\t\t: cpu_meltdown spectre_v1 spectre_v2 spec_store_bypass l1tf mds swapgs taa mmio_stale_data retbleed\n",
            "bogomips\t: 4399.99\n",
            "clflush size\t: 64\n",
            "cache_alignment\t: 64\n",
            "address sizes\t: 46 bits physical, 48 bits virtual\n",
            "power management:\n",
            "\n",
            "processor\t: 1\n",
            "vendor_id\t: GenuineIntel\n",
            "cpu family\t: 6\n",
            "model\t\t: 79\n",
            "model name\t: Intel(R) Xeon(R) CPU @ 2.20GHz\n",
            "stepping\t: 0\n",
            "microcode\t: 0xffffffff\n",
            "cpu MHz\t\t: 2199.998\n",
            "cache size\t: 56320 KB\n",
            "physical id\t: 0\n",
            "siblings\t: 2\n",
            "core id\t\t: 0\n",
            "cpu cores\t: 1\n",
            "apicid\t\t: 1\n",
            "initial apicid\t: 1\n",
            "fpu\t\t: yes\n",
            "fpu_exception\t: yes\n",
            "cpuid level\t: 13\n",
            "wp\t\t: yes\n",
            "flags\t\t: fpu vme de pse tsc msr pae mce cx8 apic sep mtrr pge mca cmov pat pse36 clflush mmx fxsr sse sse2 ss ht syscall nx pdpe1gb rdtscp lm constant_tsc rep_good nopl xtopology nonstop_tsc cpuid tsc_known_freq pni pclmulqdq ssse3 fma cx16 pcid sse4_1 sse4_2 x2apic movbe popcnt aes xsave avx f16c rdrand hypervisor lahf_lm abm 3dnowprefetch invpcid_single ssbd ibrs ibpb stibp fsgsbase tsc_adjust bmi1 hle avx2 smep bmi2 erms invpcid rtm rdseed adx smap xsaveopt arat md_clear arch_capabilities\n",
            "bugs\t\t: cpu_meltdown spectre_v1 spectre_v2 spec_store_bypass l1tf mds swapgs taa mmio_stale_data retbleed\n",
            "bogomips\t: 4399.99\n",
            "clflush size\t: 64\n",
            "cache_alignment\t: 64\n",
            "address sizes\t: 46 bits physical, 48 bits virtual\n",
            "power management:\n",
            "\n"
          ]
        }
      ],
      "source": [
        "!cat /proc/cpuinfo"
      ]
    },
    {
      "cell_type": "markdown",
      "metadata": {
        "id": "N1ok_-56OjB1"
      },
      "source": [
        "# I Solving the Sum of Two Digits Programming Challenge"
      ]
    },
    {
      "cell_type": "markdown",
      "metadata": {
        "id": "MMY7kmDSO0KM"
      },
      "source": [
        "## C++"
      ]
    },
    {
      "cell_type": "code",
      "execution_count": null,
      "metadata": {
        "colab": {
          "base_uri": "https://localhost:8080/"
        },
        "id": "2pGGf9BkPNIk",
        "outputId": "b74bc5b9-9d76-425d-e509-957a8bda4ff8"
      },
      "outputs": [
        {
          "output_type": "stream",
          "name": "stdout",
          "text": [
            "Overwriting APlusB.cpp\n"
          ]
        }
      ],
      "source": [
        "%%writefile APlusB.cpp\n",
        "#include <iostream>\n",
        "\n",
        "int sum_of_two_digits(int first_digit, int second_digit) {\n",
        "    return first_digit + second_digit;\n",
        "}\n",
        "\n",
        "int main() {\n",
        "    int a = 0;\n",
        "    int b = 0;\n",
        "    std::cin >> a;\n",
        "    std::cin >> b;\n",
        "    std::cout << sum_of_two_digits(a, b);\n",
        "    return 0;\n",
        "}"
      ]
    },
    {
      "cell_type": "code",
      "execution_count": null,
      "metadata": {
        "colab": {
          "base_uri": "https://localhost:8080/"
        },
        "id": "0G3ZKOYAPXSU",
        "outputId": "6c14b1e6-6650-48c5-a787-20f16b5b47dc"
      },
      "outputs": [
        {
          "output_type": "stream",
          "name": "stdout",
          "text": [
            "9"
          ]
        }
      ],
      "source": [
        "!g++ APlusB.cpp -o APlusB -std=c++11\n",
        "!echo \"4 5\" | ./APlusB"
      ]
    },
    {
      "cell_type": "markdown",
      "metadata": {
        "id": "iNkG2HqfTl9c"
      },
      "source": [
        "### Test input output files"
      ]
    },
    {
      "cell_type": "code",
      "execution_count": null,
      "metadata": {
        "colab": {
          "base_uri": "https://localhost:8080/"
        },
        "id": "aTzU2efzMxly",
        "outputId": "e1a84219-1241-4bf6-c016-3dcb2d88cfc0"
      },
      "outputs": [
        {
          "output_type": "stream",
          "name": "stdout",
          "text": [
            "Overwriting input1.txt\n"
          ]
        }
      ],
      "source": [
        "%%writefile input1.txt\n",
        "4 8"
      ]
    },
    {
      "cell_type": "code",
      "execution_count": null,
      "metadata": {
        "colab": {
          "base_uri": "https://localhost:8080/"
        },
        "id": "zBJ0Gc0NQRet",
        "outputId": "61b2ab9e-a813-4cf6-f6c5-c5347782a7e2"
      },
      "outputs": [
        {
          "output_type": "stream",
          "name": "stdout",
          "text": [
            "Overwriting output1.txt\n"
          ]
        }
      ],
      "source": [
        "%%writefile output1.txt\n",
        "12"
      ]
    },
    {
      "cell_type": "code",
      "execution_count": null,
      "metadata": {
        "colab": {
          "base_uri": "https://localhost:8080/"
        },
        "id": "IjEcIx63PJAN",
        "outputId": "4ea200f8-3864-4f3f-908b-c9da75428eb0"
      },
      "outputs": [
        {
          "output_type": "stream",
          "name": "stdout",
          "text": [
            "Overwriting input2.txt\n"
          ]
        }
      ],
      "source": [
        "%%writefile input2.txt\n",
        "0 9"
      ]
    },
    {
      "cell_type": "code",
      "execution_count": null,
      "metadata": {
        "colab": {
          "base_uri": "https://localhost:8080/"
        },
        "id": "Up9gOrxURTmd",
        "outputId": "566b0f0a-8bf8-4c6e-ae93-9a2dec16de98"
      },
      "outputs": [
        {
          "output_type": "stream",
          "name": "stdout",
          "text": [
            "Overwriting output2.txt\n"
          ]
        }
      ],
      "source": [
        "%%writefile output2.txt\n",
        "9"
      ]
    },
    {
      "cell_type": "code",
      "execution_count": null,
      "metadata": {
        "colab": {
          "base_uri": "https://localhost:8080/"
        },
        "id": "PST6G-s-Pwgc",
        "outputId": "91bb8dc4-2f69-4b79-8047-7b372f7027a0"
      },
      "outputs": [
        {
          "output_type": "stream",
          "name": "stdout",
          "text": [
            "12"
          ]
        }
      ],
      "source": [
        "!./APlusB < input1.txt"
      ]
    },
    {
      "cell_type": "code",
      "execution_count": null,
      "metadata": {
        "colab": {
          "base_uri": "https://localhost:8080/"
        },
        "id": "cKxZOjSlRfIN",
        "outputId": "a919f8d7-8452-41c3-9ea7-fed720ed80a0"
      },
      "outputs": [
        {
          "output_type": "stream",
          "name": "stdout",
          "text": [
            "9"
          ]
        }
      ],
      "source": [
        "!./APlusB < input2.txt"
      ]
    },
    {
      "cell_type": "markdown",
      "metadata": {
        "id": "Qw2TQWCCUwqk"
      },
      "source": [
        "### Comparing files with grep\n",
        "\n",
        "https://askubuntu.com/questions/546796/comparing-two-text-files"
      ]
    },
    {
      "cell_type": "code",
      "execution_count": null,
      "metadata": {
        "id": "WVIaAmMKU4QM"
      },
      "outputs": [],
      "source": [
        "!grep -xvFf output1.txt output1.txt"
      ]
    },
    {
      "cell_type": "code",
      "execution_count": null,
      "metadata": {
        "colab": {
          "base_uri": "https://localhost:8080/"
        },
        "id": "MQU8gPPjQuYO",
        "outputId": "5c442a62-72d2-4681-c7be-b227de0d44f6"
      },
      "outputs": [
        {
          "output_type": "stream",
          "name": "stdout",
          "text": [
            "9\n"
          ]
        }
      ],
      "source": [
        "!grep -xvFf output1.txt output2.txt"
      ]
    },
    {
      "cell_type": "code",
      "execution_count": null,
      "metadata": {
        "colab": {
          "base_uri": "https://localhost:8080/"
        },
        "id": "jYL9OuYBTD_l",
        "outputId": "121af11b-b4ae-4e85-ede7-0f0286552460"
      },
      "outputs": [
        {
          "output_type": "stream",
          "name": "stdout",
          "text": [
            "12\n"
          ]
        }
      ],
      "source": [
        "!grep -xvFf output2.txt output1.txt"
      ]
    },
    {
      "cell_type": "code",
      "execution_count": null,
      "metadata": {
        "id": "Jlja0Xm4TX9M"
      },
      "outputs": [],
      "source": [
        "!./APlusB < input1.txt> ctest1.txt\n",
        "!grep -xvFf output1.txt ctest1.txt"
      ]
    },
    {
      "cell_type": "code",
      "execution_count": null,
      "metadata": {
        "id": "g9OIUZA_QLCQ"
      },
      "outputs": [],
      "source": [
        "!./APlusB < input2.txt > ctest2.txt\n",
        "!grep -xvFf output2.txt ctest2.txt"
      ]
    },
    {
      "cell_type": "markdown",
      "metadata": {
        "id": "3BgOaDjUVJk6"
      },
      "source": [
        "## Python"
      ]
    },
    {
      "cell_type": "code",
      "execution_count": null,
      "metadata": {
        "colab": {
          "base_uri": "https://localhost:8080/"
        },
        "id": "DBvl-T0CTN_8",
        "outputId": "d6919a00-6c21-41a8-98d8-93309cf783fb"
      },
      "outputs": [
        {
          "output_type": "stream",
          "name": "stdout",
          "text": [
            "Overwriting sum.py\n"
          ]
        }
      ],
      "source": [
        "%%writefile sum.py\n",
        "# python3\n",
        "\n",
        "def sum_of_two_digits(first_digit, second_digit):\n",
        "    return first_digit + second_digit\n",
        "\n",
        "if __name__ == '__main__':\n",
        "    a, b = map(int, input().split())\n",
        "    print(sum_of_two_digits(a, b))"
      ]
    },
    {
      "cell_type": "code",
      "execution_count": null,
      "metadata": {
        "colab": {
          "base_uri": "https://localhost:8080/"
        },
        "id": "QKoKM11_WGyF",
        "outputId": "aab6cab6-c666-40d0-e4f7-298201216373"
      },
      "outputs": [
        {
          "output_type": "stream",
          "name": "stdout",
          "text": [
            "100\n"
          ]
        }
      ],
      "source": [
        "!echo \"90 10\" | python sum.py\n"
      ]
    },
    {
      "cell_type": "code",
      "execution_count": null,
      "metadata": {
        "id": "cocFbPRTWrqt"
      },
      "outputs": [],
      "source": [
        "!python sum.py  < input1.txt> ptest1.txt\n",
        "!grep -xvFf output1.txt ptest1.txt"
      ]
    },
    {
      "cell_type": "code",
      "execution_count": null,
      "metadata": {
        "id": "MorKTa-XXASN"
      },
      "outputs": [],
      "source": [
        "!python sum.py  < input2.txt> ptest2.txt\n",
        "!grep -xvFf output2.txt ptest2.txt"
      ]
    },
    {
      "cell_type": "markdown",
      "metadata": {
        "id": "uvP-mOubW_5F"
      },
      "source": [
        "# II Solving The Maximum Pairwise Product Programming Challenge in C++"
      ]
    },
    {
      "cell_type": "markdown",
      "metadata": {
        "id": "C12yoFR6Xonl"
      },
      "source": [
        "## C++"
      ]
    },
    {
      "cell_type": "code",
      "execution_count": null,
      "metadata": {
        "colab": {
          "base_uri": "https://localhost:8080/"
        },
        "id": "3LpfoGv2Ae81",
        "outputId": "3dd7f2f2-f757-43e6-e4b8-d6348cbfd126"
      },
      "outputs": [
        {
          "output_type": "stream",
          "name": "stdout",
          "text": [
            "Overwriting max_pairwise_product_full.cpp\n"
          ]
        }
      ],
      "source": [
        "%%writefile max_pairwise_product_full.cpp\n",
        "#include <iostream>\n",
        "#include <vector>\n",
        "#include <algorithm>\n",
        "\n",
        "int MaxPairwiseProduct(const std::vector<int>& numbers) {\n",
        "    int max_product = 0;\n",
        "    int aux_product = 0;\n",
        "    int n = numbers.size();\n",
        "\n",
        "    for (int first = 0; first < n; ++first) {\n",
        "        for (int second = 0; second < n; ++second) {\n",
        "          if ( first != second ){\n",
        "                aux_product = numbers[first] * numbers[second];\n",
        "                if (aux_product > max_product)  max_product = aux_product;\n",
        "          }\n",
        "        }\n",
        "    }\n",
        "\n",
        "    return max_product;\n",
        "}\n",
        "\n",
        "int main() {\n",
        "    int n;\n",
        "    std::cin >> n;\n",
        "    std::vector<int> numbers(n);\n",
        "    for (int i = 0; i < n; ++i) {\n",
        "        std::cin >> numbers[i];\n",
        "    }\n",
        "\n",
        "    std::cout << MaxPairwiseProduct(numbers) << \"\\n\";\n",
        "    return 0;\n",
        "}"
      ]
    },
    {
      "cell_type": "code",
      "execution_count": null,
      "metadata": {
        "colab": {
          "base_uri": "https://localhost:8080/"
        },
        "id": "PCVo1h6nCF9k",
        "outputId": "668ebc46-cc04-4595-d73a-413ef2963002"
      },
      "outputs": [
        {
          "output_type": "stream",
          "name": "stdout",
          "text": [
            "11445\n"
          ]
        }
      ],
      "source": [
        "!g++ max_pairwise_product_full.cpp -o max_pairwise_product_full\n",
        "!echo -e \"2\\n21 545\"|./max_pairwise_product_full\n"
      ]
    },
    {
      "cell_type": "markdown",
      "metadata": {
        "id": "m75IQQPbEHBS"
      },
      "source": [
        "$$n^2 \\ \\text{first != second  comparisons},  n^2 - n \\ \\ \\text{numbers[first] * numbers[second] products},  O(n^2)$$"
      ]
    },
    {
      "cell_type": "markdown",
      "metadata": {
        "id": "e7KhxHGNS3i0"
      },
      "source": [
        "### Test 1: Small numbers"
      ]
    },
    {
      "cell_type": "code",
      "execution_count": null,
      "metadata": {
        "colab": {
          "base_uri": "https://localhost:8080/"
        },
        "id": "e1mmTzBgShT-",
        "outputId": "f00625d5-9ccb-41ee-fcde-618c4d85e4ab"
      },
      "outputs": [
        {
          "output_type": "stream",
          "name": "stdout",
          "text": [
            "Overwriting input1.txt\n"
          ]
        }
      ],
      "source": [
        "%%writefile input1.txt\n",
        "10\n",
        "1 2 3 4 5 6 7 8 9 10"
      ]
    },
    {
      "cell_type": "code",
      "execution_count": null,
      "metadata": {
        "colab": {
          "base_uri": "https://localhost:8080/"
        },
        "id": "vy_uI0x7TCId",
        "outputId": "95100707-30b7-4bcd-f0c8-232d612c99c6"
      },
      "outputs": [
        {
          "output_type": "stream",
          "name": "stdout",
          "text": [
            "90\n"
          ]
        }
      ],
      "source": [
        "!./max_pairwise_product_full < input1.txt"
      ]
    },
    {
      "cell_type": "code",
      "execution_count": null,
      "metadata": {
        "colab": {
          "base_uri": "https://localhost:8080/"
        },
        "id": "xaj6f9bxC6D6",
        "outputId": "b9573f9c-e17a-461d-aca8-3fe323518658"
      },
      "outputs": [
        {
          "output_type": "stream",
          "name": "stdout",
          "text": [
            "Overwriting output1.txt\n"
          ]
        }
      ],
      "source": [
        "%%writefile output1.txt\n",
        "90"
      ]
    },
    {
      "cell_type": "code",
      "execution_count": null,
      "metadata": {
        "id": "fYCjAdA_C-wy"
      },
      "outputs": [],
      "source": [
        "!./max_pairwise_product_full< input1.txt > ctest1.txt\n",
        "!grep -xvFf output1.txt ctest1.txt"
      ]
    },
    {
      "cell_type": "code",
      "execution_count": null,
      "metadata": {
        "colab": {
          "base_uri": "https://localhost:8080/"
        },
        "id": "ZPe40LY14_6f",
        "outputId": "bf9b9ba7-8e86-46ef-d150-8c8efe9f16ed"
      },
      "outputs": [
        {
          "output_type": "stream",
          "name": "stdout",
          "text": [
            "Overwriting input2.txt\n"
          ]
        }
      ],
      "source": [
        "%%writefile input2.txt\n",
        "10\n",
        "10 9 8 7 6 5 4 3 2 1"
      ]
    },
    {
      "cell_type": "code",
      "execution_count": null,
      "metadata": {
        "colab": {
          "base_uri": "https://localhost:8080/"
        },
        "id": "xiHmF7HA5Faa",
        "outputId": "835edbc4-583b-4540-9946-9800ee8baf46"
      },
      "outputs": [
        {
          "output_type": "stream",
          "name": "stdout",
          "text": [
            "Overwriting output2.txt\n"
          ]
        }
      ],
      "source": [
        "%%writefile output2.txt\n",
        "90"
      ]
    },
    {
      "cell_type": "code",
      "execution_count": null,
      "metadata": {
        "id": "jjwc9kwb5t_k"
      },
      "outputs": [],
      "source": [
        "!./max_pairwise_product_full< input2.txt > ctest2.txt\n",
        "!grep -xvFf output2.txt ctest2.txt"
      ]
    },
    {
      "cell_type": "markdown",
      "metadata": {
        "id": "IeZ3kTjpYmR9"
      },
      "source": [
        "### Test 2: largest input numbers 200000 200000 in the input"
      ]
    },
    {
      "cell_type": "code",
      "execution_count": null,
      "metadata": {
        "colab": {
          "base_uri": "https://localhost:8080/"
        },
        "id": "LQNlZqaqYt7U",
        "outputId": "1adf9c8f-6153-478e-f833-437cc6c4bdce"
      },
      "outputs": [
        {
          "output_type": "stream",
          "name": "stdout",
          "text": [
            "Overwriting input3.txt\n"
          ]
        }
      ],
      "source": [
        "%%writefile input3.txt\n",
        "6\n",
        "1 3 200000 9 200000 23"
      ]
    },
    {
      "cell_type": "code",
      "execution_count": null,
      "metadata": {
        "colab": {
          "base_uri": "https://localhost:8080/"
        },
        "id": "GjQq7QOUCw-9",
        "outputId": "85760382-1391-4a45-cb6d-2cf641c8355c"
      },
      "outputs": [
        {
          "output_type": "execute_result",
          "data": {
            "text/plain": [
              "40000000000"
            ]
          },
          "metadata": {},
          "execution_count": 116
        }
      ],
      "source": [
        "200000*200000"
      ]
    },
    {
      "cell_type": "code",
      "execution_count": null,
      "metadata": {
        "colab": {
          "base_uri": "https://localhost:8080/"
        },
        "id": "EuS6n3jtDK5C",
        "outputId": "bdc08152-9331-4d4e-cd60-5a7063cca891"
      },
      "outputs": [
        {
          "output_type": "stream",
          "name": "stdout",
          "text": [
            "Overwriting output3.txt\n"
          ]
        }
      ],
      "source": [
        "%%writefile output3.txt\n",
        "40000000000"
      ]
    },
    {
      "cell_type": "code",
      "execution_count": null,
      "metadata": {
        "colab": {
          "base_uri": "https://localhost:8080/"
        },
        "id": "2Wad2VZUZDxR",
        "outputId": "31fb7ae8-20a4-41bd-9bfa-8aa4e0203383"
      },
      "outputs": [
        {
          "output_type": "stream",
          "name": "stdout",
          "text": [
            "1345294336\n"
          ]
        }
      ],
      "source": [
        "!./max_pairwise_product_full < input3.txt"
      ]
    },
    {
      "cell_type": "code",
      "execution_count": null,
      "metadata": {
        "colab": {
          "base_uri": "https://localhost:8080/"
        },
        "id": "pEvp1ieyDJGq",
        "outputId": "d5a0d978-1d3b-419a-b61d-8e4be00da657"
      },
      "outputs": [
        {
          "output_type": "stream",
          "name": "stdout",
          "text": [
            "1345294336\n"
          ]
        }
      ],
      "source": [
        "!./max_pairwise_product_full < input3.txt > ctest3.txt\n",
        "!grep -xvFf output3.txt ctest3.txt"
      ]
    },
    {
      "cell_type": "code",
      "execution_count": null,
      "metadata": {
        "colab": {
          "base_uri": "https://localhost:8080/"
        },
        "id": "SrtJrKqM-God",
        "outputId": "badde555-8f21-42e8-dce5-98994d3672d6"
      },
      "outputs": [
        {
          "output_type": "stream",
          "name": "stdout",
          "text": [
            "Overwriting run_all_test.sh\n"
          ]
        }
      ],
      "source": [
        " %%writefile run_all_test.sh\n",
        "#!/bin/bash\n",
        "g++ max_pairwise_product_full.cpp -o max_pairwise_product_full\n",
        "for i in {1..3}\n",
        "do\n",
        "    ./max_pairwise_product_full < input$i.txt > ctest$i.txt\n",
        "    grep -xvFf output$i.txt ctest$i.txt\n",
        "done"
      ]
    },
    {
      "cell_type": "code",
      "execution_count": null,
      "metadata": {
        "colab": {
          "base_uri": "https://localhost:8080/"
        },
        "id": "wGWMHtzS-QnA",
        "outputId": "d00d3106-bb1b-495d-f55b-afc9c2d24344"
      },
      "outputs": [
        {
          "output_type": "stream",
          "name": "stdout",
          "text": [
            "1345294336\n"
          ]
        }
      ],
      "source": [
        "!chmod u+x run_all_test.sh\n",
        "!./run_all_test.sh"
      ]
    },
    {
      "cell_type": "markdown",
      "metadata": {
        "id": "H2SC0Qt5HCzz"
      },
      "source": [
        "Changing the variables to long long"
      ]
    },
    {
      "cell_type": "code",
      "execution_count": null,
      "metadata": {
        "colab": {
          "base_uri": "https://localhost:8080/"
        },
        "id": "MPcmsxiQZSfE",
        "outputId": "f0cb299e-061b-44b9-b6a2-a230bf1e9594"
      },
      "outputs": [
        {
          "output_type": "stream",
          "name": "stdout",
          "text": [
            "Overwriting max_pairwise_product_long_full.cpp\n"
          ]
        }
      ],
      "source": [
        "%%writefile max_pairwise_product_long_full.cpp\n",
        "#include <iostream>\n",
        "#include <vector>\n",
        "#include <algorithm>\n",
        "\n",
        "long long MaxPairwiseProduct(const std::vector<long long>& numbers) {\n",
        "    long long max_product = 0LL;\n",
        "\t  long long aux_product = 0LL;\n",
        "    int n = numbers.size();\n",
        "\n",
        "    for (int first = 0; first < n; ++first) {\n",
        "        for (int second = 0; second < n; ++second) {\n",
        "          if ( first != second){\n",
        "                aux_product = (long long) numbers[first] * numbers[second];\n",
        "                if (aux_product > max_product)  max_product = aux_product;\n",
        "          }\n",
        "        }\n",
        "    }\n",
        "\n",
        "\n",
        "    return max_product;\n",
        "}\n",
        "\n",
        "int main() {\n",
        "    int n;\n",
        "    std::cin >> n;\n",
        "    std::vector<long long> numbers(n);\n",
        "    for (int i = 0; i < n; ++i) {\n",
        "        std::cin >> numbers[i];\n",
        "    }\n",
        "\n",
        "    std::cout << MaxPairwiseProduct(numbers) << \"\\n\";\n",
        "    return 0;\n",
        "}\n"
      ]
    },
    {
      "cell_type": "code",
      "execution_count": null,
      "metadata": {
        "id": "W3xQpFXL6wjO"
      },
      "outputs": [],
      "source": [
        "!g++ max_pairwise_product_long_full.cpp -o max_pairwise_product_long_full"
      ]
    },
    {
      "cell_type": "code",
      "execution_count": null,
      "metadata": {
        "colab": {
          "base_uri": "https://localhost:8080/"
        },
        "id": "H5dvN9M3R9sV",
        "outputId": "f2b02b08-1d19-485b-c968-bd2f37436b4b"
      },
      "outputs": [
        {
          "output_type": "stream",
          "name": "stdout",
          "text": [
            "40000000000\n"
          ]
        }
      ],
      "source": [
        "!./max_pairwise_product_long_full < input3.txt"
      ]
    },
    {
      "cell_type": "markdown",
      "metadata": {
        "id": "gx-sEYdfQ8f8"
      },
      "source": [
        "### Runing multuple test with a bash shell"
      ]
    },
    {
      "cell_type": "code",
      "execution_count": null,
      "metadata": {
        "colab": {
          "base_uri": "https://localhost:8080/"
        },
        "id": "O9qsq2nn7elw",
        "outputId": "2768180a-9dbf-4f6b-bf68-19fe04fd61bc"
      },
      "outputs": [
        {
          "output_type": "stream",
          "name": "stdout",
          "text": [
            "Overwriting run_all_test.sh\n"
          ]
        }
      ],
      "source": [
        " %%writefile run_all_test.sh\n",
        "#!/bin/bash\n",
        "g++ max_pairwise_product_long_full.cpp -o max_pairwise_product_long_full\n",
        "for i in {1..3}\n",
        "do\n",
        "    ./max_pairwise_product_long_full < input$i.txt > ctest$i.txt\n",
        "    grep -xvFf output$i.txt ctest$i.txt\n",
        "done"
      ]
    },
    {
      "cell_type": "code",
      "execution_count": null,
      "metadata": {
        "id": "0g5kKVph7xIA"
      },
      "outputs": [],
      "source": [
        "!chmod u+x run_all_test.sh\n",
        "!./run_all_test.sh"
      ]
    },
    {
      "cell_type": "markdown",
      "metadata": {
        "id": "XPVHkHxH6_7s"
      },
      "source": [
        "### Test 3  stress tests 6 testing cases files input4.txt/output4.txt .. input10.txt/output10.txt\n",
        "\n",
        "---\n",
        "\n"
      ]
    },
    {
      "cell_type": "code",
      "execution_count": null,
      "metadata": {
        "colab": {
          "base_uri": "https://localhost:8080/"
        },
        "id": "PwqpBmYr69fu",
        "outputId": "c655a3b4-89f7-4e57-d3da-1d7542318c81"
      },
      "outputs": [
        {
          "output_type": "stream",
          "name": "stdout",
          "text": [
            "Overwriting input4.txt\n"
          ]
        }
      ],
      "source": [
        "%%writefile input4.txt\n",
        "7\n",
        "5 12 100000 19 17 200000 23"
      ]
    },
    {
      "cell_type": "code",
      "execution_count": null,
      "metadata": {
        "colab": {
          "base_uri": "https://localhost:8080/"
        },
        "id": "jBCkMeR6Fw4y",
        "outputId": "7506b297-7fa1-4658-f6ce-a5fe056c950c"
      },
      "outputs": [
        {
          "output_type": "stream",
          "name": "stdout",
          "text": [
            "Overwriting output4.txt\n"
          ]
        }
      ],
      "source": [
        "%%writefile output4.txt\n",
        "20000000000"
      ]
    },
    {
      "cell_type": "code",
      "execution_count": null,
      "metadata": {
        "colab": {
          "base_uri": "https://localhost:8080/"
        },
        "id": "vPrdE3V2lRWJ",
        "outputId": "5124e16c-52dd-49b8-c2c5-66db11c251d5"
      },
      "outputs": [
        {
          "output_type": "stream",
          "name": "stdout",
          "text": [
            "Overwriting run_all_test.sh\n"
          ]
        }
      ],
      "source": [
        " %%writefile run_all_test.sh\n",
        "#!/bin/bash\n",
        "g++ max_pairwise_product_long_full.cpp -o max_pairwise_product_long_full\n",
        "for i in {1..4}\n",
        "do\n",
        "    ./max_pairwise_product_long_full < input$i.txt > ctest$i.txt\n",
        "    grep -xvFf output$i.txt ctest$i.txt\n",
        "done"
      ]
    },
    {
      "cell_type": "code",
      "execution_count": null,
      "metadata": {
        "id": "U6vsY1lQlV6i"
      },
      "outputs": [],
      "source": [
        "!chmod u+x run_all_test.sh\n",
        "!./run_all_test.sh"
      ]
    },
    {
      "cell_type": "markdown",
      "metadata": {
        "id": "LqBme98V7J_Y"
      },
      "source": [
        "For testing the the result:"
      ]
    },
    {
      "cell_type": "code",
      "execution_count": null,
      "metadata": {
        "colab": {
          "base_uri": "https://localhost:8080/"
        },
        "id": "vor8AHPg6IBB",
        "outputId": "e302d902-e015-4e7a-e6dc-40941ac56a8a"
      },
      "outputs": [
        {
          "output_type": "stream",
          "name": "stdout",
          "text": [
            "Files are identical.\n"
          ]
        }
      ],
      "source": [
        "%%bash\n",
        "if diff -y output4.txt ctest4.txt > /dev/null; then\n",
        "  echo \"Files are identical.\"\n",
        "else\n",
        "  echo \"Error: Files are different.\"\n",
        "fi"
      ]
    },
    {
      "cell_type": "code",
      "execution_count": null,
      "metadata": {
        "colab": {
          "base_uri": "https://localhost:8080/"
        },
        "id": "Wj0x4kGX_LUH",
        "outputId": "59e4351d-169a-4081-cd20-a481765d37e4"
      },
      "outputs": [
        {
          "output_type": "stream",
          "name": "stdout",
          "text": [
            "Overwriting master_input.txt\n"
          ]
        }
      ],
      "source": [
        "%%writefile master_input.txt\n",
        "3\n",
        "34567 87654 12938\n",
        "4\n",
        "98632 43219 58743 23018\n",
        "5\n",
        "54236 12789 63421 78934 12864\n",
        "4\n",
        "15489 98543 31654 47321\n",
        "3\n",
        "25678 78392 34892\n",
        "2\n",
        "91537 28916\n",
        "5\n",
        "15378 85294 47126 23985 62341\n",
        "3\n",
        "78942 31569 67231\n",
        "4\n",
        "34671 12895 89653 65432\n",
        "3\n",
        "49751 34821 67295"
      ]
    },
    {
      "cell_type": "code",
      "execution_count": null,
      "metadata": {
        "colab": {
          "base_uri": "https://localhost:8080/"
        },
        "id": "EBoF1gpg_W_W",
        "outputId": "2d6451c7-242c-4730-b462-9f03a34f7d4a"
      },
      "outputs": [
        {
          "output_type": "stream",
          "name": "stdout",
          "text": [
            "Overwriting master_output.txt\n"
          ]
        }
      ],
      "source": [
        "%%writefile master_output.txt\n",
        "3029935818\n",
        "5793939576\n",
        "5006073214\n",
        "4663153303\n",
        "2735253664\n",
        "2646883892\n",
        "5317313254\n",
        "5307349602\n",
        "5866175096\n",
        "3347993545"
      ]
    },
    {
      "cell_type": "code",
      "execution_count": null,
      "metadata": {
        "colab": {
          "base_uri": "https://localhost:8080/"
        },
        "id": "uh4ROvQu_kCu",
        "outputId": "0054dfdf-59c1-4de7-880e-6fbc09661dae"
      },
      "outputs": [
        {
          "output_type": "stream",
          "name": "stdout",
          "text": [
            "Overwriting run_all_master_test.sh\n"
          ]
        }
      ],
      "source": [
        "%%writefile run_all_master_test.sh\n",
        "#!/bin/bash\n",
        "\n",
        "# Compile the C++ program\n",
        "g++ max_pairwise_product_long_full.cpp -o max_pairwise_product_long_full\n",
        "\n",
        "> master_ctest.txt\n",
        "\n",
        "# Read master_input.txt two lines at a time and run the C++ program\n",
        "while IFS= read -r line1 && IFS= read -r line2; do\n",
        "  printf \"%s\\n%s\\n\" \"$line1\" \"$line2\" | ./max_pairwise_product_long_full >> master_ctest.txt\n",
        "done < master_input.txt\n",
        "\n",
        "# Compare output with the master output file\n",
        "if diff -y master_output.txt master_ctest.txt > /dev/null; then\n",
        "  echo \"All tests passed\"\n",
        "else\n",
        "  echo \"Test Error: Check the 'master_ctest.txt' for mismatches\"\n",
        "  diff -y master_output.txt master_ctest.txt > diff.txt\n",
        "  cat diff.txt\n",
        "fi\n"
      ]
    },
    {
      "cell_type": "code",
      "execution_count": null,
      "metadata": {
        "colab": {
          "base_uri": "https://localhost:8080/"
        },
        "id": "k6DvPRKC__cW",
        "outputId": "09d4863f-9b6a-439d-a8c6-39aaa5b089d8"
      },
      "outputs": [
        {
          "output_type": "stream",
          "name": "stdout",
          "text": [
            "All tests passed\n"
          ]
        }
      ],
      "source": [
        "!chmod u+x run_all_master_test.sh\n",
        "!./run_all_master_test.sh"
      ]
    },
    {
      "cell_type": "markdown",
      "metadata": {
        "id": "k7pW8PJiGrIS"
      },
      "source": [
        "Modify Function"
      ]
    },
    {
      "cell_type": "markdown",
      "metadata": {
        "id": "9z9yr5QkeyJF"
      },
      "source": [
        "### Test 4  time test  measure the execution time running with the the largest worst cases input11.txt  (200000 increasing numbers) and inoput12.txt (199998 increasing numbers and  200000, 200000 at the end)"
      ]
    },
    {
      "cell_type": "code",
      "execution_count": null,
      "metadata": {
        "colab": {
          "base_uri": "https://localhost:8080/"
        },
        "id": "UmB1ipWM_nSk",
        "outputId": "79ea470e-69c0-45cc-d589-370f23b9c09f"
      },
      "outputs": [
        {
          "output_type": "stream",
          "name": "stdout",
          "text": [
            "Overwriting WriteTest.cpp\n"
          ]
        }
      ],
      "source": [
        "# input11.txt 200000 increasing numbers:  1 2 .. 200000\n",
        "\n",
        "%%writefile WriteTest.cpp\n",
        "\n",
        "#include <iostream>\n",
        "#include <fstream>\n",
        "#include <cstdlib>\n",
        "\n",
        "using namespace std;\n",
        "\n",
        "int main() {\n",
        "  // Create and open a text file\n",
        "  ofstream MyFile(\"input11.txt\");\n",
        "\n",
        " MyFile << 200000 <<\"\\n\";  // n\n",
        " for (int i=1; i <200001; i++){\n",
        "     MyFile << i <<\" \";\n",
        " }\n",
        "\n",
        "  // Close the file\n",
        "  MyFile.close();\n",
        "}"
      ]
    },
    {
      "cell_type": "code",
      "execution_count": null,
      "metadata": {
        "id": "EH25TkOkZfD9"
      },
      "outputs": [],
      "source": [
        "!g++ WriteTest.cpp -o WriteTest\n",
        "!./WriteTest"
      ]
    },
    {
      "cell_type": "code",
      "execution_count": null,
      "metadata": {
        "colab": {
          "base_uri": "https://localhost:8080/"
        },
        "id": "j0mokSOnCCtZ",
        "outputId": "6de4af7e-5017-44bc-fc7e-73c9fa60ec5c"
      },
      "outputs": [
        {
          "output_type": "execute_result",
          "data": {
            "text/plain": [
              "39999800000"
            ]
          },
          "metadata": {},
          "execution_count": 138
        }
      ],
      "source": [
        "199999 * 200000"
      ]
    },
    {
      "cell_type": "code",
      "execution_count": null,
      "metadata": {
        "colab": {
          "base_uri": "https://localhost:8080/"
        },
        "id": "VoDhDV73B5Mo",
        "outputId": "a2bb0f0f-8d58-4e6f-e42b-077634e177f4"
      },
      "outputs": [
        {
          "output_type": "stream",
          "name": "stdout",
          "text": [
            "Overwriting output11.txt\n"
          ]
        }
      ],
      "source": [
        "%%writefile output11.txt\n",
        "39999800000"
      ]
    },
    {
      "cell_type": "code",
      "execution_count": null,
      "metadata": {
        "colab": {
          "base_uri": "https://localhost:8080/"
        },
        "id": "oLiMjbAIfPlX",
        "outputId": "7ce6c209-8a4e-47f6-dbe6-89f328ef57f0"
      },
      "outputs": [
        {
          "output_type": "stream",
          "name": "stdout",
          "text": [
            "Overwriting WriteTest.cpp\n"
          ]
        }
      ],
      "source": [
        "# input12.txt 200000 decreasing numbers and 200000, 199999 ...  2 1\n",
        "\n",
        "%%writefile WriteTest.cpp\n",
        "\n",
        "#include <iostream>\n",
        "#include <fstream>\n",
        "#include <cstdlib>\n",
        "\n",
        "using namespace std;\n",
        "\n",
        "int main() {\n",
        "  // Create and open a text file\n",
        "  ofstream MyFile(\"input12.txt\");\n",
        "\n",
        " MyFile << 200000 <<\"\\n\";  // n\n",
        " for (int i=1; i <200001; i++){\n",
        "     MyFile << 200001-i <<\" \";\n",
        " }\n",
        "\n",
        "  // Close the file\n",
        "  MyFile.close();\n",
        "}"
      ]
    },
    {
      "cell_type": "code",
      "execution_count": null,
      "metadata": {
        "id": "oULNBr_zAd9c"
      },
      "outputs": [],
      "source": [
        "!g++ WriteTest.cpp -o WriteTest\n",
        "!./WriteTest"
      ]
    },
    {
      "cell_type": "code",
      "execution_count": null,
      "metadata": {
        "colab": {
          "base_uri": "https://localhost:8080/"
        },
        "id": "PQLyocaFB-y4",
        "outputId": "dafe6e14-0556-4e39-8fe5-742bb2be0b1a"
      },
      "outputs": [
        {
          "output_type": "stream",
          "name": "stdout",
          "text": [
            "Overwriting output12.txt\n"
          ]
        }
      ],
      "source": [
        "%%writefile output12.txt\n",
        "39999800000"
      ]
    },
    {
      "cell_type": "markdown",
      "metadata": {
        "id": "JB6f03qO-lj9"
      },
      "source": [
        "Measure time\n",
        "\n",
        "https://askubuntu.com/questions/53444/how-can-i-measure-the-execution-time-of-a-terminal-process"
      ]
    },
    {
      "cell_type": "code",
      "execution_count": null,
      "metadata": {
        "colab": {
          "base_uri": "https://localhost:8080/"
        },
        "id": "6p2QLEr576zk",
        "outputId": "47705f80-8280-4ba1-9173-039d4754a297"
      },
      "outputs": [
        {
          "output_type": "stream",
          "name": "stdout",
          "text": [
            "39999800000\n",
            "\n",
            "real\t4m59.428s\n",
            "user\t4m56.745s\n",
            "sys\t0m0.129s\n"
          ]
        }
      ],
      "source": [
        "!g++ max_pairwise_product_long_full.cpp -o max_pairwise_product_long_full\n",
        "!time ./max_pairwise_product_long_full< input11.txt"
      ]
    },
    {
      "cell_type": "code",
      "execution_count": null,
      "metadata": {
        "colab": {
          "base_uri": "https://localhost:8080/"
        },
        "id": "cnjCyeUdAnZj",
        "outputId": "85022d89-60aa-4a20-a1b6-fe6892b4588e"
      },
      "outputs": [
        {
          "output_type": "stream",
          "name": "stdout",
          "text": [
            "39999800000\n",
            "\n",
            "real\t4m58.522s\n",
            "user\t4m55.949s\n",
            "sys\t0m0.081s\n"
          ]
        }
      ],
      "source": [
        "!g++ max_pairwise_product_long_full.cpp -o max_pairwise_product_long_full\n",
        "!time ./max_pairwise_product_long_full< input12.txt"
      ]
    },
    {
      "cell_type": "markdown",
      "metadata": {
        "id": "FXClpBsUJuXC"
      },
      "source": [
        "##### Calculate the number or and upper bound to the number of instructions executed by the algorithm as a function of n, add in each line a comment with the number of instructions that are executed in that line."
      ]
    },
    {
      "cell_type": "code",
      "execution_count": null,
      "metadata": {
        "colab": {
          "base_uri": "https://localhost:8080/"
        },
        "id": "uG6Mv-Pwlkii",
        "outputId": "ff9f534b-7a65-4956-cce1-e57f83993d27"
      },
      "outputs": [
        {
          "output_type": "stream",
          "name": "stdout",
          "text": [
            "Overwriting max_pairwise_product_long_full.cpp\n"
          ]
        }
      ],
      "source": [
        "%%writefile max_pairwise_product_long_full.cpp\n",
        "#include <iostream>\n",
        "#include <vector>\n",
        "#include <algorithm>\n",
        "\n",
        "long long MaxPairwiseProduct(const std::vector<int>& numbers) {              //N inst exec by line executed\n",
        "    long long max_product = 0LL;                                             //1\n",
        "\t  long long aux_product = 0LL;                                             //1\n",
        "    int n = numbers.size();                                                  //1\n",
        "\n",
        "    for (int first = 0; first < n; ++first) {                                //1+2n\n",
        "        for (int second = 0; second < n; ++second) {                         //n + 2n**2\n",
        "          if ( first != second ){                                            //n**2\n",
        "                aux_product = numbers[first] * numbers[second];              //n**2 -n\n",
        "                if (aux_product > max_product)                               //n**2 -n\n",
        "                    max_product = aux_product;                               //[1, n**2/2 - n/2] upper bound\n",
        "          }\n",
        "        }\n",
        "    }\n",
        "\n",
        "                                                                             // --------------\n",
        "    return max_product;                                                      // 4 + n + [5*n**2+1, 11*n**2/2  - n/2]  upper bound\n",
        "}\n",
        "\n",
        "int main() {                                              //N inst exec by line executed\n",
        "    int n;                                                //1\n",
        "    std::cin >> n;                                        //1\n",
        "    std::vector<int> numbers(n);                          //n\n",
        "    for (int i = 0; i < n; ++i) {                         //1 + 2n\n",
        "        std::cin >> numbers[i];                           //n\n",
        "    }\n",
        "\n",
        "    std::cout << MaxPairwiseProduct(numbers) << \"\\n\";     //1 + 1  + 4 + n + [5*n**2+1, 11*n**2/2  - n/2]\n",
        "\n",
        "    return 0;                                             // --------------\n",
        "}                                                         //  9 + 5*n + [5*n**2+1, 11*n**2/2  - n/2]  upper bound\n"
      ]
    },
    {
      "cell_type": "markdown",
      "metadata": {
        "id": "0vTsUg8OwcHs"
      },
      "source": [
        "Count executed intructions in code"
      ]
    },
    {
      "cell_type": "code",
      "execution_count": null,
      "metadata": {
        "colab": {
          "base_uri": "https://localhost:8080/"
        },
        "id": "CuRKkqQc137V",
        "outputId": "9774e0bf-a14f-4afa-d1d8-199b96367b89"
      },
      "outputs": [
        {
          "output_type": "stream",
          "name": "stdout",
          "text": [
            "Overwriting max_pairwise_product_long_full_execints.cpp\n"
          ]
        }
      ],
      "source": [
        "%%writefile max_pairwise_product_long_full_execints.cpp\n",
        "#include <iostream>\n",
        "#include <vector>\n",
        "#include <algorithm>\n",
        "\n",
        "long long MaxPairwiseProduct(const std::vector<int>& numbers, long long &execints) {              //N inst exec by line executed\n",
        "\n",
        "    long long max_product = 0LL;                                             //1\n",
        "    execints++;\n",
        "\n",
        "\t  long long aux_product = 0LL;                                             //1\n",
        "    execints++;\n",
        "\n",
        "    int n = numbers.size();                                                  //1\n",
        "    execints++;\n",
        "\n",
        "    execints++;\n",
        "    for (int first = 0; first < n; ++first) {                                //1+2n\n",
        "        execints += 2;\n",
        "\n",
        "        execints++;\n",
        "        for (int second = 0; second < n; ++second) {                         //n + 2n**2\n",
        "          execints += 2;\n",
        "\n",
        "          execints++;\n",
        "          if ( first != second ){                                            //n**2\n",
        "                aux_product = numbers[first] * numbers[second];              //n**2 -n\n",
        "                execints++;\n",
        "\n",
        "                execints++;\n",
        "                if (aux_product > max_product){                               //n**2 -n\n",
        "                    max_product = aux_product;                               //[1,n**2/2 - n/2]  upper bound\n",
        "                    execints++;\n",
        "\n",
        "                }\n",
        "        }\n",
        "      }\n",
        "    }\n",
        "                                                                            // --------------\n",
        "    return max_product;                                                     // 4 + n + [5*n**2+1, 11*n**2/2  - n/2] upper bound\n",
        "}\n",
        "\n",
        "int main() {                                                 //N inst exec by line executed\n",
        "\n",
        "    long long execints =0LL;\n",
        "\n",
        "    int n;                                                   //1\n",
        "    execints++;\n",
        "\n",
        "    std::cin >> n;                                           //1\n",
        "    execints++;\n",
        "\n",
        "    std::vector<int> numbers(n);                             //n\n",
        "    execints += n;\n",
        "\n",
        "    execints++;\n",
        "    for (int i = 0; i < n; ++i) {                            //1 + 2n\n",
        "        execints += 2;\n",
        "\n",
        "        std::cin >> numbers[i];\n",
        "        execints++;                                          //n\n",
        "\n",
        "    }\n",
        "\n",
        "\n",
        "\n",
        "    //std::cout << MaxPairwiseProduct(numbers) << \"\\n\";      //1 + 1  + 4 + n + [5*n**2+1, 11*n**2/2  - n/2] upper bound\n",
        "\n",
        "\n",
        "    execints++;\n",
        "    int M = MaxPairwiseProduct(numbers,execints);\n",
        "\n",
        "    execints++;\n",
        "    std::cout <<  execints << \"\\n\";\n",
        "    return 0;                                                // --------------\n",
        "}                                                            // 9 + 5*n + [5*n**2+1, 11*n**2/2  - n/2]"
      ]
    },
    {
      "cell_type": "markdown",
      "metadata": {
        "id": "cUjHtvtdDsmr"
      },
      "source": [
        "The number of instructions executed by the algooirithm with a list of size $n$ is  \n",
        "\n",
        "$$T (n) = 9 + 5n + \\left[5n^2+1, 11\\frac{n^2}{2}  - \\frac{n}{2}\\right] \\ \\  \\text{upper bound}$$\n",
        "\n",
        "It depends on the size of the lists and  the order of the list.\n",
        "\n",
        "For the input1.txt\n",
        "```\n",
        "10\n",
        "1 2 3 4 5 6 7 8 9 10\n",
        "```\n",
        "$$T = 9 + 5(10) + 5(10)(10) +  9 + 5 + 4 + 3 + 2 + 2 + 2 + 2 + 1 + 0  = 589 $$\n",
        "\n",
        "$$T(10) \\in [560, 604]  $$\n"
      ]
    },
    {
      "cell_type": "markdown",
      "source": [
        "#The number of times that  max_product = aux_product; in the worst case is less than (n**2 -n)/2 -  upper bound\n",
        "\n",
        "  1  2  3  4  5  6  7  8  9  10\n",
        "1  x  2  3  4  5  6  7  8  9  10         9\n",
        "2  2  x  6  8  10 12 14 16 18 20         5 14\n",
        "3  3  6  x  12 15 18 21 24 27 30         4 18\n",
        "4  4  8  12 x  20 24 28 32 36 40         3 21\n",
        "5  5  10 15 20 x  30 35 40 45 50         2 23\n",
        "6  6  12 18 24 30 x  42 48 54 60         2 25\n",
        "7  7  14 21 28 35 42 x  56 63 70         2 27\n",
        "8  8  18 27 36 45 54 63 72 x  90         1 30\n",
        "10 10 20 30 40 50 60 70 60 90 x          0"
      ],
      "metadata": {
        "id": "HgXFWweZXm2P"
      }
    },
    {
      "cell_type": "code",
      "execution_count": null,
      "metadata": {
        "colab": {
          "base_uri": "https://localhost:8080/"
        },
        "id": "E3O8dzFfEgir",
        "outputId": "ff291869-9619-4a71-a6a9-5a0705cddf95"
      },
      "outputs": [
        {
          "output_type": "execute_result",
          "data": {
            "text/plain": [
              "589"
            ]
          },
          "metadata": {},
          "execution_count": 147
        }
      ],
      "source": [
        "9 + 5*(10) + 5*(10)*(10) +  9 + 5 + 4 + 3 + 2 + 2 + 2 + 2 + 1 + 0"
      ]
    },
    {
      "cell_type": "code",
      "execution_count": null,
      "metadata": {
        "colab": {
          "base_uri": "https://localhost:8080/"
        },
        "id": "TCpdl5u_Gq1a",
        "outputId": "7ba1c30b-06de-4b17-e3fc-9a0a8d1afe11"
      },
      "outputs": [
        {
          "output_type": "stream",
          "name": "stdout",
          "text": [
            "560 604.0\n"
          ]
        }
      ],
      "source": [
        "n = 10\n",
        "print( 9 + 5*n + 5*n**2+1,  9 + 5*n + 11*n**2/2  - n/2)"
      ]
    },
    {
      "cell_type": "code",
      "execution_count": null,
      "metadata": {
        "colab": {
          "base_uri": "https://localhost:8080/"
        },
        "id": "Kuvm1C05ly2a",
        "outputId": "08209f0f-c74a-4050-c274-12ec80da193b"
      },
      "outputs": [
        {
          "output_type": "stream",
          "name": "stdout",
          "text": [
            "589\n"
          ]
        }
      ],
      "source": [
        "!g++ max_pairwise_product_long_full_execints.cpp -o max_pairwise_product_long_full_execints\n",
        "!./max_pairwise_product_long_full_execints < input1.txt"
      ]
    },
    {
      "cell_type": "markdown",
      "metadata": {
        "id": "Yr_Lb7CaHfxB"
      },
      "source": [
        "\n",
        "For the input2.txt\n",
        "```\n",
        "10\n",
        "10 9 8 7 6 5 4 3 2 1\n",
        "```\n",
        "$$T = 9 + 5*(10) + 5*(10)**2 +  1  = 560 $$"
      ]
    },
    {
      "cell_type": "code",
      "execution_count": null,
      "metadata": {
        "colab": {
          "base_uri": "https://localhost:8080/"
        },
        "id": "HOdqlwJiZUIp",
        "outputId": "9080a28e-2ede-49f4-e316-d6e9db0dfc88"
      },
      "outputs": [
        {
          "output_type": "execute_result",
          "data": {
            "text/plain": [
              "560"
            ]
          },
          "metadata": {},
          "execution_count": 150
        }
      ],
      "source": [
        "9 + 5*(10) + 5*(10)**2 +  1"
      ]
    },
    {
      "cell_type": "code",
      "execution_count": null,
      "metadata": {
        "colab": {
          "base_uri": "https://localhost:8080/"
        },
        "id": "_znzLectjFSe",
        "outputId": "2e4d104a-7409-4651-81b8-610e0b309739"
      },
      "outputs": [
        {
          "output_type": "stream",
          "name": "stdout",
          "text": [
            "296\n"
          ]
        }
      ],
      "source": [
        "!g++ max_pairwise_product_long_full_execints.cpp -o max_pairwise_product_long_full_execints\n",
        "!./max_pairwise_product_long_full_execints < input4.txt\n",
        "n= 10"
      ]
    },
    {
      "cell_type": "markdown",
      "metadata": {
        "id": "L_uaamxeAHK7"
      },
      "source": [
        "\n",
        "For the input12.txt\n",
        "```\n",
        "200000\n",
        "200000  199999 ... 2 1\n",
        "```\n",
        "$$T = 9 + 5*(200000) + 5*(200000)**2 +1  = 200001000010 $$\n",
        "\n"
      ]
    },
    {
      "cell_type": "code",
      "execution_count": null,
      "metadata": {
        "colab": {
          "base_uri": "https://localhost:8080/"
        },
        "id": "c7X-ewmeXe-h",
        "outputId": "50f3e605-f53a-4ca0-9e38-ed2262906279"
      },
      "outputs": [
        {
          "output_type": "execute_result",
          "data": {
            "text/plain": [
              "200001000010"
            ]
          },
          "metadata": {},
          "execution_count": 152
        }
      ],
      "source": [
        "9 + 5*(200000) + 5*(200000)**2 +1"
      ]
    },
    {
      "cell_type": "markdown",
      "metadata": {
        "id": "NXW7QkoBL6xH"
      },
      "source": [
        "Calculate estimated time by instruction and number of instructions by second"
      ]
    },
    {
      "cell_type": "code",
      "execution_count": null,
      "metadata": {
        "colab": {
          "base_uri": "https://localhost:8080/"
        },
        "id": "BMH8mF3EKn2w",
        "outputId": "f210cdd2-7979-4606-bae1-0b1e8b437e87"
      },
      "outputs": [
        {
          "output_type": "stream",
          "name": "stdout",
          "text": [
            "200001000021\n",
            "\n",
            "real\t7m49.537s\n",
            "user\t7m44.469s\n",
            "sys\t0m0.139s\n"
          ]
        }
      ],
      "source": [
        "!g++ max_pairwise_product_long_full_execints.cpp -o max_pairwise_product_long_full_execints\n",
        "!time ./max_pairwise_product_long_full_execints < input12.txt\n"
      ]
    },
    {
      "cell_type": "code",
      "execution_count": null,
      "metadata": {
        "colab": {
          "base_uri": "https://localhost:8080/"
        },
        "id": "pKqB3i7dIxnc",
        "outputId": "591ea1c9-eac1-4bab-bf0e-9169d140e90b"
      },
      "outputs": [
        {
          "output_type": "execute_result",
          "data": {
            "text/plain": [
              "1.5299923499617505e-09"
            ]
          },
          "metadata": {},
          "execution_count": 154
        }
      ],
      "source": [
        "# Estimated time by instruction\n",
        "\n",
        "306/200001000010\n"
      ]
    },
    {
      "cell_type": "code",
      "execution_count": null,
      "metadata": {
        "colab": {
          "base_uri": "https://localhost:8080/"
        },
        "id": "18N1ouqeMhE1",
        "outputId": "9d140b00-d659-4e1f-a6c1-0cd6c367d6db"
      },
      "outputs": [
        {
          "output_type": "execute_result",
          "data": {
            "text/plain": [
              "1.5299923499617505e-09"
            ]
          },
          "metadata": {},
          "execution_count": 155
        }
      ],
      "source": [
        "# Estimated number of instructions by second\n",
        "\n",
        "306/200001000010"
      ]
    },
    {
      "cell_type": "markdown",
      "metadata": {
        "id": "KyuxejFkL5X_"
      },
      "source": [
        "# Estimate the maximun n that can be solved in 1 second\n",
        "\n",
        "$$5n^2 \\times 1.53*10^{-9} s = 1s$$\n",
        "\n",
        "$$ n \\approx 11000$$\n"
      ]
    },
    {
      "cell_type": "code",
      "execution_count": null,
      "metadata": {
        "colab": {
          "base_uri": "https://localhost:8080/"
        },
        "id": "WXu5jp-DLTOI",
        "outputId": "de39327d-1468-48d1-acb2-176f0213b46d"
      },
      "outputs": [
        {
          "output_type": "stream",
          "name": "stdout",
          "text": [
            "Overwriting WriteTest.cpp\n"
          ]
        }
      ],
      "source": [
        "# Verify input13.txt\n",
        "%%writefile WriteTest.cpp\n",
        "\n",
        "#include <iostream>\n",
        "#include <fstream>\n",
        "#include <cstdlib>\n",
        "\n",
        "using namespace std;\n",
        "\n",
        "int main() {\n",
        "  // Create and open a text file\n",
        "  ofstream MyFile(\"input13.txt\");\n",
        "\n",
        " MyFile << 11000 <<\"\\n\";  // n\n",
        " for (int i=1; i <11001; i++){\n",
        "     MyFile << i <<\" \";\n",
        " }\n",
        "\n",
        "  // Close the file\n",
        "  MyFile.close();\n",
        "}"
      ]
    },
    {
      "cell_type": "code",
      "execution_count": null,
      "metadata": {
        "id": "AQ8N52pUMCeT"
      },
      "outputs": [],
      "source": [
        "!g++ WriteTest.cpp -o WriteTest\n",
        "!./WriteTest"
      ]
    },
    {
      "cell_type": "code",
      "execution_count": null,
      "metadata": {
        "colab": {
          "base_uri": "https://localhost:8080/"
        },
        "id": "ussuAokfM2du",
        "outputId": "e1827a6c-a6d2-4f03-f237-9bb320fcf8f7"
      },
      "outputs": [
        {
          "output_type": "stream",
          "name": "stdout",
          "text": [
            "120989000\n",
            "\n",
            "real\t0m0.874s\n",
            "user\t0m0.857s\n",
            "sys\t0m0.006s\n"
          ]
        }
      ],
      "source": [
        "!g++ max_pairwise_product_long_full.cpp -o max_pairwise_product_long_full\n",
        "!time ./max_pairwise_product_long_full< input13.txt"
      ]
    },
    {
      "cell_type": "markdown",
      "metadata": {
        "id": "Tm_AVmt-QQH4"
      },
      "source": [
        "## Python"
      ]
    },
    {
      "cell_type": "code",
      "execution_count": null,
      "metadata": {
        "colab": {
          "base_uri": "https://localhost:8080/"
        },
        "id": "gRCCcd7IQTKZ",
        "outputId": "34172f65-e88a-4f0c-cd3e-1bfa25aad57b"
      },
      "outputs": [
        {
          "output_type": "stream",
          "name": "stdout",
          "text": [
            "Writing MaxPairwiseProduct.py\n"
          ]
        }
      ],
      "source": [
        "%%writefile MaxPairwiseProduct.py\n",
        "def MaxPairwiseProduct(numbers):\n",
        "    execints = 0  # N inst exec by line executed\n",
        "\n",
        "    max_product = 0  # 1\n",
        "    execints += 1\n",
        "\n",
        "    aux_product = 0  # 1\n",
        "    execints += 1\n",
        "\n",
        "    n = len(numbers)  # 1\n",
        "    execints += 1\n",
        "\n",
        "    execints += 1\n",
        "    for first in range(n):  # 1+2n\n",
        "        execints += 2\n",
        "\n",
        "        execints += 1\n",
        "        for second in range(n):  # n + 2n**2\n",
        "            execints += 2\n",
        "\n",
        "            execints += 1\n",
        "            if first != second:  # n**2\n",
        "                aux_product = numbers[first] * numbers[second]  # n**2 - n\n",
        "                execints += 1\n",
        "\n",
        "                execints += 1\n",
        "                if aux_product > max_product:  # n**2 - n\n",
        "                    max_product = aux_product  # [1, n**2/2 - n/2] upper bound\n",
        "                    execints += 1\n",
        "\n",
        "    return max_product, execints  # 4 + n + [5*n**2+1, 11*n**2/2 - n/2] upper bound\n",
        "\n",
        "def main_function():\n",
        "    execints = 0  # N inst exec by line executed\n",
        "\n",
        "    n = int(input())  # 1\n",
        "    execints += 1\n",
        "\n",
        "    numbers = list(map(int, input().split()))  # n\n",
        "    execints += n\n",
        "\n",
        "    execints += 1\n",
        "\n",
        "    execints += 1\n",
        "    max_product, execints_returned = MaxPairwiseProduct(numbers)  # 1 + 1 + 4 + n + [5*n**2+1, 11*n**2/2 - n/2] upper bound\n",
        "    execints += execints_returned\n",
        "\n",
        "    execints += 1\n",
        "    #print(execints)   9 + 5*n + [5*n**2+1, 11*n**2/2 - n/2]\n",
        "    print(max_product)\n",
        "\n",
        "if __name__ == '__main__':\n",
        "    main_function()"
      ]
    },
    {
      "cell_type": "code",
      "execution_count": null,
      "metadata": {
        "colab": {
          "base_uri": "https://localhost:8080/"
        },
        "id": "kAEAoNZEQTCw",
        "outputId": "7e504cda-0a2a-4379-eed3-871925167c93"
      },
      "outputs": [
        {
          "output_type": "stream",
          "name": "stdout",
          "text": [
            "120989000\n",
            "\n",
            "real\t0m45.259s\n",
            "user\t0m44.632s\n",
            "sys\t0m0.030s\n"
          ]
        }
      ],
      "source": [
        "!time python MaxPairwiseProduct.py < input13.txt"
      ]
    },
    {
      "cell_type": "code",
      "execution_count": null,
      "metadata": {
        "id": "hjw7TJrDL0d-"
      },
      "outputs": [],
      "source": [
        "# Verify\n",
        "# Test\n",
        "!python MaxPairwiseProduct.py < input1.txt > output1.txt\n",
        "!python MaxPairwiseProduct.py < input2.txt > output2.txt\n",
        "!python MaxPairwiseProduct.py < input4.txt > output4.txt"
      ]
    },
    {
      "cell_type": "code",
      "execution_count": null,
      "metadata": {
        "colab": {
          "base_uri": "https://localhost:8080/"
        },
        "id": "eXzIBh0uhqRh",
        "outputId": "b09b8077-9f55-45cd-fe78-dd205c172d94"
      },
      "outputs": [
        {
          "output_type": "stream",
          "name": "stdout",
          "text": [
            "Writing MaxPairwiseProductWithDetails.py\n"
          ]
        }
      ],
      "source": [
        "%%writefile MaxPairwiseProductWithDetails.py\n",
        "def MaxPairwiseProduct(numbers):\n",
        "    execints = 0  # N inst exec by line executed\n",
        "\n",
        "    max_product = 0  # 1\n",
        "    execints += 1\n",
        "\n",
        "    aux_product = 0  # 1\n",
        "    execints += 1\n",
        "\n",
        "    n = len(numbers)  # 1\n",
        "    execints += 1\n",
        "\n",
        "    execints += 1\n",
        "    for first in range(n):  # 1+2n\n",
        "        execints += 2\n",
        "\n",
        "        execints += 1\n",
        "        for second in range(n):  # n + 2n**2\n",
        "            execints += 2\n",
        "\n",
        "            execints += 1\n",
        "            if first != second:  # n**2\n",
        "                aux_product = numbers[first] * numbers[second]  # n**2 - n\n",
        "                execints += 1\n",
        "\n",
        "                execints += 1\n",
        "                if aux_product > max_product:  # n**2 - n\n",
        "                    max_product = aux_product  # [1, n**2/2 - n/2] upper bound\n",
        "                    execints += 1\n",
        "\n",
        "    return max_product, execints  # 4 + n + [5*n**2+1, 11*n**2/2 - n/2] upper bound\n",
        "\n",
        "def main_function():\n",
        "    execints = 0  # N inst exec by line executed\n",
        "\n",
        "    n = int(input())  # 1\n",
        "    execints += 1\n",
        "\n",
        "    numbers = list(map(int, input().split()))  # n\n",
        "    execints += n\n",
        "\n",
        "    execints += 1\n",
        "\n",
        "    execints += 1\n",
        "    max_product, execints_returned = MaxPairwiseProduct(numbers)  # 1 + 1 + 4 + n + [5*n**2+1, 11*n**2/2 - n/2] upper bound\n",
        "    execints += execints_returned\n",
        "\n",
        "    execints += 1\n",
        "    print(\"Instructions\",execints) #  9 + 5*n + [5*n**2+1, 11*n**2/2 - n/2]\n",
        "    print(max_product)\n",
        "\n",
        "if __name__ == '__main__':\n",
        "    main_function()"
      ]
    },
    {
      "cell_type": "code",
      "execution_count": null,
      "metadata": {
        "colab": {
          "base_uri": "https://localhost:8080/"
        },
        "id": "mo5PIb3viBV5",
        "outputId": "7ca967b8-f9dd-43ec-c5cd-df012eebbd06"
      },
      "outputs": [
        {
          "output_type": "stream",
          "name": "stdout",
          "text": [
            "Instructions 605137049\n",
            "120989000\n",
            "\n",
            "real\t0m43.435s\n",
            "user\t0m42.978s\n",
            "sys\t0m0.024s\n"
          ]
        }
      ],
      "source": [
        "!time python MaxPairwiseProductWithDetails.py < input13.txt"
      ]
    },
    {
      "cell_type": "code",
      "execution_count": null,
      "metadata": {
        "colab": {
          "base_uri": "https://localhost:8080/"
        },
        "id": "MxtOf89niLvj",
        "outputId": "ec63e27d-244f-4b15-c516-890251e122c7"
      },
      "outputs": [
        {
          "output_type": "stream",
          "name": "stdout",
          "text": [
            "python 7.428565161278037e-08\n",
            "c++ 1.5299923499617505e-09\n"
          ]
        }
      ],
      "source": [
        "instructions_per_second=44.953/605137049\n",
        "print('python',instructions_per_second)\n",
        "instructions_per_second_c=306/200001000010\n",
        "print('c++',instructions_per_second_c)\n"
      ]
    },
    {
      "cell_type": "markdown",
      "metadata": {
        "id": "MKQKSC-vKePK"
      },
      "source": [
        "## Perform the same analysis for an algorithm in C++ and Python that uses\n",
        "$$\\frac{n^2 - n}{2} = O(n^2)\\ \\ \\text{products}$$"
      ]
    },
    {
      "cell_type": "code",
      "execution_count": null,
      "metadata": {
        "colab": {
          "base_uri": "https://localhost:8080/"
        },
        "id": "jkkHHoxSK65p",
        "outputId": "b4245395-f42b-4a5d-e43f-7d4dc983946d"
      },
      "outputs": [
        {
          "output_type": "stream",
          "name": "stdout",
          "text": [
            "Writing max_pairwise_product.cpp\n"
          ]
        }
      ],
      "source": [
        "%%writefile max_pairwise_product.cpp\n",
        "#include <iostream>\n",
        "#include <vector>\n",
        "#include <algorithm>\n",
        "\n",
        "int MaxPairwiseProduct(const std::vector<int>& numbers) {\n",
        "    int max_product = 0;\n",
        "    int n = numbers.size();\n",
        "\n",
        "    for (int first = 0; first < n; ++first) {\n",
        "        for (int second = first + 1; second < n; ++second) {\n",
        "            max_product = std::max(max_product,\n",
        "                numbers[first] * numbers[second]);\n",
        "        }\n",
        "    }\n",
        "\n",
        "    return max_product;\n",
        "}\n",
        "\n",
        "int main() {\n",
        "    int n;\n",
        "    std::cin >> n;\n",
        "    std::vector<int> numbers(n);\n",
        "    for (int i = 0; i < n; ++i) {\n",
        "        std::cin >> numbers[i];\n",
        "    }\n",
        "\n",
        "    std::cout << MaxPairwiseProduct(numbers) << \"\\n\";\n",
        "    return 0;\n",
        "}"
      ]
    },
    {
      "cell_type": "code",
      "execution_count": null,
      "metadata": {
        "colab": {
          "base_uri": "https://localhost:8080/"
        },
        "id": "sU8-Ote7K8vz",
        "outputId": "d13d810e-2432-4c6f-c61e-8e7e5d9eb251"
      },
      "outputs": [
        {
          "output_type": "stream",
          "name": "stdout",
          "text": [
            "Writing max_pairwise_product_long.cpp\n"
          ]
        }
      ],
      "source": [
        "%%writefile max_pairwise_product_long.cpp\n",
        "#include <iostream>\n",
        "#include <vector>\n",
        "#include <algorithm>\n",
        "\n",
        "long long MaxPairwiseProduct(const std::vector<int>& numbers) {              //N inst exec by line executed\n",
        "    long long max_product = 0LL;                                             //1\n",
        "\t  long long aux_product = 0LL;                                             //1\n",
        "    int n = numbers.size();                                                  //1\n",
        "\n",
        "    for (int first = 0; first < n; ++first) {                                //1+2n\n",
        "        for (int second = first + 1; second < n; ++second) {                 //n + (n-1)n\n",
        "\t\t\t       aux_product =  (long long) numbers[first] * numbers[second];    //(n-1)n/2\n",
        "            if (max_product < aux_product)  {                                //(n-1)n/2\n",
        "\t\t\t\t        max_product = aux_product;                                   //[0, (n-1)n/2]\n",
        "             }\n",
        "        }\n",
        "    }\n",
        "                                                                             // --------------\n",
        "    return max_product;                                                      // 4 + 3n + [2(n-1)n, 2.5 (n-1)n] upper bound\n",
        "}\n",
        "\n",
        "int main() {                                              //N inst exec by line executed\n",
        "    int n;                                                //1\n",
        "    std::cin >> n;                                        //1\n",
        "    std::vector<int> numbers(n);                          //n\n",
        "    for (int i = 0; i < n; ++i) {                         //1 + 2n\n",
        "        std::cin >> numbers[i];                           //n\n",
        "    }\n",
        "\n",
        "    std::cout << MaxPairwiseProduct(numbers) << \"\\n\";     //1 + 1  + 4 + 3n + [2(n-1)n, 2.5 (n-1)n]\n",
        "    return 0;                                             // --------------\n",
        "}                                                         // 9 + 7n + [2(n-1)n, 2.5 (n-1)n] upper bound\n"
      ]
    },
    {
      "cell_type": "code",
      "execution_count": null,
      "metadata": {
        "colab": {
          "base_uri": "https://localhost:8080/"
        },
        "id": "woE73MHjvYS7",
        "outputId": "aefb0dd7-0205-47dd-a462-32ec56d1406c"
      },
      "outputs": [
        {
          "output_type": "stream",
          "name": "stdout",
          "text": [
            "Writing max_pairwise_product_long_details.cpp\n"
          ]
        }
      ],
      "source": [
        "%%writefile max_pairwise_product_long_details.cpp\n",
        "#include <iostream>\n",
        "#include <vector>\n",
        "#include <algorithm>\n",
        "#include <chrono>\n",
        "\n",
        "long long MaxPairwiseProduct(const std::vector<int>& numbers, long long &execInstruction) {\n",
        "    long long max_product = 0LL;\n",
        "    long long aux_product = 0LL;\n",
        "    int n = numbers.size();\n",
        "    execInstruction += 4;\n",
        "\n",
        "    for (int first = 0; first < n; ++first) {\n",
        "        execInstruction += 2;\n",
        "        for (int second = first + 1; second < n; ++second) {\n",
        "            execInstruction += 3;\n",
        "            aux_product = (long long) numbers[first] * numbers[second];\n",
        "            if (max_product < aux_product)  {\n",
        "                execInstruction++;\n",
        "                max_product = aux_product;\n",
        "            }\n",
        "        }\n",
        "    }\n",
        "\n",
        "    return max_product;\n",
        "}\n",
        "\n",
        "int main() {\n",
        "    long long execInstruction = 0;\n",
        "    int n;\n",
        "    std::cin >> n;\n",
        "    execInstruction++;\n",
        "    std::vector<int> numbers(n);\n",
        "    execInstruction += n;\n",
        "\n",
        "    for (int i = 0; i < n; ++i) {\n",
        "        execInstruction += 2;\n",
        "        std::cin >> numbers[i];\n",
        "        execInstruction++;\n",
        "    }\n",
        "\n",
        "    auto start = std::chrono::high_resolution_clock::now();\n",
        "    long long result = MaxPairwiseProduct(numbers, execInstruction);\n",
        "    auto stop = std::chrono::high_resolution_clock::now();\n",
        "    auto duration = std::chrono::duration_cast<std::chrono::microseconds>(stop - start).count();\n",
        "\n",
        "    std::cout << result << \"\\n\";\n",
        "    std::cout << \"Time taken by function: \" << duration << \" microseconds\" << std::endl;\n",
        "    std::cout << \"Approximate executed instructions: \" << execInstruction << std::endl;\n",
        "    std::cout << \"Time per instruction: \" << (double)duration / execInstruction << \" microseconds\" << std::endl;\n",
        "\n",
        "    return 0;\n",
        "}\n"
      ]
    },
    {
      "cell_type": "markdown",
      "metadata": {
        "id": "BaCPXVFcp01t"
      },
      "source": [
        "Python Code"
      ]
    },
    {
      "cell_type": "code",
      "execution_count": null,
      "metadata": {
        "id": "5QWT3fneK8nw",
        "colab": {
          "base_uri": "https://localhost:8080/"
        },
        "outputId": "b6951177-96a7-4239-fb68-de6ffe95922f"
      },
      "outputs": [
        {
          "output_type": "stream",
          "name": "stdout",
          "text": [
            "Writing max_pairwise_product_long_details.py\n"
          ]
        }
      ],
      "source": [
        "%%writefile max_pairwise_product_long_details.py\n",
        "import time\n",
        "\n",
        "def max_pairwise_product(numbers):\n",
        "    max_product = 0\n",
        "    n = len(numbers)\n",
        "    execInstruction = 4;\n",
        "\n",
        "    for first in range(n):\n",
        "        execInstruction += 2\n",
        "        for second in range(first + 1, n):\n",
        "            execInstruction += 3\n",
        "            aux_product = numbers[first] * numbers[second]\n",
        "            if max_product < aux_product:\n",
        "                execInstruction += 1\n",
        "                max_product = aux_product\n",
        "\n",
        "    return max_product, execInstruction\n",
        "\n",
        "if __name__ == '__main__':\n",
        "    execInstruction = 0\n",
        "    n = int(input())\n",
        "    execInstruction += 1\n",
        "    numbers = list(map(int, input().split()))\n",
        "    execInstruction += n\n",
        "    execInstruction += 2 * n\n",
        "\n",
        "    start_time = time.time()\n",
        "    result, instructionCount = max_pairwise_product(numbers)\n",
        "    end_time = time.time()\n",
        "    duration = (end_time - start_time) * 1e6  # in microseconds\n",
        "\n",
        "    print(result)\n",
        "    print(\"--- %s microseconds ---\" % duration)\n",
        "    print(\"Approximate executed instructions:\", instructionCount)\n",
        "    print(\"Time per instruction: %s microseconds\" % (duration / instructionCount))\n"
      ]
    },
    {
      "cell_type": "markdown",
      "metadata": {
        "id": "ey3FDB29p4T1"
      },
      "source": [
        "Performance comparative  c++ vs python"
      ]
    },
    {
      "cell_type": "code",
      "execution_count": null,
      "metadata": {
        "id": "mxIVvm1RK8dB",
        "colab": {
          "base_uri": "https://localhost:8080/"
        },
        "outputId": "3869bff3-6778-4242-a1e0-6a9fb9634bb3"
      },
      "outputs": [
        {
          "output_type": "stream",
          "name": "stdout",
          "text": [
            "python\n",
            "120989000\n",
            "--- 11365406.99005127 microseconds ---\n",
            "Approximate executed instructions: 181620545\n",
            "Time per instruction: 0.06257776062752851 microseconds\n",
            "c++\n",
            "120989000\n",
            "Time taken by function: 449940 microseconds\n",
            "Approximate executed instructions: 181664546\n",
            "Time per instruction: 0.00247676 microseconds\n"
          ]
        }
      ],
      "source": [
        "!echo python\n",
        "!python max_pairwise_product_long_details.py < input13.txt\n",
        "!echo c++\n",
        "!g++ max_pairwise_product_long_details.cpp -o max_pairwise_product_long_details\n",
        "!./max_pairwise_product_long_details< input13.txt"
      ]
    },
    {
      "cell_type": "markdown",
      "metadata": {
        "id": "1Hsbd-uHOb_j"
      },
      "source": [
        "### Sort solution in C++ and Python\n",
        "\n",
        "$$ O(n \\lg n)$$\n",
        "\n",
        "**Which sorting algorithm is used in GCC?**\n",
        "https://stackoverflow.com/questions/7221257/which-sorting-algorithm-is-used-in-gcc\n",
        "\n",
        "* ...  the algorithm is called introsort, a combination between Insertionsort, Quicksort & Heapsort. ...\n",
        "\n",
        "**Introsort**\n",
        "https://en.wikipedia.org/wiki/Introsort\n",
        "\n",
        "Introsort or introspective sort is a hybrid sorting algorithm that provides both fast average performance and (asymptotically) optimal worst-case performance. It begins with quicksort, it switches to heapsort when the recursion depth exceeds a level based on (the logarithm of) the number of elements being sorted and it switches to insertion sort when the number of elements is below some threshold\n",
        "\n",
        "*   Class\tSorting algorithm\n",
        "*   Data structure\tArray\n",
        "*   Worst-case performance\t$O(n \\lg n)$\n",
        "*   Average performance\t$O(n \\lg n)$\n",
        "\n",
        "**Tinsort**\n",
        "https://en.wikipedia.org/wiki/Timsort\n",
        "\n",
        "Timsort is a hybrid, stable sorting algorithm, derived from merge sort and insertion sort, designed to perform well on many kinds of real-world data. It was implemented by Tim Peters in 2002 for use in the Python programming language.\n",
        "\n",
        "*   Class\tSorting algorithm\n",
        "*   Data structure\tArray\n",
        "*   Worst-case performance\t$O(n \\lg n)$\n",
        "*   Best-case performance $O(n)$\n",
        "*   Average performance\t$O(n \\lg n)$\n",
        "*   Worst-case space complexity $O(n)$"
      ]
    },
    {
      "cell_type": "markdown",
      "metadata": {
        "id": "WMUthAXjOb_k"
      },
      "source": [
        "Add in each line a coment with the number of intstrcution that are executed in that line"
      ]
    },
    {
      "cell_type": "code",
      "execution_count": null,
      "metadata": {
        "id": "2-sXOmqFOb_k",
        "colab": {
          "base_uri": "https://localhost:8080/"
        },
        "outputId": "15791e63-74c3-4941-fb16-7e783bc15b6c"
      },
      "outputs": [
        {
          "output_type": "stream",
          "name": "stdout",
          "text": [
            "Overwriting max_pairwise_product_optimized_n_log_n.cpp\n"
          ]
        }
      ],
      "source": [
        "%%writefile max_pairwise_product_optimized_n_log_n.cpp\n",
        "#include <iostream>\n",
        "#include <vector>\n",
        "#include <algorithm>\n",
        "#include <chrono>\n",
        "#include <cmath>\n",
        "\n",
        "long long MaxPairwiseProduct(std::vector<int>& numbers, long long &execInstruction) {   // N inst exec by line executed\n",
        "    execInstruction += 1;                                       // 1\n",
        "    int n = numbers.size();                                                               // 1\n",
        "    execInstruction += 4;                              // 1\n",
        "\n",
        "    std::sort(numbers.begin(), numbers.end()); // O(n log n)\n",
        "    execInstruction += n * log2(n); // sorting takes n log n comparisons in average       // 1\n",
        "\n",
        "    long long max_product = (long long) numbers[n - 1] * numbers[n - 2];                  // 2\n",
        "    execInstruction += 3;                         // 1\n",
        "\n",
        "    return max_product;                                                                   // 1\n",
        "} // Total for MaxPairwiseProduct: 1 + 1 + 1 + n log n + 1 + 2 + 1 + 1 = 8 + n log n\n",
        "\n",
        "int main() {                                                            // N inst exec by line executed\n",
        "    long long execInstruction = 0;                                      // 1\n",
        "    int n;                                                              // 1\n",
        "    std::cin >> n;                                                      // 1\n",
        "    execInstruction += 1; // for reading n                              // 1\n",
        "\n",
        "    std::vector<int> numbers(n);                                        // n\n",
        "    execInstruction += n; // for initializing the vector with n elements// 1\n",
        "\n",
        "    for (int i = 0; i < n; ++i) {                                       // 1 + 2n\n",
        "        execInstruction += 2;  // 1\n",
        "        std::cin >> numbers[i];                                         // n\n",
        "        execInstruction += 1;                 // 1\n",
        "    }                                                                   // Total for loop: 1 + 2n + n + 1 + 1 = 3n + 3\n",
        "\n",
        "    auto start = std::chrono::high_resolution_clock::now();             // 1\n",
        "    long long result = MaxPairwiseProduct(numbers, execInstruction);    // 1 + (8 + n log n)\n",
        "    auto stop = std::chrono::high_resolution_clock::now();              // 1\n",
        "    auto duration = std::chrono::duration_cast<std::chrono::microseconds>(stop - start).count(); // 1\n",
        "    execInstruction += 4; // for calling the function and the assignments // 1\n",
        "\n",
        "    std::cout << result << \"\\n\";                                        // 1\n",
        "    execInstruction += 1; // for printing result                        // 1\n",
        "\n",
        "    std::cout << \"Time taken by function: \" << duration << \" microseconds\" << std::endl; // 1\n",
        "    execInstruction += 1; // for printing duration                      // 1\n",
        "\n",
        "    std::cout << \"Approximate executed instructions: \" << execInstruction << std::endl; // 1\n",
        "    execInstruction += 1; // for printing execInstruction               // 1\n",
        "\n",
        "    std::cout << \"Time per instruction: \" << (double)duration / execInstruction << \" microseconds\" << std::endl; // 1\n",
        "    execInstruction += 1; // for printing time per instruction          // 1\n",
        "\n",
        "    return 0;                                                           // 1\n",
        "} // Total for main: 4 + n + 1 + (3n + 3) + 1 + (8 + n log n) + 12 = 29 + 4n + n log n\n"
      ]
    },
    {
      "cell_type": "markdown",
      "metadata": {
        "id": "v8pdV9ABOb_k"
      },
      "source": [
        "Test with inputs 1 and 2\n",
        "\n"
      ]
    },
    {
      "cell_type": "code",
      "execution_count": null,
      "metadata": {
        "id": "kdXAyLG4Ob_k",
        "colab": {
          "base_uri": "https://localhost:8080/"
        },
        "outputId": "08d8df56-359c-478a-8ab1-3ee909ba3d38"
      },
      "outputs": [
        {
          "output_type": "stream",
          "name": "stdout",
          "text": [
            "c++ introsort\n",
            "120989000\n",
            "Time taken by function: 2329 microseconds\n",
            "Approximate executed instructions: 191692\n",
            "Time per instruction: 0.0121496 microseconds\n"
          ]
        }
      ],
      "source": [
        "!echo c++ introsort\n",
        "!g++ max_pairwise_product_optimized_n_log_n.cpp -o max_pairwise_product_optimized_n_log_n\n",
        "!./max_pairwise_product_optimized_n_log_n< input13.txt"
      ]
    },
    {
      "cell_type": "markdown",
      "metadata": {
        "id": "Sw-5X1q1Ob_k"
      },
      "source": [
        "# Python introsort"
      ]
    },
    {
      "cell_type": "code",
      "execution_count": null,
      "metadata": {
        "id": "ryHJ30WIOb_k",
        "colab": {
          "base_uri": "https://localhost:8080/"
        },
        "outputId": "c9f52f70-c4ba-4707-bc35-1787c07d26e2"
      },
      "outputs": [
        {
          "output_type": "stream",
          "name": "stdout",
          "text": [
            "Overwriting max_pairwise_product_optimized_timsort.py\n"
          ]
        }
      ],
      "source": [
        "%%writefile max_pairwise_product_optimized_timsort.py\n",
        "import time\n",
        "from math import log2\n",
        "\n",
        "def max_pairwise_product(numbers): # 8 + n log n\n",
        "    execInstruction = 1  # 1\n",
        "    n = len(numbers)     # 1\n",
        "    execInstruction += 1  # 1\n",
        "\n",
        "    # Python usa Timsort (variante de Introsort) por defecto, con una complejidad de O(n log n)\n",
        "    numbers.sort()        # n log n\n",
        "    execInstruction += int(n * (log2(n) if n > 1 else 1))  # 1\n",
        "\n",
        "    max_product = numbers[-1] * numbers[-2]  # 2 (acceso a elementos y multiplicación)\n",
        "    execInstruction += 2  # 1\n",
        "\n",
        "    return max_product, execInstruction  # 1\n",
        "\n",
        "if __name__ == '__main__':\n",
        "    execInstruction = 0  # 1\n",
        "    n = int(input())     # 1\n",
        "    execInstruction += 1  # 1\n",
        "\n",
        "    numbers = list(map(int, input().split()))  # n para la conversión + n para la creación de la lista\n",
        "    execInstruction += 2 * n  # 1\n",
        "\n",
        "    start_time = time.time()  # 1\n",
        "    result, instructionCount = max_pairwise_product(numbers)  # 1 + (8 + n log n )\n",
        "    end_time = time.time()  # 1\n",
        "    duration = (end_time - start_time) * 1e6  # in microseconds  # 1\n",
        "    execInstruction += 4  # 1\n",
        "\n",
        "    print(result)  # 1\n",
        "    print(f\"--- {duration} microseconds ---\")  # 1\n",
        "    print(\"Approximate executed instructions:\", instructionCount)  # 1\n",
        "    print(f\"Time per instruction: {duration / instructionCount} microseconds\")  # 1\n",
        "    execInstruction += 4  # Instrucciones de print\n"
      ]
    },
    {
      "cell_type": "markdown",
      "metadata": {
        "id": "oJGdPl1HOb_k"
      },
      "source": [
        "20 stress tests"
      ]
    },
    {
      "cell_type": "code",
      "execution_count": null,
      "metadata": {
        "id": "pXHtO1dEOb_k",
        "colab": {
          "base_uri": "https://localhost:8080/"
        },
        "outputId": "86f6fa25-8caf-4cdf-8687-3eb640fdbc43"
      },
      "outputs": [
        {
          "output_type": "stream",
          "name": "stdout",
          "text": [
            "python timsort\n",
            "120989000\n",
            "--- 110.626220703125 microseconds ---\n",
            "Approximate executed instructions: 147681\n",
            "Time per instruction: 0.0007490890548081676 microseconds\n"
          ]
        }
      ],
      "source": [
        "!echo python timsort\n",
        "!python max_pairwise_product_optimized_timsort.py < input13.txt"
      ]
    },
    {
      "cell_type": "markdown",
      "metadata": {
        "id": "2beTmWFPOb_k"
      },
      "source": [
        "Count executed instructions in code and verify with inputs 1,2 and 3\n"
      ]
    },
    {
      "cell_type": "code",
      "execution_count": null,
      "metadata": {
        "id": "iuByv4x1Ob_k",
        "colab": {
          "base_uri": "https://localhost:8080/"
        },
        "outputId": "bb63c3c3-2534-4076-d917-d954d1eb9baf"
      },
      "outputs": [
        {
          "output_type": "stream",
          "name": "stdout",
          "text": [
            "c++ introsort\n",
            "120989000\n",
            "Time taken by function: 2508 microseconds\n",
            "Approximate executed instructions: 191692\n",
            "Time per instruction: 0.0130834 microseconds\n",
            "python timsort\n",
            "120989000\n",
            "--- 417.2325134277344 microseconds ---\n",
            "Approximate executed instructions: 147681\n",
            "Time per instruction: 0.0028252281161945977 microseconds\n"
          ]
        }
      ],
      "source": [
        "!echo c++ introsort\n",
        "!g++ max_pairwise_product_optimized_n_log_n.cpp -o max_pairwise_product_optimized_n_log_n\n",
        "!./max_pairwise_product_optimized_n_log_n< input13.txt\n",
        "!echo python timsort\n",
        "!python max_pairwise_product_optimized_timsort.py < input13.txt"
      ]
    },
    {
      "cell_type": "markdown",
      "metadata": {
        "id": "nLcKBwbU0QsE"
      },
      "source": [
        "Add in each line a coment with the number of intstrcution that are executed in that line"
      ]
    },
    {
      "cell_type": "markdown",
      "metadata": {
        "id": "sUpIWcykOGpT"
      },
      "source": [
        "### Super efficient solution\n",
        "\n",
        "Whitout storing the list in memory, only stpring the largest and second largest and whitout calling a function, add in each line a coment with the number of instructions that are executed in that line\n",
        "\n",
        "in C++ and Python\n",
        " $$2 n = O(n)$$"
      ]
    },
    {
      "cell_type": "code",
      "execution_count": null,
      "metadata": {
        "id": "hBLt_xBQLy8E",
        "colab": {
          "base_uri": "https://localhost:8080/"
        },
        "outputId": "1b41ac30-e4ae-4732-c61a-a58545ed930e"
      },
      "outputs": [
        {
          "output_type": "stream",
          "name": "stdout",
          "text": [
            "Overwriting max_pairwise_product_optimized_n.cpp\n"
          ]
        }
      ],
      "source": [
        "%%writefile max_pairwise_product_optimized_n.cpp\n",
        "#include <iostream>\n",
        "#include <chrono>\n",
        "\n",
        "int main() {\n",
        "    int execInstruction = 0;                        // 1 (Inicialización)\n",
        "    long long max1 = -1, max2 = -1;                 // 2 (Inicializaciones)\n",
        "    int n;                                          // 1 (Declaración)\n",
        "    std::cin >> n;                                  // 1 (Lectura de n)\n",
        "    execInstruction += 5;                           // 1 (Sumar instrucciones previas)\n",
        "\n",
        "    auto start = std::chrono::high_resolution_clock::now();   // 1 (Obtener tiempo de inicio)\n",
        "    execInstruction++;                                         // 1 (Sumar instrucción de obtener tiempo)\n",
        "\n",
        "    for(int i = 0; i < n; ++i) {                    // 1 + 2n (Inicialización, comparación e incremento en cada iteración)\n",
        "        long long num;                              // n (Declaración en cada iteración)\n",
        "        std::cin >> num;                            // n (Lectura en cada iteración)\n",
        "        execInstruction += 2;                       // n (Sumar instrucciones de declaración y lectura)\n",
        "\n",
        "        if(num > max1) {                            // n (Comparación en cada iteración)\n",
        "            max2 = max1;                            // [0, n] (Asignación en el peor caso en todas las iteraciones)\n",
        "            max1 = num;                             // [0, n] (Asignación en el peor caso en todas las iteraciones)\n",
        "        } else if(num > max2) {                     // [0, n] (Comparación en el peor caso en todas las iteraciones)\n",
        "            max2 = num;                             // [0, n] (Asignación en el peor caso en todas las iteraciones)\n",
        "        }\n",
        "        execInstruction += 1;                       // n (Sumar instrucciones de comparación)\n",
        "    }\n",
        "\n",
        "    auto stop = std::chrono::high_resolution_clock::now();   // 1 (Obtener tiempo de fin)\n",
        "    execInstruction++;                                       // 1 (Sumar instrucción de obtener tiempo)\n",
        "\n",
        "    auto duration = std::chrono::duration_cast<std::chrono::microseconds>(stop - start).count();  // 1 (Calcular duración)\n",
        "    execInstruction++;                                                                                      // 1 (Sumar instrucción de calcular duración)\n",
        "\n",
        "    std::cout << max1 * max2 << \"\\n\";                       // 1 (Multiplicación y salida)\n",
        "    execInstruction += 1;                                    // 1 (Sumar instrucción de multiplicación y salida)\n",
        "\n",
        "    std::cout << \"Time taken by function: \" << duration << \" microseconds\" << std::endl; // 1\n",
        "    execInstruction += 1;  // for printing duration                                       // 1\n",
        "\n",
        "    std::cout << \"Approximate executed instructions: \" << execInstruction << std::endl; // 1\n",
        "    execInstruction += 1;  // for printing execInstruction                                // 1\n",
        "\n",
        "    std::cout << \"Time per instruction: \" << (double)duration / execInstruction << \" microseconds\" << std::endl; // 1\n",
        "    execInstruction += 1;  // for printing time per instruction                                                  // 1\n",
        "\n",
        "    return 0;\n",
        "}\n",
        "\n"
      ]
    },
    {
      "cell_type": "markdown",
      "metadata": {
        "id": "683gc3roHqzb"
      },
      "source": [
        "Test with inputs 1 and 2\n",
        "\n",
        "\n"
      ]
    },
    {
      "cell_type": "code",
      "execution_count": null,
      "metadata": {
        "id": "b7d4LA8OIc2_",
        "colab": {
          "base_uri": "https://localhost:8080/"
        },
        "outputId": "3990178f-1a59-4aad-8710-b53304342e85"
      },
      "outputs": [
        {
          "output_type": "stream",
          "name": "stdout",
          "text": [
            "c++ n\n",
            "120989000\n",
            "Time taken by function: 5396 microseconds\n",
            "Approximate executed instructions: 33010\n",
            "Time per instruction: 0.163461 microseconds\n"
          ]
        }
      ],
      "source": [
        "!echo c++ n\n",
        "!g++ max_pairwise_product_optimized_n.cpp -o max_pairwise_product_optimized_n\n",
        "!./max_pairwise_product_optimized_n< input13.txt"
      ]
    },
    {
      "cell_type": "markdown",
      "metadata": {
        "id": "sy33CNNfPxcE"
      },
      "source": [
        "### Super efficient solution in Python\n",
        "\n",
        "Whitout storing the list in memory and whitout calling a function, add in each line a coment with the number of intstrcution that are executed in that line"
      ]
    },
    {
      "cell_type": "code",
      "execution_count": null,
      "metadata": {
        "id": "_mOjJwKrPxcJ",
        "colab": {
          "base_uri": "https://localhost:8080/"
        },
        "outputId": "baa94a75-a55e-4e27-fade-ac08e5469b08"
      },
      "outputs": [
        {
          "output_type": "stream",
          "name": "stdout",
          "text": [
            "Overwriting max_pairwise_product_optimized_n.py\n"
          ]
        }
      ],
      "source": [
        "%%writefile max_pairwise_product_optimized_n.py\n",
        "import time\n",
        "\n",
        "exec_instruction = 0  # 1\n",
        "max1, max2 = -1, -1  # 2\n",
        "n = int(input())  # 1\n",
        "exec_instruction += 4  # 1\n",
        "\n",
        "numbers = list(map(int, input().split()))  # 1 + 2n (Crear lista y convertir cada elemento)\n",
        "exec_instruction += 1 + 2 * len(numbers)\n",
        "\n",
        "start_time = time.time()  # 1 (Obtener tiempo de inicio)\n",
        "exec_instruction += 1  # 1\n",
        "\n",
        "for num in numbers:  # 1 + n (Inicialización y comparación en cada iteración)\n",
        "    if num > max1:\n",
        "        max2 = max1\n",
        "        max1 = num\n",
        "    elif num > max2:\n",
        "        max2 = num\n",
        "    exec_instruction += 1  # n\n",
        "\n",
        "end_time = time.time()  # 1 (Obtener tiempo de fin)\n",
        "exec_instruction += 1  # 1 (Sumar instrucción de obtener tiempo)\n",
        "\n",
        "duration = (end_time - start_time) * 1e6  # 1 (Calcular duración en microsegundos)\n",
        "exec_instruction += 1  # 1 (Sumar instrucción de calcular duración)\n",
        "\n",
        "print(max1 * max2)  # 1 (Multiplicación y salida)\n",
        "exec_instruction += 1  # 1 (Sumar instrucción de multiplicación y salida)\n",
        "\n",
        "print(f\"Time taken by function: {duration} microseconds\")  # 1\n",
        "exec_instruction += 1    # 1\n",
        "\n",
        "print(f\"Approximate executed instructions: {exec_instruction}\")  # 1\n",
        "exec_instruction += 1    # 1\n",
        "\n",
        "print(f\"Time per instruction: {duration / exec_instruction} microseconds\")  # 1\n",
        "exec_instruction += 1  # for printing time per instruction  # 1\n"
      ]
    },
    {
      "cell_type": "markdown",
      "metadata": {
        "id": "K08Eow0hPxcJ"
      },
      "source": [
        "Test with inputs 1 and 2\n",
        "\n",
        "\n"
      ]
    },
    {
      "cell_type": "code",
      "execution_count": null,
      "metadata": {
        "id": "1_mUee2cPxcJ",
        "colab": {
          "base_uri": "https://localhost:8080/"
        },
        "outputId": "c5bfd94e-206e-44bb-9c36-b434f8b112c5"
      },
      "outputs": [
        {
          "output_type": "stream",
          "name": "stdout",
          "text": [
            "python n\n",
            "120989000\n",
            "Time taken by function: 6119.728088378906 microseconds\n",
            "Approximate executed instructions: 33010\n",
            "Time per instruction: 0.18538451087149455 microseconds\n"
          ]
        }
      ],
      "source": [
        "!echo python n\n",
        "!python max_pairwise_product_optimized_n.py < input13.txt"
      ]
    },
    {
      "cell_type": "markdown",
      "metadata": {
        "id": "R6qeUjPaPxcK"
      },
      "source": [
        "Comparación C++ y Python"
      ]
    },
    {
      "cell_type": "code",
      "execution_count": null,
      "metadata": {
        "id": "iLdXYvn3PxcK",
        "colab": {
          "base_uri": "https://localhost:8080/"
        },
        "outputId": "9be30b8a-e35f-471f-f2fa-49bdf162487d"
      },
      "outputs": [
        {
          "output_type": "stream",
          "name": "stdout",
          "text": [
            "c++ n\n",
            "120989000\n",
            "Time taken by function: 4512 microseconds\n",
            "Approximate executed instructions: 33010\n",
            "Time per instruction: 0.136682 microseconds\n",
            "python n\n",
            "120989000\n",
            "Time taken by function: 2585.172653198242 microseconds\n",
            "Approximate executed instructions: 33010\n",
            "Time per instruction: 0.07831246109473333 microseconds\n"
          ]
        }
      ],
      "source": [
        "!echo c++ n\n",
        "!g++ max_pairwise_product_optimized_n.cpp -o max_pairwise_product_optimized_n\n",
        "!./max_pairwise_product_optimized_n< input13.txt\n",
        "\n",
        "!echo python n\n",
        "!python max_pairwise_product_optimized_n.py < input13.txt"
      ]
    }
  ],
  "metadata": {
    "colab": {
      "provenance": [],
      "include_colab_link": true
    },
    "kernelspec": {
      "display_name": "Python 3",
      "name": "python3"
    },
    "language_info": {
      "name": "python"
    }
  },
  "nbformat": 4,
  "nbformat_minor": 0
}